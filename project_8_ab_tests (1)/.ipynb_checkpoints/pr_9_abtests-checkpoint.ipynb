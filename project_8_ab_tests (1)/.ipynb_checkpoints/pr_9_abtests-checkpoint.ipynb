{
 "cells": [
  {
   "cell_type": "markdown",
   "metadata": {},
   "source": [
    "<a id='101-bullet'></a>\n",
    "# Исследование изменения шрифтов в мобильном приложении\n",
    "\n",
    "Перед нами данные стартапа, который продаёт продукты питания. Разберемся, как ведут себя пользователи мобильного приложения и изучим воронку продаж.\n",
    "\n",
    "Дизайнеры захотели поменять шрифты во всём приложении, а менеджеры считают, что пользователям будет непривычно. Договорились принять решение по результатам A/A/B-теста. Пользователей разбили на 3 группы: 2 контрольные со старыми шрифтами и одну экспериментальную — с новыми. Выясним, какой шрифт лучше.\n",
    "_____________________________________________________________________________________\n",
    "# 1. Первичный анализ и подготовка данных\n",
    "* [1.1 Изучение информации о данных;](#1-bullet)\n",
    "* [1.2 Изменение наименований столбцов;](#2-bullet)\n",
    "* [1.3 Проверка данных на наличие в них пропусков и дубликатов;](#3-bullet)\n",
    "* [1.4 Анализ и изменение типов данных и добавление необходимых аналитик;](#4-bullet)\n",
    "        \n",
    "# 2. Изучение и проверка данных\n",
    "* [2.1 Сколько всего событий и пользователей в логе?;](#5-bullet)\n",
    "* [2.2 Сколько в среднем событий приходится на пользователя?;](#6-bullet)\n",
    "* [2.3 Анализ полноты данных;](#7-bullet)\n",
    "* [2.4 Оценка потери данных после фильтрации;](#8-bullet)\n",
    "* [2.5 Проверка наличия в отфильтрованных данных пользователей всех групп;](#9-bullet)\n",
    "\n",
    "# 3. Изучение воронки событий\n",
    "* [3.1 Анализ событий;](#10-bullet)\n",
    "* [3.2 Предположительный порядок событий;](#11-bullet)\n",
    "* [3.3 На каком шаге больше всего пользователей теряется?;](#12-bullet)\n",
    "* [3.4 Какая доля пользователей доходит от первого события до оплаты?;](#13-bullet)\n",
    "\n",
    "# 4. Изучение результата эксперимента\n",
    "* [4.1 Сколько пользователей в каждой экспериментальной группе?;](#14-bullet)\n",
    "* [4.2 Анализ различий между группами АА;](#15-bullet)\n",
    "* [4.3 Анализ группы событий в группе В и поиск различий с контрольными группами;](#16-bullet)\n",
    "* [4.4 Анализ выбранного уровня значимости;](#17-bullet)\n",
    "\n",
    "# 5. Общий вывод\n",
    "* [5.1 Вывод;](#18-bullet)\n",
    "___________________________   \n",
    "###### Описание данных:\n",
    "Каждая запись в логе — это действие пользователя, или событие.\n",
    "\n",
    "Данные состоят из следующих колонок:\n",
    "1. EventName — название события;\n",
    "2. DeviceIDHash — уникальный идентификатор пользователя;\n",
    "3. EventTimestamp — время события;\n",
    "4. ExpId — номер эксперимента: 246 и 247 — контрольные группы, а 248 — экспериментальная."
   ]
  },
  {
   "cell_type": "code",
   "execution_count": 1,
   "metadata": {},
   "outputs": [],
   "source": [
    "#загрузим необходимые библиотеки\n",
    "import pandas as pd\n",
    "import scipy.stats as stats\n",
    "import datetime as dt\n",
    "import numpy as np\n",
    "import matplotlib.pyplot as plt\n",
    "import math as mth\n",
    "from pandas.plotting import register_matplotlib_converters as rmc\n",
    "from IPython.display import Image\n",
    "import plotly.express as px"
   ]
  },
  {
   "cell_type": "markdown",
   "metadata": {},
   "source": [
    "##  Первичный анализ и подготовка данных\n",
    "<a id='1-bullet'></a>\n",
    "### Изучение информации о данных\n",
    "[К оглавлению](#101-bullet)"
   ]
  },
  {
   "cell_type": "code",
   "execution_count": 2,
   "metadata": {},
   "outputs": [
    {
     "name": "stdout",
     "output_type": "stream",
     "text": [
      "<class 'pandas.core.frame.DataFrame'>\n",
      "RangeIndex: 244126 entries, 0 to 244125\n",
      "Data columns (total 4 columns):\n",
      "EventName         244126 non-null object\n",
      "DeviceIDHash      244126 non-null int64\n",
      "EventTimestamp    244126 non-null int64\n",
      "ExpId             244126 non-null int64\n",
      "dtypes: int64(3), object(1)\n",
      "memory usage: 7.5+ MB\n"
     ]
    }
   ],
   "source": [
    "#прочитаем данные, посмотрим информацию о данных\n",
    "df = pd.read_csv('/datasets/logs_exp.csv', sep='\\t')\n",
    "df.info()"
   ]
  },
  {
   "cell_type": "markdown",
   "metadata": {},
   "source": [
    "Данные успешно прочитаны и записаны в переменную. В датасете 4 столбца и 244126 строк."
   ]
  },
  {
   "cell_type": "markdown",
   "metadata": {},
   "source": [
    "<a id='2-bullet'></a>\n",
    "### Изменение наименований столбцов\n",
    "[К оглавлению](#101-bullet)"
   ]
  },
  {
   "cell_type": "code",
   "execution_count": 3,
   "metadata": {},
   "outputs": [
    {
     "data": {
      "text/html": [
       "<div>\n",
       "<style scoped>\n",
       "    .dataframe tbody tr th:only-of-type {\n",
       "        vertical-align: middle;\n",
       "    }\n",
       "\n",
       "    .dataframe tbody tr th {\n",
       "        vertical-align: top;\n",
       "    }\n",
       "\n",
       "    .dataframe thead th {\n",
       "        text-align: right;\n",
       "    }\n",
       "</style>\n",
       "<table border=\"1\" class=\"dataframe\">\n",
       "  <thead>\n",
       "    <tr style=\"text-align: right;\">\n",
       "      <th></th>\n",
       "      <th>event_name</th>\n",
       "      <th>uid</th>\n",
       "      <th>event_time</th>\n",
       "      <th>exp_id</th>\n",
       "    </tr>\n",
       "  </thead>\n",
       "  <tbody>\n",
       "    <tr>\n",
       "      <td>0</td>\n",
       "      <td>MainScreenAppear</td>\n",
       "      <td>4575588528974610257</td>\n",
       "      <td>1564029816</td>\n",
       "      <td>246</td>\n",
       "    </tr>\n",
       "    <tr>\n",
       "      <td>1</td>\n",
       "      <td>MainScreenAppear</td>\n",
       "      <td>7416695313311560658</td>\n",
       "      <td>1564053102</td>\n",
       "      <td>246</td>\n",
       "    </tr>\n",
       "    <tr>\n",
       "      <td>2</td>\n",
       "      <td>PaymentScreenSuccessful</td>\n",
       "      <td>3518123091307005509</td>\n",
       "      <td>1564054127</td>\n",
       "      <td>248</td>\n",
       "    </tr>\n",
       "    <tr>\n",
       "      <td>3</td>\n",
       "      <td>CartScreenAppear</td>\n",
       "      <td>3518123091307005509</td>\n",
       "      <td>1564054127</td>\n",
       "      <td>248</td>\n",
       "    </tr>\n",
       "    <tr>\n",
       "      <td>4</td>\n",
       "      <td>PaymentScreenSuccessful</td>\n",
       "      <td>6217807653094995999</td>\n",
       "      <td>1564055322</td>\n",
       "      <td>248</td>\n",
       "    </tr>\n",
       "  </tbody>\n",
       "</table>\n",
       "</div>"
      ],
      "text/plain": [
       "                event_name                  uid  event_time  exp_id\n",
       "0         MainScreenAppear  4575588528974610257  1564029816     246\n",
       "1         MainScreenAppear  7416695313311560658  1564053102     246\n",
       "2  PaymentScreenSuccessful  3518123091307005509  1564054127     248\n",
       "3         CartScreenAppear  3518123091307005509  1564054127     248\n",
       "4  PaymentScreenSuccessful  6217807653094995999  1564055322     248"
      ]
     },
     "execution_count": 3,
     "metadata": {},
     "output_type": "execute_result"
    }
   ],
   "source": [
    "#изменим наименования столбцов\n",
    "df.columns = ['event_name', 'uid', 'event_time', 'exp_id']\n",
    "df.head()"
   ]
  },
  {
   "cell_type": "markdown",
   "metadata": {},
   "source": [
    "Успешно перименовали столбцы в удобные нам."
   ]
  },
  {
   "cell_type": "markdown",
   "metadata": {},
   "source": [
    "<a id='3-bullet'></a>\n",
    "### Проверка данных на наличие в них пропусков и дубликатов\n",
    "[К оглавлению](#101-bullet)"
   ]
  },
  {
   "cell_type": "code",
   "execution_count": 4,
   "metadata": {},
   "outputs": [
    {
     "name": "stdout",
     "output_type": "stream",
     "text": [
      "Количество дубликатов 413, это 0.17% от общего объема данных\n",
      "Дубликаты успешно удалены\n",
      "\n",
      "Количество пропусков\n"
     ]
    },
    {
     "data": {
      "text/plain": [
       "event_name    0\n",
       "uid           0\n",
       "event_time    0\n",
       "exp_id        0\n",
       "dtype: int64"
      ]
     },
     "execution_count": 4,
     "metadata": {},
     "output_type": "execute_result"
    }
   ],
   "source": [
    "#посчитаем количество дубликатов и их долю\n",
    "print('Количество дубликатов {}, это {:.2%} от общего объема данных'\n",
    "      .format(df.duplicated().sum(), df.duplicated().sum() / df.shape[0]))\n",
    "\n",
    "#удалим дубликаты\n",
    "df = df.drop_duplicates()\n",
    "if df.duplicated().sum() == 0:\n",
    "    print('Дубликаты успешно удалены')\n",
    "    print()\n",
    "else:\n",
    "    print('Не удалось удалить дубликаты')\n",
    "    print()\n",
    "    \n",
    "print('Количество пропусков')\n",
    "df.isnull().sum()"
   ]
  },
  {
   "cell_type": "markdown",
   "metadata": {},
   "source": [
    "Обнаружилось 413 дубликатов (0,17% от общего объема данных). Каждая запись - это событие, а в датасете есть время события и идентификатор пользователя. Поэтому дубликаты могли возникнуть скорее из-за технических ошибок, например переподключения после потери совединения. Вопрос почему они образаовались необходимо задать команде выгрузки данных. Пропусков не обнаружено."
   ]
  },
  {
   "cell_type": "markdown",
   "metadata": {},
   "source": [
    "<a id='4-bullet'></a>\n",
    "### Анализ и изменение типов данных и добавление необходимых аналитик\n",
    "[К оглавлению](#101-bullet)"
   ]
  },
  {
   "cell_type": "code",
   "execution_count": 5,
   "metadata": {},
   "outputs": [
    {
     "name": "stdout",
     "output_type": "stream",
     "text": [
      "<class 'pandas.core.frame.DataFrame'>\n",
      "Int64Index: 243713 entries, 0 to 244125\n",
      "Data columns (total 4 columns):\n",
      "event_name    243713 non-null object\n",
      "uid           243713 non-null int64\n",
      "event_time    243713 non-null int64\n",
      "exp_id        243713 non-null int64\n",
      "dtypes: int64(3), object(1)\n",
      "memory usage: 9.3+ MB\n"
     ]
    }
   ],
   "source": [
    "#проверим какие типы данных необходимо изменить\n",
    "df.info()"
   ]
  },
  {
   "cell_type": "code",
   "execution_count": 6,
   "metadata": {},
   "outputs": [
    {
     "data": {
      "text/html": [
       "<div>\n",
       "<style scoped>\n",
       "    .dataframe tbody tr th:only-of-type {\n",
       "        vertical-align: middle;\n",
       "    }\n",
       "\n",
       "    .dataframe tbody tr th {\n",
       "        vertical-align: top;\n",
       "    }\n",
       "\n",
       "    .dataframe thead th {\n",
       "        text-align: right;\n",
       "    }\n",
       "</style>\n",
       "<table border=\"1\" class=\"dataframe\">\n",
       "  <thead>\n",
       "    <tr style=\"text-align: right;\">\n",
       "      <th></th>\n",
       "      <th>event_name</th>\n",
       "      <th>uid</th>\n",
       "      <th>event_time</th>\n",
       "      <th>exp_id</th>\n",
       "      <th>date</th>\n",
       "    </tr>\n",
       "  </thead>\n",
       "  <tbody>\n",
       "    <tr>\n",
       "      <td>16743</td>\n",
       "      <td>CartScreenAppear</td>\n",
       "      <td>6093254895669475889</td>\n",
       "      <td>2019-08-01 11:34:18</td>\n",
       "      <td>247</td>\n",
       "      <td>2019-08-01</td>\n",
       "    </tr>\n",
       "    <tr>\n",
       "      <td>162212</td>\n",
       "      <td>MainScreenAppear</td>\n",
       "      <td>7998022476218419476</td>\n",
       "      <td>2019-08-05 14:33:12</td>\n",
       "      <td>248</td>\n",
       "      <td>2019-08-05</td>\n",
       "    </tr>\n",
       "    <tr>\n",
       "      <td>190913</td>\n",
       "      <td>MainScreenAppear</td>\n",
       "      <td>3300490215914857621</td>\n",
       "      <td>2019-08-06 11:06:52</td>\n",
       "      <td>247</td>\n",
       "      <td>2019-08-06</td>\n",
       "    </tr>\n",
       "    <tr>\n",
       "      <td>7365</td>\n",
       "      <td>CartScreenAppear</td>\n",
       "      <td>8459733975219661242</td>\n",
       "      <td>2019-08-01 06:49:56</td>\n",
       "      <td>248</td>\n",
       "      <td>2019-08-01</td>\n",
       "    </tr>\n",
       "    <tr>\n",
       "      <td>59586</td>\n",
       "      <td>PaymentScreenSuccessful</td>\n",
       "      <td>4541932264061044120</td>\n",
       "      <td>2019-08-02 13:58:27</td>\n",
       "      <td>248</td>\n",
       "      <td>2019-08-02</td>\n",
       "    </tr>\n",
       "  </tbody>\n",
       "</table>\n",
       "</div>"
      ],
      "text/plain": [
       "                     event_name                  uid          event_time  \\\n",
       "16743          CartScreenAppear  6093254895669475889 2019-08-01 11:34:18   \n",
       "162212         MainScreenAppear  7998022476218419476 2019-08-05 14:33:12   \n",
       "190913         MainScreenAppear  3300490215914857621 2019-08-06 11:06:52   \n",
       "7365           CartScreenAppear  8459733975219661242 2019-08-01 06:49:56   \n",
       "59586   PaymentScreenSuccessful  4541932264061044120 2019-08-02 13:58:27   \n",
       "\n",
       "        exp_id        date  \n",
       "16743      247  2019-08-01  \n",
       "162212     248  2019-08-05  \n",
       "190913     247  2019-08-06  \n",
       "7365       248  2019-08-01  \n",
       "59586      248  2019-08-02  "
      ]
     },
     "execution_count": 6,
     "metadata": {},
     "output_type": "execute_result"
    }
   ],
   "source": [
    "#изменим тип данных в столбце даты и времени и выделим дату в отдельный столбец\n",
    "df['event_time'] = pd.to_datetime(df['event_time'], unit='s')\n",
    "df['date'] = df['event_time'].dt.date\n",
    "df.sample(5)"
   ]
  },
  {
   "cell_type": "markdown",
   "metadata": {},
   "source": [
    "Несоответствие типов данных и содержимого обнаружилось только в столбце с датой, успешно изменили в нем тип данных. Выделили в отдельную колонку дату."
   ]
  },
  {
   "cell_type": "markdown",
   "metadata": {},
   "source": [
    "##  Изучение и проверка данных\n",
    "<a id='5-bullet'></a>\n",
    "### Сколько всего событий и пользователей в логе?\n",
    "[К оглавлению](#101-bullet)"
   ]
  },
  {
   "cell_type": "code",
   "execution_count": 7,
   "metadata": {},
   "outputs": [
    {
     "name": "stdout",
     "output_type": "stream",
     "text": [
      "Всего данных 243713 событий\n",
      "Всего в данных 5 уникальных событий\n",
      "Всего в данных 7551 уникальных пользователей\n"
     ]
    }
   ],
   "source": [
    "#посчитаем сколько событий, их видов и уникальных пользователей в логе\n",
    "def q_uid_event(data):\n",
    "    print('Всего данных {} событий'.format(data.shape[0]))\n",
    "    print('Всего в данных {} уникальных событий'.format(len(data['event_name'].unique())))\n",
    "    print('Всего в данных {} уникальных пользователей'.format(len(data['uid'].unique())))\n",
    "\n",
    "    \n",
    "q_uid_event(df)"
   ]
  },
  {
   "cell_type": "markdown",
   "metadata": {},
   "source": [
    "В логе обнаружили более 243 тысяч событий, при этом уникальных событий всего 5, а уникальных пользователей более 7,5 тысяч."
   ]
  },
  {
   "cell_type": "markdown",
   "metadata": {},
   "source": [
    "<a id='6-bullet'></a>\n",
    "### Сколько в среднем событий приходится на пользователя?\n",
    "[К оглавлению](#101-bullet)"
   ]
  },
  {
   "cell_type": "code",
   "execution_count": 8,
   "metadata": {},
   "outputs": [
    {
     "name": "stdout",
     "output_type": "stream",
     "text": [
      "Распределение значений количества событий на пользователя\n"
     ]
    },
    {
     "data": {
      "text/plain": [
       "count    7551.000000\n",
       "mean       32.275593\n",
       "std        65.154219\n",
       "min         1.000000\n",
       "25%         9.000000\n",
       "50%        20.000000\n",
       "75%        37.000000\n",
       "max      2307.000000\n",
       "Name: event_name, dtype: float64"
      ]
     },
     "metadata": {},
     "output_type": "display_data"
    }
   ],
   "source": [
    "#посчитаем количество событий на пользователя\n",
    "event_by_uid = (df.groupby('uid').agg({'event_name' : 'count'}))\n",
    "print('Распределение значений количества событий на пользователя')\n",
    "display(event_by_uid['event_name'].describe())"
   ]
  },
  {
   "cell_type": "code",
   "execution_count": 9,
   "metadata": {},
   "outputs": [
    {
     "name": "stdout",
     "output_type": "stream",
     "text": [
      "Распределение количества видов событий на пользователя\n"
     ]
    },
    {
     "data": {
      "text/plain": [
       "count    7551.000000\n",
       "mean        2.674480\n",
       "std         1.454287\n",
       "min         1.000000\n",
       "25%         1.000000\n",
       "50%         3.000000\n",
       "75%         4.000000\n",
       "max         5.000000\n",
       "Name: event_name, dtype: float64"
      ]
     },
     "execution_count": 9,
     "metadata": {},
     "output_type": "execute_result"
    }
   ],
   "source": [
    "#посчитаем количество уникальных событий на пользователя\n",
    "event_uniq_by_uid = (df.groupby('uid').agg({'event_name' : 'nunique'}))\n",
    "print('Распределение количества видов событий на пользователя')\n",
    "event_uniq_by_uid['event_name'].describe()"
   ]
  },
  {
   "cell_type": "markdown",
   "metadata": {},
   "source": [
    "В сгруппированных по пользователю данных о количестве событий присутствуют выбросы, скорее всего есть малая доля очень активных пользователей и большая доля гораздо менее активных. Стандартное отклонение 65, при среднем на уровне 32 событий на пользователя говорит нам о том, что лучше сориентироваться по медиане, она на уровне 20 событий на пользователя.\n",
    "\n",
    "Видов событий на пользователя в среднем не более трех."
   ]
  },
  {
   "cell_type": "markdown",
   "metadata": {},
   "source": [
    "<a id='7-bullet'></a>\n",
    "### Анализ полноты данных\n",
    "[К оглавлению](#101-bullet)"
   ]
  },
  {
   "cell_type": "code",
   "execution_count": 10,
   "metadata": {},
   "outputs": [
    {
     "name": "stdout",
     "output_type": "stream",
     "text": [
      "Минимальная дата в логах 2019-07-25 04:43:36, максимальная 2019-08-07 21:15:17\n"
     ]
    }
   ],
   "source": [
    "#проверим за какие даты у нас есть данные\n",
    "def date_extr(data):\n",
    "    date_min = data['event_time'].min()\n",
    "    date_max = data['event_time'].max()\n",
    "    print('Минимальная дата в логах {}, максимальная {}'.format(date_min, date_max))\n",
    "    \n",
    "\n",
    "date_extr(df)"
   ]
  },
  {
   "cell_type": "code",
   "execution_count": 11,
   "metadata": {},
   "outputs": [
    {
     "data": {
      "image/png": "[encoded data removed]",
      "text/plain": [
       "<Figure size 1080x360 with 1 Axes>"
      ]
     },
     "metadata": {
      "needs_background": "light"
     },
     "output_type": "display_data"
    }
   ],
   "source": [
    "#сгруппируем количество уникальных пользователей по группам\n",
    "uid_by_date = df.groupby('date', as_index=False).agg({'uid' : 'nunique'})\n",
    "\n",
    "#визуализируем распределение пользователей по датам\n",
    "rmc()\n",
    "plt.figure(figsize=(15, 5))\n",
    "plt.plot(uid_by_date['date'], uid_by_date['uid'])\n",
    "plt.axhline(y=3500, color='red', linestyle='--')\n",
    "plt.title('Количество уникальных пользователей по датам')\n",
    "plt.xlabel('Дата')\n",
    "plt.ylabel('Количество пользователей')\n",
    "plt.show()"
   ]
  },
  {
   "cell_type": "markdown",
   "metadata": {},
   "source": [
    "Минимальная дата в исходных логах 2019-07-25, максимальная - 2019-08-07. Визуализировав распределение количества пользователей по дням можем вувидеть резкий всплеск с 2019-08-01 и далее стабильный уровень около 3,5 тыс. уникальных пользователей в день, вплоть до 2019-08-07. Данные до 2019-08-01 нельзя назвать полными, поэтому мы их отбросим."
   ]
  },
  {
   "cell_type": "markdown",
   "metadata": {},
   "source": [
    "<a id='8-bullet'></a>\n",
    "### Оценка потери данных после фильтрации\n",
    "[К оглавлению](#101-bullet)"
   ]
  },
  {
   "cell_type": "code",
   "execution_count": 12,
   "metadata": {},
   "outputs": [
    {
     "name": "stdout",
     "output_type": "stream",
     "text": [
      "Минимальная дата в логах 2019-08-01 00:07:28, максимальная 2019-08-07 21:15:17\n"
     ]
    }
   ],
   "source": [
    "#отфильтруем данные ранее 2019-08-01\n",
    "df_filtred = df.loc[(df['date'] == pd.to_datetime('2019-08-01')) | (df['date'] > pd.to_datetime('2019-08-01'))]\n",
    "date_extr(df_filtred)"
   ]
  },
  {
   "cell_type": "code",
   "execution_count": 13,
   "metadata": {},
   "outputs": [
    {
     "name": "stdout",
     "output_type": "stream",
     "text": [
      "В исходных данных\n",
      "Всего данных 243713 событий\n",
      "Всего в данных 5 уникальных событий\n",
      "Всего в данных 7551 уникальных пользователей\n",
      "None\n",
      "\n",
      "В отфильтрованных данных\n",
      "Всего данных 240887 событий\n",
      "Всего в данных 5 уникальных событий\n",
      "Всего в данных 7534 уникальных пользователей\n",
      "None\n"
     ]
    }
   ],
   "source": [
    "#расчитаем количество событий, видов и пользователей в исходных и отфильтрованных данных\n",
    "print('В исходных данных')\n",
    "print(q_uid_event(df))\n",
    "print()\n",
    "\n",
    "print('В отфильтрованных данных')\n",
    "print(q_uid_event(df_filtred))"
   ]
  },
  {
   "cell_type": "code",
   "execution_count": 14,
   "metadata": {},
   "outputs": [
    {
     "name": "stdout",
     "output_type": "stream",
     "text": [
      "После фильтрации осталось 98.84% строк лога, 100.00% видов событий и 99.77% уникальных пользователей\n"
     ]
    }
   ],
   "source": [
    "#посчитаем долю оставшихся после фильтрации данных\n",
    "def part_of_filtred(data_1, data_2):\n",
    "    part_of_shape = data_2.shape[0] / data_1.shape[0]\n",
    "    part_of_uniq_event = len(data_2['event_name'].unique()) / len(data_1['event_name'].unique())\n",
    "    part_of_uniq_uid = len(data_2['uid'].unique()) / len(data_1['uid'].unique())\n",
    "    print('После фильтрации осталось {:.2%} строк лога, {:.2%} видов событий и {:.2%} уникальных пользователей'\n",
    "          .format(part_of_shape, part_of_uniq_event, part_of_uniq_uid))\n",
    " \n",
    "\n",
    "part_of_filtred(df, df_filtred)"
   ]
  },
  {
   "cell_type": "markdown",
   "metadata": {},
   "source": [
    "Отфильтровали не более 2% данных, при этом не потеряли ни одного вида события и получили полные, насколько это возможно из текущего лога, данные."
   ]
  },
  {
   "cell_type": "markdown",
   "metadata": {},
   "source": [
    "<a id='9-bullet'></a>\n",
    "### Проверка наличия в отфильтрованных данных пользователей всех групп\n",
    "[К оглавлению](#101-bullet)"
   ]
  },
  {
   "cell_type": "code",
   "execution_count": 15,
   "metadata": {},
   "outputs": [
    {
     "data": {
      "text/plain": [
       "248    84563\n",
       "246    79302\n",
       "247    77022\n",
       "Name: exp_id, dtype: int64"
      ]
     },
     "execution_count": 15,
     "metadata": {},
     "output_type": "execute_result"
    }
   ],
   "source": [
    "#проверим пользователи каких групп остались в отфильтрованных данных\n",
    "df_filtred.exp_id.value_counts()"
   ]
  },
  {
   "cell_type": "code",
   "execution_count": 16,
   "metadata": {},
   "outputs": [
    {
     "data": {
      "text/html": [
       "<div>\n",
       "<style scoped>\n",
       "    .dataframe tbody tr th:only-of-type {\n",
       "        vertical-align: middle;\n",
       "    }\n",
       "\n",
       "    .dataframe tbody tr th {\n",
       "        vertical-align: top;\n",
       "    }\n",
       "\n",
       "    .dataframe thead th {\n",
       "        text-align: right;\n",
       "    }\n",
       "</style>\n",
       "<table border=\"1\" class=\"dataframe\">\n",
       "  <thead>\n",
       "    <tr style=\"text-align: right;\">\n",
       "      <th></th>\n",
       "      <th>exp_id</th>\n",
       "      <th>n_uid</th>\n",
       "      <th>n_str</th>\n",
       "      <th>event_name_count</th>\n",
       "    </tr>\n",
       "  </thead>\n",
       "  <tbody>\n",
       "    <tr>\n",
       "      <td>0</td>\n",
       "      <td>246</td>\n",
       "      <td>2484</td>\n",
       "      <td>79302</td>\n",
       "      <td>5</td>\n",
       "    </tr>\n",
       "    <tr>\n",
       "      <td>1</td>\n",
       "      <td>247</td>\n",
       "      <td>2513</td>\n",
       "      <td>77022</td>\n",
       "      <td>5</td>\n",
       "    </tr>\n",
       "    <tr>\n",
       "      <td>2</td>\n",
       "      <td>248</td>\n",
       "      <td>2537</td>\n",
       "      <td>84563</td>\n",
       "      <td>5</td>\n",
       "    </tr>\n",
       "  </tbody>\n",
       "</table>\n",
       "</div>"
      ],
      "text/plain": [
       "   exp_id  n_uid  n_str  event_name_count\n",
       "0     246   2484  79302                 5\n",
       "1     247   2513  77022                 5\n",
       "2     248   2537  84563                 5"
      ]
     },
     "execution_count": 16,
     "metadata": {},
     "output_type": "execute_result"
    }
   ],
   "source": [
    "#сгруппируем данные по группам\n",
    "df_filtred_group = (df_filtred\n",
    "                    .groupby('exp_id')\n",
    "                    .agg({'uid' : 'nunique', 'date' : 'count', 'event_name' : 'nunique'})\n",
    "                    .reset_index())\n",
    "\n",
    "df_filtred_group.columns = ['exp_id', 'n_uid', 'n_str', 'event_name_count']\n",
    "df_filtred_group"
   ]
  },
  {
   "cell_type": "markdown",
   "metadata": {},
   "source": [
    "В данных присутствуют все группы пользователей."
   ]
  },
  {
   "cell_type": "markdown",
   "metadata": {},
   "source": [
    "##  Изучение воронки событий\n",
    "<a id='10-bullet'></a>\n",
    "### Анализ событий\n",
    "[К оглавлению](#101-bullet)"
   ]
  },
  {
   "cell_type": "code",
   "execution_count": 17,
   "metadata": {},
   "outputs": [
    {
     "data": {
      "image/png": "[encoded data removed]",
      "text/plain": [
       "<Figure size 720x360 with 1 Axes>"
      ]
     },
     "metadata": {
      "needs_background": "light"
     },
     "output_type": "display_data"
    }
   ],
   "source": [
    "#подсчитаем сколько раз встречается то или иное событие в целом\n",
    "df_filtred['event_name'].value_counts().sort_values().plot(kind='barh', color='r', figsize=(10, 5))\n",
    "plt.title('Количество событий')\n",
    "plt.xlabel('Количество')\n",
    "plt.ylabel('Событие')\n",
    "plt.show()"
   ]
  },
  {
   "cell_type": "code",
   "execution_count": 18,
   "metadata": {},
   "outputs": [
    {
     "data": {
      "text/html": [
       "<div>\n",
       "<style scoped>\n",
       "    .dataframe tbody tr th:only-of-type {\n",
       "        vertical-align: middle;\n",
       "    }\n",
       "\n",
       "    .dataframe tbody tr th {\n",
       "        vertical-align: top;\n",
       "    }\n",
       "\n",
       "    .dataframe thead th {\n",
       "        text-align: right;\n",
       "    }\n",
       "</style>\n",
       "<table border=\"1\" class=\"dataframe\">\n",
       "  <thead>\n",
       "    <tr style=\"text-align: right;\">\n",
       "      <th></th>\n",
       "      <th>event_name</th>\n",
       "      <th>uid</th>\n",
       "      <th>part_uid, %</th>\n",
       "    </tr>\n",
       "  </thead>\n",
       "  <tbody>\n",
       "    <tr>\n",
       "      <td>1</td>\n",
       "      <td>MainScreenAppear</td>\n",
       "      <td>7419</td>\n",
       "      <td>98.0</td>\n",
       "    </tr>\n",
       "    <tr>\n",
       "      <td>2</td>\n",
       "      <td>OffersScreenAppear</td>\n",
       "      <td>4593</td>\n",
       "      <td>61.0</td>\n",
       "    </tr>\n",
       "    <tr>\n",
       "      <td>0</td>\n",
       "      <td>CartScreenAppear</td>\n",
       "      <td>3734</td>\n",
       "      <td>50.0</td>\n",
       "    </tr>\n",
       "    <tr>\n",
       "      <td>3</td>\n",
       "      <td>PaymentScreenSuccessful</td>\n",
       "      <td>3539</td>\n",
       "      <td>47.0</td>\n",
       "    </tr>\n",
       "    <tr>\n",
       "      <td>4</td>\n",
       "      <td>Tutorial</td>\n",
       "      <td>840</td>\n",
       "      <td>11.0</td>\n",
       "    </tr>\n",
       "  </tbody>\n",
       "</table>\n",
       "</div>"
      ],
      "text/plain": [
       "                event_name   uid  part_uid, %\n",
       "1         MainScreenAppear  7419         98.0\n",
       "2       OffersScreenAppear  4593         61.0\n",
       "0         CartScreenAppear  3734         50.0\n",
       "3  PaymentScreenSuccessful  3539         47.0\n",
       "4                 Tutorial   840         11.0"
      ]
     },
     "execution_count": 18,
     "metadata": {},
     "output_type": "execute_result"
    }
   ],
   "source": [
    "#посчитаем количество уникальных пользователей\n",
    "n_uid = len(df_filtred['uid'].unique())\n",
    "\n",
    "#сгруппируем данные по событию и посчитаем количество уникальных пользователей, а также их долю\n",
    "df_event = df_filtred.groupby('event_name')['uid'].nunique().reset_index()\n",
    "df_event['part_uid, %'] = ((df_event['uid'] / n_uid) * 100).round()\n",
    "df_event = df_event.sort_values('uid', ascending=False)\n",
    "df_event"
   ]
  },
  {
   "cell_type": "markdown",
   "metadata": {},
   "source": [
    "Чаще всего встречается MainScreenAppear, он лидирует с большим отрывом. Всего событий в логах 5 видов. Есть подозрение, что событие Tutorial стоит отфильтровать, так как он занимает слишком маленькую долю и по смыслу скорее не подходит для анализа воронки, чем подходит."
   ]
  },
  {
   "cell_type": "markdown",
   "metadata": {},
   "source": [
    "<a id='11-bullet'></a>\n",
    "### Предположительный порядок событий\n",
    "[К оглавлению](#101-bullet)"
   ]
  },
  {
   "cell_type": "code",
   "execution_count": 19,
   "metadata": {},
   "outputs": [
    {
     "data": {
      "text/html": [
       "<div>\n",
       "<style scoped>\n",
       "    .dataframe tbody tr th:only-of-type {\n",
       "        vertical-align: middle;\n",
       "    }\n",
       "\n",
       "    .dataframe tbody tr th {\n",
       "        vertical-align: top;\n",
       "    }\n",
       "\n",
       "    .dataframe thead th {\n",
       "        text-align: right;\n",
       "    }\n",
       "</style>\n",
       "<table border=\"1\" class=\"dataframe\">\n",
       "  <thead>\n",
       "    <tr style=\"text-align: right;\">\n",
       "      <th></th>\n",
       "      <th>event_name</th>\n",
       "      <th>uid</th>\n",
       "      <th>part_uid, %</th>\n",
       "    </tr>\n",
       "  </thead>\n",
       "  <tbody>\n",
       "    <tr>\n",
       "      <td>1</td>\n",
       "      <td>MainScreenAppear</td>\n",
       "      <td>7419</td>\n",
       "      <td>98.0</td>\n",
       "    </tr>\n",
       "    <tr>\n",
       "      <td>2</td>\n",
       "      <td>OffersScreenAppear</td>\n",
       "      <td>4593</td>\n",
       "      <td>61.0</td>\n",
       "    </tr>\n",
       "    <tr>\n",
       "      <td>0</td>\n",
       "      <td>CartScreenAppear</td>\n",
       "      <td>3734</td>\n",
       "      <td>50.0</td>\n",
       "    </tr>\n",
       "    <tr>\n",
       "      <td>3</td>\n",
       "      <td>PaymentScreenSuccessful</td>\n",
       "      <td>3539</td>\n",
       "      <td>47.0</td>\n",
       "    </tr>\n",
       "    <tr>\n",
       "      <td>4</td>\n",
       "      <td>Tutorial</td>\n",
       "      <td>840</td>\n",
       "      <td>11.0</td>\n",
       "    </tr>\n",
       "  </tbody>\n",
       "</table>\n",
       "</div>"
      ],
      "text/plain": [
       "                event_name   uid  part_uid, %\n",
       "1         MainScreenAppear  7419         98.0\n",
       "2       OffersScreenAppear  4593         61.0\n",
       "0         CartScreenAppear  3734         50.0\n",
       "3  PaymentScreenSuccessful  3539         47.0\n",
       "4                 Tutorial   840         11.0"
      ]
     },
     "execution_count": 19,
     "metadata": {},
     "output_type": "execute_result"
    }
   ],
   "source": [
    "#взглянем на события\n",
    "df_event"
   ]
  },
  {
   "cell_type": "markdown",
   "metadata": {},
   "source": [
    "Предположительно пользовательский маршрут проходит следующим образом:\n",
    "1. Пользователь видит главный экран, соответствует событию **MainScreenAppear**;\n",
    "2. Пользователь щелкает по кнопке каталог, в данных нет такого события;\n",
    "3. Пользователь видит каталог, соответствует событию **OffersScreenAppear**;\n",
    "4. Пользователь добавляет товары в корзину, в данных нет такого события;\n",
    "5. Пользователь щелкает по кнопке для перехода в корзину, в данных нет такого события;\n",
    "6. Пользователь видит экран корзины, соответствует событию **CartScreenAppear**;\n",
    "7. Пользователь щелкает по кнопке для перехода к оплате, в данных нет такого события;\n",
    "8. Пользователь заполняет данные карты, в данных нет такого события;\n",
    "9. Пользователь совершает платеж, в данных нет такого события;\n",
    "10. Пользователь видит экран, которые сообщает, что платеж прошел успешно, соответствует событию **PaymentScreenSuccessful**\n",
    "\n",
    "Предположительно некоторые пользователи в любой точке пути могут щелкнуть по кнопке для перехода к руководству, что будет соответствовать событию **Tutorial**. Это событие не находится прямо в типовом маршруте, поэтому из общей воронки его необходимо будет отфильтровать."
   ]
  },
  {
   "cell_type": "markdown",
   "metadata": {},
   "source": [
    "<a id='12-bullet'></a>\n",
    "### На каком шаге больше всего пользователей теряется?\n",
    "[К оглавлению](#101-bullet)"
   ]
  },
  {
   "cell_type": "code",
   "execution_count": 20,
   "metadata": {},
   "outputs": [
    {
     "data": {
      "text/html": [
       "<div>\n",
       "<style scoped>\n",
       "    .dataframe tbody tr th:only-of-type {\n",
       "        vertical-align: middle;\n",
       "    }\n",
       "\n",
       "    .dataframe tbody tr th {\n",
       "        vertical-align: top;\n",
       "    }\n",
       "\n",
       "    .dataframe thead th {\n",
       "        text-align: right;\n",
       "    }\n",
       "</style>\n",
       "<table border=\"1\" class=\"dataframe\">\n",
       "  <thead>\n",
       "    <tr style=\"text-align: right;\">\n",
       "      <th></th>\n",
       "      <th>event_name</th>\n",
       "      <th>uid</th>\n",
       "    </tr>\n",
       "  </thead>\n",
       "  <tbody>\n",
       "    <tr>\n",
       "      <td>3</td>\n",
       "      <td>PaymentScreenSuccessful</td>\n",
       "      <td>3539</td>\n",
       "    </tr>\n",
       "    <tr>\n",
       "      <td>0</td>\n",
       "      <td>CartScreenAppear</td>\n",
       "      <td>3734</td>\n",
       "    </tr>\n",
       "    <tr>\n",
       "      <td>2</td>\n",
       "      <td>OffersScreenAppear</td>\n",
       "      <td>4593</td>\n",
       "    </tr>\n",
       "    <tr>\n",
       "      <td>1</td>\n",
       "      <td>MainScreenAppear</td>\n",
       "      <td>7419</td>\n",
       "    </tr>\n",
       "  </tbody>\n",
       "</table>\n",
       "</div>"
      ],
      "text/plain": [
       "                event_name   uid\n",
       "3  PaymentScreenSuccessful  3539\n",
       "0         CartScreenAppear  3734\n",
       "2       OffersScreenAppear  4593\n",
       "1         MainScreenAppear  7419"
      ]
     },
     "metadata": {},
     "output_type": "display_data"
    },
    {
     "data": {
      "image/png": "[encoded data removed]",
      "text/plain": [
       "<Figure size 648x324 with 1 Axes>"
      ]
     },
     "metadata": {
      "needs_background": "light"
     },
     "output_type": "display_data"
    }
   ],
   "source": [
    "#отфильтруем данные по событию, исключим из выборки tutorial\n",
    "funnel_events = [event for event in df_filtred['event_name'].unique() if 'Screen' in event]\n",
    "df_funnel = df_filtred[df_filtred['event_name'].isin(funnel_events)]\n",
    "df_funnel = df_funnel.groupby('event_name').agg({'uid' : 'nunique'}).reset_index()\n",
    "\n",
    "#выыедем таблицу для наглядности цифр\n",
    "display(df_funnel.sort_values('uid'))\n",
    "\n",
    "#визуализируем данные\n",
    "df_funnel.sort_values('uid').plot(kind='barh', x='event_name', figsize=(9, 4.5), color='g', legend=False)\n",
    "plt.title('Количество уникальных пользователей по событиям')\n",
    "plt.xlabel('Количество уникальных пользователей')\n",
    "plt.ylabel('Событие')\n",
    "plt.show()"
   ]
  },
  {
   "cell_type": "code",
   "execution_count": 21,
   "metadata": {},
   "outputs": [
    {
     "name": "stdout",
     "output_type": "stream",
     "text": [
      "На 2 шаге потеряли -38.09%, на 3 шаге -18.70%, на 4 шаге -5.22%\n"
     ]
    }
   ],
   "source": [
    "#посчитаем % потерь к предыдущему шагу\n",
    "losses = df_funnel.sort_values('uid', ascending=False)['uid'].pct_change().reset_index().drop('index', axis=1)\n",
    "print('На 2 шаге потеряли {:.2%}, на 3 шаге {:.2%}, на 4 шаге {:.2%}'\n",
    "      .format(losses.uid[1], losses.uid[2], losses.uid[3]))"
   ]
  },
  {
   "cell_type": "markdown",
   "metadata": {},
   "source": [
    "Больше всего потеряли на 2 шаге (OffersScreenAppear)."
   ]
  },
  {
   "cell_type": "markdown",
   "metadata": {},
   "source": [
    "<a id='13-bullet'></a>\n",
    "### Какая доля пользователей доходит от первого события до оплаты?\n",
    "[К оглавлению](#101-bullet)"
   ]
  },
  {
   "cell_type": "code",
   "execution_count": 22,
   "metadata": {},
   "outputs": [
    {
     "data": {
      "text/html": [
       "<div>\n",
       "<style scoped>\n",
       "    .dataframe tbody tr th:only-of-type {\n",
       "        vertical-align: middle;\n",
       "    }\n",
       "\n",
       "    .dataframe tbody tr th {\n",
       "        vertical-align: top;\n",
       "    }\n",
       "\n",
       "    .dataframe thead th {\n",
       "        text-align: right;\n",
       "    }\n",
       "</style>\n",
       "<table border=\"1\" class=\"dataframe\">\n",
       "  <thead>\n",
       "    <tr style=\"text-align: right;\">\n",
       "      <th></th>\n",
       "      <th>event_name</th>\n",
       "      <th>uid</th>\n",
       "      <th>part_of_first_step, %</th>\n",
       "    </tr>\n",
       "  </thead>\n",
       "  <tbody>\n",
       "    <tr>\n",
       "      <td>1</td>\n",
       "      <td>MainScreenAppear</td>\n",
       "      <td>7419</td>\n",
       "      <td>100.0</td>\n",
       "    </tr>\n",
       "    <tr>\n",
       "      <td>2</td>\n",
       "      <td>OffersScreenAppear</td>\n",
       "      <td>4593</td>\n",
       "      <td>62.0</td>\n",
       "    </tr>\n",
       "    <tr>\n",
       "      <td>0</td>\n",
       "      <td>CartScreenAppear</td>\n",
       "      <td>3734</td>\n",
       "      <td>50.0</td>\n",
       "    </tr>\n",
       "    <tr>\n",
       "      <td>3</td>\n",
       "      <td>PaymentScreenSuccessful</td>\n",
       "      <td>3539</td>\n",
       "      <td>48.0</td>\n",
       "    </tr>\n",
       "  </tbody>\n",
       "</table>\n",
       "</div>"
      ],
      "text/plain": [
       "                event_name   uid  part_of_first_step, %\n",
       "1         MainScreenAppear  7419                  100.0\n",
       "2       OffersScreenAppear  4593                   62.0\n",
       "0         CartScreenAppear  3734                   50.0\n",
       "3  PaymentScreenSuccessful  3539                   48.0"
      ]
     },
     "execution_count": 22,
     "metadata": {},
     "output_type": "execute_result"
    }
   ],
   "source": [
    "#вычислим количество долю пользователей дошедших до оплаты от пользователей на первом шаге \n",
    "#n_uid_mainscreenappear = df_funnel.loc[df_funnel['event_name'] == 'MainScreenAppear']['uid']\n",
    "df_funnel['part_of_first_step, %'] = ((df_funnel['uid'] / 7419) * 100).round()\n",
    "df_funnel.sort_values('uid', ascending=False)"
   ]
  },
  {
   "cell_type": "markdown",
   "metadata": {},
   "source": [
    "Пользователей дошедшах до оплаты 3539, при этом на первом шаге пользователей 7419. В целом до оплаты доходит 48% пользоватлей.\n",
    "\n",
    "Однако, в выборке присутствуют пользователи, которые не учтены внутри шага с главным экраном, так как они сразу попали на шаг с успешной оплатой. Вероятно, это связано с разорванными ссессиями или иными техническими ощшибками. В качестве допущения для текущего анализа таких пользователей не фильтруем."
   ]
  },
  {
   "cell_type": "markdown",
   "metadata": {},
   "source": [
    "##  Изучение результата эксперимента\n",
    "<a id='14-bullet'></a>\n",
    "### Сколько пользователей в каждой экспериментальной группе?\n",
    "[К оглавлению](#101-bullet)"
   ]
  },
  {
   "cell_type": "code",
   "execution_count": 23,
   "metadata": {},
   "outputs": [
    {
     "data": {
      "text/html": [
       "<div>\n",
       "<style scoped>\n",
       "    .dataframe tbody tr th:only-of-type {\n",
       "        vertical-align: middle;\n",
       "    }\n",
       "\n",
       "    .dataframe tbody tr th {\n",
       "        vertical-align: top;\n",
       "    }\n",
       "\n",
       "    .dataframe thead th {\n",
       "        text-align: right;\n",
       "    }\n",
       "</style>\n",
       "<table border=\"1\" class=\"dataframe\">\n",
       "  <thead>\n",
       "    <tr style=\"text-align: right;\">\n",
       "      <th></th>\n",
       "      <th>exp_id</th>\n",
       "      <th>n_uid</th>\n",
       "      <th>n_str</th>\n",
       "      <th>event_name_count</th>\n",
       "      <th>part_of_total_uid</th>\n",
       "    </tr>\n",
       "  </thead>\n",
       "  <tbody>\n",
       "    <tr>\n",
       "      <td>0</td>\n",
       "      <td>246</td>\n",
       "      <td>2484</td>\n",
       "      <td>79302</td>\n",
       "      <td>5</td>\n",
       "      <td>32.97</td>\n",
       "    </tr>\n",
       "    <tr>\n",
       "      <td>1</td>\n",
       "      <td>247</td>\n",
       "      <td>2513</td>\n",
       "      <td>77022</td>\n",
       "      <td>5</td>\n",
       "      <td>33.36</td>\n",
       "    </tr>\n",
       "    <tr>\n",
       "      <td>2</td>\n",
       "      <td>248</td>\n",
       "      <td>2537</td>\n",
       "      <td>84563</td>\n",
       "      <td>5</td>\n",
       "      <td>33.67</td>\n",
       "    </tr>\n",
       "  </tbody>\n",
       "</table>\n",
       "</div>"
      ],
      "text/plain": [
       "   exp_id  n_uid  n_str  event_name_count  part_of_total_uid\n",
       "0     246   2484  79302                 5              32.97\n",
       "1     247   2513  77022                 5              33.36\n",
       "2     248   2537  84563                 5              33.67"
      ]
     },
     "execution_count": 23,
     "metadata": {},
     "output_type": "execute_result"
    }
   ],
   "source": [
    "#взглянем на распределение пользователей по группам теста\n",
    "df_filtred_group['part_of_total_uid'] = ((df_filtred_group['n_uid'] / df_filtred_group['n_uid'].sum()) * 100).round(2)\n",
    "df_filtred_group"
   ]
  },
  {
   "cell_type": "markdown",
   "metadata": {},
   "source": [
    "Всего в каждой группе около 2,5 тысячи пользователей, каждая группа занимает примерно 33% общего объема пользователей."
   ]
  },
  {
   "cell_type": "markdown",
   "metadata": {},
   "source": [
    "<a id='15-bullet'></a>\n",
    "### Анализ различий между группами АА\n",
    "[К оглавлению](#101-bullet)"
   ]
  },
  {
   "cell_type": "markdown",
   "metadata": {},
   "source": [
    "Для начала сформулируем нулевые и альтернативные гипотезы для проверки. В каждом случае проверки предположим, что среднее значение количества уникальных пользователей по событиям группы 1 равна аналогичному среднему группы 2, это будет нашей нулевой гипотезой. Альтернативная гипотеза в каждом случае будет утверждать, что они отличаются."
   ]
  },
  {
   "cell_type": "code",
   "execution_count": 24,
   "metadata": {},
   "outputs": [],
   "source": [
    "#для упрощения создадим функцию опеределения различий между группами\n",
    "def ab_test(df, group_ids, alpha=.05):\n",
    "    users = [df.query('exp_id == @group_id')['uid'].nunique() for group_id in group_ids]\n",
    "    for event in df.event_name.unique():\n",
    "        events = ([df\n",
    "                   .query('exp_id == %d and event_name == \"%s\"' % (group_id, event))['uid'].nunique()\n",
    "                   for group_id in group_ids])\n",
    "\n",
    "        p1 = events[0] / users[0]\n",
    "        p2 = events[1] / users[1]\n",
    "        \n",
    "        p_combined = sum(events) / sum(users)\n",
    "        difference = p1 - p2\n",
    "        z_value = difference / mth.sqrt(\n",
    "            p_combined * (1 - p_combined) * (1 / users[0] + 1 / users[1])\n",
    "        )\n",
    "        \n",
    "        distr = stats.norm(0, 1)\n",
    "        p_value = (1 - distr.cdf(abs(z_value))) * 2\n",
    "        \n",
    "        print('Наименование события: \"{}\"'.format(event))\n",
    "        print('p1: {:.4f}'.format(p1))\n",
    "        print('p2: {:.4f}'.format(p2))\n",
    "        \n",
    "        if p_value > alpha:\n",
    "            print('Результат: Значимой разницы не обнаружено')\n",
    "        else:\n",
    "            print('Результат: Значимая разница обнаружена')\n",
    "        \n",
    "        print('________________________________________________')\n",
    "        print()"
   ]
  },
  {
   "cell_type": "code",
   "execution_count": 25,
   "metadata": {},
   "outputs": [
    {
     "name": "stdout",
     "output_type": "stream",
     "text": [
      "________________Различие между контрольными группами 246 и 247____________________\n",
      "\n",
      "Наименование события: \"Tutorial\"\n",
      "p1: 0.1119\n",
      "p2: 0.1126\n",
      "Результат: Значимой разницы не обнаружено\n",
      "________________________________________________\n",
      "\n",
      "Наименование события: \"MainScreenAppear\"\n",
      "p1: 0.9863\n",
      "p2: 0.9853\n",
      "Результат: Значимой разницы не обнаружено\n",
      "________________________________________________\n",
      "\n",
      "Наименование события: \"OffersScreenAppear\"\n",
      "p1: 0.6208\n",
      "p2: 0.6049\n",
      "Результат: Значимой разницы не обнаружено\n",
      "________________________________________________\n",
      "\n",
      "Наименование события: \"CartScreenAppear\"\n",
      "p1: 0.5097\n",
      "p2: 0.4926\n",
      "Результат: Значимой разницы не обнаружено\n",
      "________________________________________________\n",
      "\n",
      "Наименование события: \"PaymentScreenSuccessful\"\n",
      "p1: 0.4831\n",
      "p2: 0.4608\n",
      "Результат: Значимой разницы не обнаружено\n",
      "________________________________________________\n",
      "\n"
     ]
    }
   ],
   "source": [
    "#проанализируем различия между АА группами (246 и 247)\n",
    "print('________________Различие между контрольными группами 246 и 247____________________')\n",
    "print()\n",
    "ab_test(df_filtred, [246, 247])"
   ]
  },
  {
   "cell_type": "markdown",
   "metadata": {},
   "source": [
    "Между контрольными группами 246 и 247 не обнаружено значимой разницы ни по одному из событий, включая самое популярное \"MainScreenAppear\". Это означает, что нет смысла в множественном сравнении, достаточно сравнить эксперементальную группу с одной из контрольных."
   ]
  },
  {
   "cell_type": "markdown",
   "metadata": {},
   "source": [
    "<a id='16-bullet'></a>\n",
    "### Анализ группы событий в группе В и поиск различий с контрольными группами\n",
    "[К оглавлению](#101-bullet)"
   ]
  },
  {
   "cell_type": "code",
   "execution_count": 26,
   "metadata": {},
   "outputs": [
    {
     "data": {
      "text/html": [
       "<div>\n",
       "<style scoped>\n",
       "    .dataframe tbody tr th:only-of-type {\n",
       "        vertical-align: middle;\n",
       "    }\n",
       "\n",
       "    .dataframe tbody tr th {\n",
       "        vertical-align: top;\n",
       "    }\n",
       "\n",
       "    .dataframe thead th {\n",
       "        text-align: right;\n",
       "    }\n",
       "</style>\n",
       "<table border=\"1\" class=\"dataframe\">\n",
       "  <thead>\n",
       "    <tr style=\"text-align: right;\">\n",
       "      <th>exp_id</th>\n",
       "      <th>246</th>\n",
       "      <th>247</th>\n",
       "      <th>248</th>\n",
       "    </tr>\n",
       "    <tr>\n",
       "      <th>event_name</th>\n",
       "      <th></th>\n",
       "      <th></th>\n",
       "      <th></th>\n",
       "    </tr>\n",
       "  </thead>\n",
       "  <tbody>\n",
       "    <tr>\n",
       "      <td>CartScreenAppear</td>\n",
       "      <td>1266</td>\n",
       "      <td>1238</td>\n",
       "      <td>1230</td>\n",
       "    </tr>\n",
       "    <tr>\n",
       "      <td>MainScreenAppear</td>\n",
       "      <td>2450</td>\n",
       "      <td>2476</td>\n",
       "      <td>2493</td>\n",
       "    </tr>\n",
       "    <tr>\n",
       "      <td>OffersScreenAppear</td>\n",
       "      <td>1542</td>\n",
       "      <td>1520</td>\n",
       "      <td>1531</td>\n",
       "    </tr>\n",
       "    <tr>\n",
       "      <td>PaymentScreenSuccessful</td>\n",
       "      <td>1200</td>\n",
       "      <td>1158</td>\n",
       "      <td>1181</td>\n",
       "    </tr>\n",
       "    <tr>\n",
       "      <td>Tutorial</td>\n",
       "      <td>278</td>\n",
       "      <td>283</td>\n",
       "      <td>279</td>\n",
       "    </tr>\n",
       "  </tbody>\n",
       "</table>\n",
       "</div>"
      ],
      "text/plain": [
       "exp_id                    246   247   248\n",
       "event_name                               \n",
       "CartScreenAppear         1266  1238  1230\n",
       "MainScreenAppear         2450  2476  2493\n",
       "OffersScreenAppear       1542  1520  1531\n",
       "PaymentScreenSuccessful  1200  1158  1181\n",
       "Tutorial                  278   283   279"
      ]
     },
     "execution_count": 26,
     "metadata": {},
     "output_type": "execute_result"
    }
   ],
   "source": [
    "#взглянем на распределение событий по группам\n",
    "df_filtred.pivot_table(index='event_name', columns='exp_id', values='uid', aggfunc='nunique')"
   ]
  },
  {
   "cell_type": "code",
   "execution_count": 27,
   "metadata": {},
   "outputs": [
    {
     "name": "stdout",
     "output_type": "stream",
     "text": [
      "________________Различие между группами 246 (контрольная) и 248 (экспериментальная)____________________\n",
      "\n",
      "Наименование события: \"Tutorial\"\n",
      "p1: 0.1119\n",
      "p2: 0.1100\n",
      "Результат: Значимой разницы не обнаружено\n",
      "________________________________________________\n",
      "\n",
      "Наименование события: \"MainScreenAppear\"\n",
      "p1: 0.9863\n",
      "p2: 0.9827\n",
      "Результат: Значимой разницы не обнаружено\n",
      "________________________________________________\n",
      "\n",
      "Наименование события: \"OffersScreenAppear\"\n",
      "p1: 0.6208\n",
      "p2: 0.6035\n",
      "Результат: Значимой разницы не обнаружено\n",
      "________________________________________________\n",
      "\n",
      "Наименование события: \"CartScreenAppear\"\n",
      "p1: 0.5097\n",
      "p2: 0.4848\n",
      "Результат: Значимой разницы не обнаружено\n",
      "________________________________________________\n",
      "\n",
      "Наименование события: \"PaymentScreenSuccessful\"\n",
      "p1: 0.4831\n",
      "p2: 0.4655\n",
      "Результат: Значимой разницы не обнаружено\n",
      "________________________________________________\n",
      "\n"
     ]
    }
   ],
   "source": [
    "#проанализируем различия между АB группами (246 и 248)\n",
    "print('________________Различие между группами 246 (контрольная) и 248 (экспериментальная)____________________')\n",
    "print()\n",
    "ab_test(df_filtred, [246, 248])"
   ]
  },
  {
   "cell_type": "code",
   "execution_count": 28,
   "metadata": {},
   "outputs": [
    {
     "name": "stdout",
     "output_type": "stream",
     "text": [
      "________________Различие между группами 247 (контрольная) и 248 (экспериментальная)____________________\n",
      "\n",
      "Наименование события: \"Tutorial\"\n",
      "p1: 0.1126\n",
      "p2: 0.1100\n",
      "Результат: Значимой разницы не обнаружено\n",
      "________________________________________________\n",
      "\n",
      "Наименование события: \"MainScreenAppear\"\n",
      "p1: 0.9853\n",
      "p2: 0.9827\n",
      "Результат: Значимой разницы не обнаружено\n",
      "________________________________________________\n",
      "\n",
      "Наименование события: \"OffersScreenAppear\"\n",
      "p1: 0.6049\n",
      "p2: 0.6035\n",
      "Результат: Значимой разницы не обнаружено\n",
      "________________________________________________\n",
      "\n",
      "Наименование события: \"CartScreenAppear\"\n",
      "p1: 0.4926\n",
      "p2: 0.4848\n",
      "Результат: Значимой разницы не обнаружено\n",
      "________________________________________________\n",
      "\n",
      "Наименование события: \"PaymentScreenSuccessful\"\n",
      "p1: 0.4608\n",
      "p2: 0.4655\n",
      "Результат: Значимой разницы не обнаружено\n",
      "________________________________________________\n",
      "\n"
     ]
    }
   ],
   "source": [
    "#проанализируем различия между АB группами (247 и 248)\n",
    "print('________________Различие между группами 247 (контрольная) и 248 (экспериментальная)____________________')\n",
    "print()\n",
    "ab_test(df_filtred, [247, 248])"
   ]
  },
  {
   "cell_type": "code",
   "execution_count": 29,
   "metadata": {},
   "outputs": [
    {
     "name": "stdout",
     "output_type": "stream",
     "text": [
      "____________Различие между группами 300 (объединенная контрольная) и 248 (экспериментальная)______________\n",
      "\n",
      "Наименование события: \"Tutorial\"\n",
      "p1: 0.1123\n",
      "p2: 0.1100\n",
      "Результат: Значимой разницы не обнаружено\n",
      "________________________________________________\n",
      "\n",
      "Наименование события: \"MainScreenAppear\"\n",
      "p1: 0.9858\n",
      "p2: 0.9827\n",
      "Результат: Значимой разницы не обнаружено\n",
      "________________________________________________\n",
      "\n",
      "Наименование события: \"OffersScreenAppear\"\n",
      "p1: 0.6128\n",
      "p2: 0.6035\n",
      "Результат: Значимой разницы не обнаружено\n",
      "________________________________________________\n",
      "\n",
      "Наименование события: \"CartScreenAppear\"\n",
      "p1: 0.5011\n",
      "p2: 0.4848\n",
      "Результат: Значимой разницы не обнаружено\n",
      "________________________________________________\n",
      "\n",
      "Наименование события: \"PaymentScreenSuccessful\"\n",
      "p1: 0.4719\n",
      "p2: 0.4655\n",
      "Результат: Значимой разницы не обнаружено\n",
      "________________________________________________\n",
      "\n"
     ]
    }
   ],
   "source": [
    "#объединим контрольные группы\n",
    "df_filtred_union = df_filtred.replace({'exp_id' : {247 : 300, 246 : 300}})\n",
    "\n",
    "#проанализируем различия между объединенной контрольной группой и экспериментальной (300 и 248)\n",
    "print('____________Различие между группами 300 (объединенная контрольная) и 248 (экспериментальная)______________')\n",
    "print()\n",
    "ab_test(df_filtred_union, [300, 248])"
   ]
  },
  {
   "cell_type": "markdown",
   "metadata": {},
   "source": [
    "Статистически значимых различий не обнаружени между контрольными группами, ни в сравнении отдельно экспериментальной группы с каждой контрольной в отдельности, ни в сравнении экспериментальной с объединенной контрольной группой. Таким образом, можно сделать вывод, что изменение шрифтов не дало значимого положительного или отрицательного эффекта. В качестве допущения предполагаем, что на результаты теста могли влиять только внесенные в шрифты изменения."
   ]
  },
  {
   "cell_type": "markdown",
   "metadata": {},
   "source": [
    "<a id='17-bullet'></a>\n",
    "### Анализ выбранного уровня значимости\n",
    "[К оглавлению](#101-bullet)"
   ]
  },
  {
   "cell_type": "markdown",
   "metadata": {},
   "source": [
    "Для проверки статистических гипотез мы выбрали уровень значимости 0.05. В сумме мы провели 20 проверок. Учитывая, что при уровне значимости 0.1 каждый десятый раз можно получить ложный результат, мы сделали правильный выбор уровня значимости 0.05."
   ]
  },
  {
   "cell_type": "markdown",
   "metadata": {},
   "source": [
    "##  Общий вывод\n",
    "<a id='18-bullet'></a>\n",
    "### Вывод\n",
    "[К оглавлению](#101-bullet)"
   ]
  },
  {
   "cell_type": "markdown",
   "metadata": {},
   "source": [
    "#### Первичный анализ и подготовка данных\n",
    "1. Обнаружилось 413 дубликатов (0,17% от общего объема данных). Каждая запись - это событие, а в датасете есть время события и идентификатор пользователя. Поэтому дубликаты могли возникнуть скорее из-за технических ошибок, например переподключения после потери совединения. Вопрос почему они образаовались необходимо задать команде выгрузки данных. Пропусков не обнаружено.\n",
    "2. Несоответствие типов данных и содержимого обнаружилось только в столбце с датой, успешно изменили в нем тип данных. Выделили в отдельную колонку дату.\n",
    "\n",
    "#### Изучение и проверка данных\n",
    "1. В логе обнаружили более 243 тысяч событий, при этом уникальных событий всего 5, а уникальных пользователей более 7,5 тысяч.\n",
    "2. В сгруппированных по пользователю данных о количестве событий присутствуют выбросы, скорее всего есть малая доля очень активных пользователей и большая доля гораздо менее активных. Стандартное отклонение 65, при среднем на уровне 32 событий на пользователя говорит нам о том, что лучше сориентироваться по медиане, она на уровне 20 событий на пользователя.\n",
    "3. Видов событий на пользователя в среднем не более трех.\n",
    "4. В исходном датасете минимальная дата в логах 2019-07-25 04:43:36, максимальная 2019-08-07 21:15:17.\n",
    "5. Минимальная дата в исходных логах 2019-07-25, максимальная - 2019-08-07. Визуализировав распределение количества пользователей по дням можем вувидеть резкий всплеск с 2019-08-01 и далее стабильный уровень около 3,5 тыс. уникальных пользователей в день, вплоть до 2019-08-07. Данные до 2019-08-01 нельзя назвать полными, поэтому мы их отбросим.\n",
    "6. Отфильтровали не более 2% данных, при этом не потеряли ни одного вида события и получили полные, насколько это возможно из текущего лога, данные. После фильтрации в данных присутствуют все группы пользователей.\n",
    "\n",
    "#### Изучение воронки событий\n",
    "1. Чаще всего встречается событие MainScreenAppear, оно лидирует с большим отрывом. Всего событий в логах 5 видов. Есть подозрение, что событие Tutorial стоит отфильтровать, так как он занимает слишком маленькую долю и по смыслу скорее не подходит для анализа воронки, чем подходит.\n",
    "2. Предположительно пользовательский маршрут проходит следующим образом:\n",
    "    - Пользователь видит главный экран, соответствует событию MainScreenAppear;\n",
    "    - Пользователь щелкает по кнопке каталог, в данных нет такого события;\n",
    "    - Пользователь видит каталог, соответствует событию OffersScreenAppear;\n",
    "    - Пользователь добавляет товары в корзину, в данных нет такого события;\n",
    "    - Пользователь щелкает по кнопке для перехода в корзину, в данных нет такого события;\n",
    "    - Пользователь видит экран корзины, соответствует событию CartScreenAppear;\n",
    "    - Пользователь щелкает по кнопке для перехода к оплате, в данных нет такого события;\n",
    "    - Пользователь заполняет данные карты, в данных нет такого события;\n",
    "    - Пользователь совершает платеж, в данных нет такого события;\n",
    "    - Пользователь видит экран, которые сообщает, что платеж прошел успешно, соответствует событию PaymentScreenSuccessful\n",
    "3. Предположительно некоторые пользователи в любой точке пути могут щелкнуть по кнопке для перехода к руководству, что будет соответствовать событию Tutorial. Это событие не находится прямо в типовом маршруте, поэтому из общей воронки его необходимо будет отфильтровать.\n",
    "4. На 2 шаге потеряли -38.09%, на 3 шаге -18.70%, на 4 шаге -5.22%. Больше всего потеряли на 2 шаге (OffersScreenAppear).\n",
    "5. Пользователей дошедшах до оплаты 3539, при этом на первом шаге пользователей 7419. В целом до оплаты доходит 48% пользоватлей. Однако, в выборке присутствуют пользователи, которые не учтены внутри шага с главным экраном, так как они сразу попали на шаг с успешной оплатой. Вероятно, это связано с разорванными ссессиями или иными техническими ошибками. В качестве допущения для текущего анализа таких пользователей не фильтруем.\n",
    "\n",
    "#### Изучение результата эксперимента\n",
    "1. Всего в каждой группе около 2,5 тысячи пользователей, каждая группа занимает примерно 33% общего объема пользователей.\n",
    "2. Между контрольными группами 246 и 247 не обнаружено значимой разницы ни по одному из событий, включая самое популярное \"MainScreenAppear\". Это означает, что нет смысла в множественном сравнении, достаточно сравнить эксперементальную группу с одной из контрольных.\n",
    "3. Статистически значимых различий не обнаружени между контрольными группами, ни в сравнении отдельно экспериментальной группы с каждой контрольной в отдельности, ни в сравнении экспериментальной с объединенной контрольной группой. Таким образом, можно сделать вывод, что изменение шрифтов не дало значимого положительного или отрицательного эффекта. В качестве допущения предполагаем, что на результаты теста могли влиять только анализируемые изменения (другие шрифты).\n",
    "4. Для проверки статистических гипотез мы выбрали уровень значимости 0.05. В сумме мы провели 20 проверок. Учитывая, что при уровне значимости 0.1 каждый десятый раз можно получить ложный результат, мы сделали правильный выбор уровня значимости 0.05."
   ]
  },
  {
   "cell_type": "code",
   "execution_count": null,
   "metadata": {},
   "outputs": [],
   "source": []
  }
 ],
 "metadata": {
  "kernelspec": {
   "display_name": "Python 3",
   "language": "python",
   "name": "python3"
  },
  "language_info": {
   "codemirror_mode": {
    "name": "ipython",
    "version": 3
   },
   "file_extension": ".py",
   "mimetype": "text/x-python",
   "name": "python",
   "nbconvert_exporter": "python",
   "pygments_lexer": "ipython3",
   "version": "3.7.4"
  },
  "toc": {
   "base_numbering": 1,
   "nav_menu": {},
   "number_sections": true,
   "sideBar": true,
   "skip_h1_title": true,
   "title_cell": "Table of Contents",
   "title_sidebar": "Contents",
   "toc_cell": false,
   "toc_position": {},
   "toc_section_display": true,
   "toc_window_display": false
  }
 },
 "nbformat": 4,
 "nbformat_minor": 2
}
