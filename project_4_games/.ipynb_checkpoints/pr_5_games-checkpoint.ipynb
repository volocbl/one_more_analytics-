{
 "cells": [
  {
   "cell_type": "markdown",
   "metadata": {},
   "source": [
    "# Определение закономерностей успеха игр\n",
    "\n",
    "#### Определим факторы, влияющие на успех игры, проверим гипотезы.\n",
    "##### Исследование разделим на несколько частей.\n",
    "\n",
    "Перед нами исторические данные из открытых источников о продажах игр, оценки пользователей и экспертов, жанры и платформы (например, Xbox или PlayStation). Нам нужно выявить определяющие успешность игры закономерности. Это позволит сделать ставку на потенциально популярный продукт и спланировать рекламные кампании.\t\n",
    "_____________________________________________________________________________________\n",
    "##### Часть 1. Импортируем библиотеки и прочитаем данные\n",
    "* [Импортируем библиотеки и прочитаем данные](#1-bullet)\n",
    "\n",
    "##### Часть 2. Подготовим данные\n",
    "* [Приведем названия столбцов к нижнему регистру](#2-bullet)\n",
    "* [Обработаем пропуски](#3-bullet)\n",
    "* [Изменим тип данных](#4-bullet)\n",
    "* [Добавим столбец с суммарными продажами по всем регионам](#5-bullet)\n",
    "\n",
    "##### Часть 3. Проанализируем данные\n",
    "* [Посмотрим сколько игр выпускалось в разные годы](#6-bullet)\n",
    "* [Посмотрим как менялись продажи по платформам](#7-bullet)\n",
    "* [Выберем актуальные данные для анализа](#8-bullet)\n",
    "* [Проанализируем платформы](#9-bullet)\n",
    "* [Посмотрим на распределение глобальных продаж игр в разрезе платформ](#10-bullet)\n",
    "* [Посмотрим, как влияют на продажи внутри одной популярной платформы отзывы пользователей и критиков](#11-bullet)\n",
    "* [Сравним выводы по одной платформе с выводами по всем платформам](#12-bullet)\n",
    "* [Посмотрим на общее распределение игр по жанрам](#13-bullet)\n",
    "\n",
    "##### Часть 4. Составим портрет пользователя кажджого региона\n",
    "* [Составим портрет пользователя для региона NA](#14-bullet)\n",
    "* [Составим портрет пользователя для региона EU](#15-bullet)\n",
    "* [Составим портрет пользователя для региона JP](#16-bullet)\n",
    "\n",
    "##### Часть 5. Проверим гипотезы\n",
    "* [Действительно ли средние пользовательские рейтинги платформ Xbox One и PC одинаковые](#17-bullet)\n",
    "* [Действительно ли средние пользовательские рейтинги жанров Action и Sports разные](#18-bullet)\n",
    "\n",
    "##### Часть 6. Заключение\n",
    "* [Общий вывод](#19-bullet)\n",
    "\n",
    "___________________________________________________   \n",
    "###### Описание данных:\n",
    " - Name — название игры\n",
    " - Platform — платформа\n",
    " - Year_of_Release — год выпуска\n",
    " - Genre — жанр игры\n",
    " - NA_sales — продажи в Северной Америке (миллионы проданных копий)\n",
    " - EU_sales — продажи в Европе (миллионы проданных копий)\n",
    " - JP_sales — продажи в Японии (миллионы проданных копий)\n",
    " - Other_sales — продажи в других странах (миллионы проданных копий)\n",
    " - Critic_Score — оценка критиков (максимум 100)\n",
    " - User_Score — оценка пользователей (максимум 10)\n",
    " - Rating — рейтинг от организации ESRB (англ. Entertainment Software Rating Board). Эта ассоциация определяет рейтинг компьютерных игр и присваивает им подходящую возрастную категорию.\n",
    "\n",
    "Данные за 2016 год могут быть неполными.\n"
   ]
  },
  {
   "cell_type": "markdown",
   "metadata": {},
   "source": [
    "<a id='1-bullet'></a>\n",
    "### 1. Импортируем библиотеки и прочитаем данные"
   ]
  },
  {
   "cell_type": "code",
   "execution_count": 1,
   "metadata": {},
   "outputs": [],
   "source": [
    "import pandas as pd\n",
    "import numpy as np\n",
    "import math as mt\n",
    "import matplotlib.pyplot as plt\n",
    "from scipy import stats as st"
   ]
  },
  {
   "cell_type": "code",
   "execution_count": 2,
   "metadata": {},
   "outputs": [],
   "source": [
    "data = pd.read_csv('/datasets/games.csv')"
   ]
  },
  {
   "cell_type": "code",
   "execution_count": 3,
   "metadata": {},
   "outputs": [
    {
     "name": "stdout",
     "output_type": "stream",
     "text": [
      "<class 'pandas.core.frame.DataFrame'>\n",
      "RangeIndex: 16715 entries, 0 to 16714\n",
      "Data columns (total 11 columns):\n",
      "Name               16713 non-null object\n",
      "Platform           16715 non-null object\n",
      "Year_of_Release    16446 non-null float64\n",
      "Genre              16713 non-null object\n",
      "NA_sales           16715 non-null float64\n",
      "EU_sales           16715 non-null float64\n",
      "JP_sales           16715 non-null float64\n",
      "Other_sales        16715 non-null float64\n",
      "Critic_Score       8137 non-null float64\n",
      "User_Score         10014 non-null object\n",
      "Rating             9949 non-null object\n",
      "dtypes: float64(6), object(5)\n",
      "memory usage: 1.4+ MB\n"
     ]
    }
   ],
   "source": [
    "data.info()"
   ]
  },
  {
   "cell_type": "markdown",
   "metadata": {},
   "source": [
    "### 2. Подготовим данные"
   ]
  },
  {
   "cell_type": "markdown",
   "metadata": {},
   "source": [
    "<a id='2-bullet'></a>\n",
    "#### Приведем названия столбцов к нижнему регистру"
   ]
  },
  {
   "cell_type": "code",
   "execution_count": 4,
   "metadata": {},
   "outputs": [
    {
     "data": {
      "text/plain": [
       "Index(['name', 'platform', 'year_of_release', 'genre', 'na_sales', 'eu_sales',\n",
       "       'jp_sales', 'other_sales', 'critic_score', 'user_score', 'rating'],\n",
       "      dtype='object')"
      ]
     },
     "execution_count": 4,
     "metadata": {},
     "output_type": "execute_result"
    }
   ],
   "source": [
    "#приведем названия столбцов к нижнему регистру для удобства\n",
    "data.columns = data.columns.str.lower()\n",
    "data.columns"
   ]
  },
  {
   "cell_type": "code",
   "execution_count": 5,
   "metadata": {},
   "outputs": [
    {
     "data": {
      "text/html": [
       "<div>\n",
       "<style scoped>\n",
       "    .dataframe tbody tr th:only-of-type {\n",
       "        vertical-align: middle;\n",
       "    }\n",
       "\n",
       "    .dataframe tbody tr th {\n",
       "        vertical-align: top;\n",
       "    }\n",
       "\n",
       "    .dataframe thead th {\n",
       "        text-align: right;\n",
       "    }\n",
       "</style>\n",
       "<table border=\"1\" class=\"dataframe\">\n",
       "  <thead>\n",
       "    <tr style=\"text-align: right;\">\n",
       "      <th></th>\n",
       "      <th>name</th>\n",
       "      <th>platform</th>\n",
       "      <th>year_of_release</th>\n",
       "      <th>genre</th>\n",
       "      <th>na_sales</th>\n",
       "      <th>eu_sales</th>\n",
       "      <th>jp_sales</th>\n",
       "      <th>other_sales</th>\n",
       "      <th>critic_score</th>\n",
       "      <th>user_score</th>\n",
       "      <th>rating</th>\n",
       "    </tr>\n",
       "  </thead>\n",
       "  <tbody>\n",
       "    <tr>\n",
       "      <td>5028</td>\n",
       "      <td>Tales of Hearts</td>\n",
       "      <td>PSV</td>\n",
       "      <td>2013.0</td>\n",
       "      <td>Role-Playing</td>\n",
       "      <td>0.11</td>\n",
       "      <td>0.11</td>\n",
       "      <td>0.09</td>\n",
       "      <td>0.07</td>\n",
       "      <td>NaN</td>\n",
       "      <td>NaN</td>\n",
       "      <td>NaN</td>\n",
       "    </tr>\n",
       "    <tr>\n",
       "      <td>6414</td>\n",
       "      <td>Sonic X: Game Boy Advance Video Volume 1</td>\n",
       "      <td>GBA</td>\n",
       "      <td>2004.0</td>\n",
       "      <td>Misc</td>\n",
       "      <td>0.19</td>\n",
       "      <td>0.07</td>\n",
       "      <td>0.00</td>\n",
       "      <td>0.00</td>\n",
       "      <td>NaN</td>\n",
       "      <td>NaN</td>\n",
       "      <td>NaN</td>\n",
       "    </tr>\n",
       "    <tr>\n",
       "      <td>12252</td>\n",
       "      <td>Flower, Sun, and Rain</td>\n",
       "      <td>DS</td>\n",
       "      <td>2008.0</td>\n",
       "      <td>Adventure</td>\n",
       "      <td>0.06</td>\n",
       "      <td>0.00</td>\n",
       "      <td>0.00</td>\n",
       "      <td>0.00</td>\n",
       "      <td>54.0</td>\n",
       "      <td>7.1</td>\n",
       "      <td>T</td>\n",
       "    </tr>\n",
       "    <tr>\n",
       "      <td>9734</td>\n",
       "      <td>O.D.T.: Escape... Or Die Trying</td>\n",
       "      <td>PS</td>\n",
       "      <td>1997.0</td>\n",
       "      <td>Adventure</td>\n",
       "      <td>0.07</td>\n",
       "      <td>0.05</td>\n",
       "      <td>0.00</td>\n",
       "      <td>0.01</td>\n",
       "      <td>NaN</td>\n",
       "      <td>NaN</td>\n",
       "      <td>NaN</td>\n",
       "    </tr>\n",
       "    <tr>\n",
       "      <td>11844</td>\n",
       "      <td>Hang On GP</td>\n",
       "      <td>SAT</td>\n",
       "      <td>1995.0</td>\n",
       "      <td>Racing</td>\n",
       "      <td>0.00</td>\n",
       "      <td>0.00</td>\n",
       "      <td>0.07</td>\n",
       "      <td>0.00</td>\n",
       "      <td>NaN</td>\n",
       "      <td>NaN</td>\n",
       "      <td>NaN</td>\n",
       "    </tr>\n",
       "    <tr>\n",
       "      <td>5632</td>\n",
       "      <td>No.1 Muscle Ranking - Kinniku Banzuke Vol. 1: ...</td>\n",
       "      <td>PS</td>\n",
       "      <td>1999.0</td>\n",
       "      <td>Sports</td>\n",
       "      <td>0.00</td>\n",
       "      <td>0.00</td>\n",
       "      <td>0.30</td>\n",
       "      <td>0.02</td>\n",
       "      <td>NaN</td>\n",
       "      <td>NaN</td>\n",
       "      <td>NaN</td>\n",
       "    </tr>\n",
       "    <tr>\n",
       "      <td>11823</td>\n",
       "      <td>Winx Club</td>\n",
       "      <td>GBA</td>\n",
       "      <td>2005.0</td>\n",
       "      <td>Shooter</td>\n",
       "      <td>0.05</td>\n",
       "      <td>0.02</td>\n",
       "      <td>0.00</td>\n",
       "      <td>0.00</td>\n",
       "      <td>NaN</td>\n",
       "      <td>tbd</td>\n",
       "      <td>E</td>\n",
       "    </tr>\n",
       "    <tr>\n",
       "      <td>241</td>\n",
       "      <td>Madden NFL 07</td>\n",
       "      <td>PS2</td>\n",
       "      <td>2006.0</td>\n",
       "      <td>Sports</td>\n",
       "      <td>3.63</td>\n",
       "      <td>0.24</td>\n",
       "      <td>0.01</td>\n",
       "      <td>0.61</td>\n",
       "      <td>84.0</td>\n",
       "      <td>8.2</td>\n",
       "      <td>E</td>\n",
       "    </tr>\n",
       "    <tr>\n",
       "      <td>103</td>\n",
       "      <td>Just Dance</td>\n",
       "      <td>Wii</td>\n",
       "      <td>2009.0</td>\n",
       "      <td>Misc</td>\n",
       "      <td>3.48</td>\n",
       "      <td>2.99</td>\n",
       "      <td>0.00</td>\n",
       "      <td>0.73</td>\n",
       "      <td>49.0</td>\n",
       "      <td>8</td>\n",
       "      <td>E10+</td>\n",
       "    </tr>\n",
       "    <tr>\n",
       "      <td>7219</td>\n",
       "      <td>Jackass the Game</td>\n",
       "      <td>PSP</td>\n",
       "      <td>2007.0</td>\n",
       "      <td>Action</td>\n",
       "      <td>0.09</td>\n",
       "      <td>0.08</td>\n",
       "      <td>0.00</td>\n",
       "      <td>0.05</td>\n",
       "      <td>58.0</td>\n",
       "      <td>7</td>\n",
       "      <td>M</td>\n",
       "    </tr>\n",
       "  </tbody>\n",
       "</table>\n",
       "</div>"
      ],
      "text/plain": [
       "                                                    name platform  \\\n",
       "5028                                     Tales of Hearts      PSV   \n",
       "6414            Sonic X: Game Boy Advance Video Volume 1      GBA   \n",
       "12252                              Flower, Sun, and Rain       DS   \n",
       "9734                     O.D.T.: Escape... Or Die Trying       PS   \n",
       "11844                                         Hang On GP      SAT   \n",
       "5632   No.1 Muscle Ranking - Kinniku Banzuke Vol. 1: ...       PS   \n",
       "11823                                          Winx Club      GBA   \n",
       "241                                        Madden NFL 07      PS2   \n",
       "103                                           Just Dance      Wii   \n",
       "7219                                    Jackass the Game      PSP   \n",
       "\n",
       "       year_of_release         genre  na_sales  eu_sales  jp_sales  \\\n",
       "5028            2013.0  Role-Playing      0.11      0.11      0.09   \n",
       "6414            2004.0          Misc      0.19      0.07      0.00   \n",
       "12252           2008.0     Adventure      0.06      0.00      0.00   \n",
       "9734            1997.0     Adventure      0.07      0.05      0.00   \n",
       "11844           1995.0        Racing      0.00      0.00      0.07   \n",
       "5632            1999.0        Sports      0.00      0.00      0.30   \n",
       "11823           2005.0       Shooter      0.05      0.02      0.00   \n",
       "241             2006.0        Sports      3.63      0.24      0.01   \n",
       "103             2009.0          Misc      3.48      2.99      0.00   \n",
       "7219            2007.0        Action      0.09      0.08      0.00   \n",
       "\n",
       "       other_sales  critic_score user_score rating  \n",
       "5028          0.07           NaN        NaN    NaN  \n",
       "6414          0.00           NaN        NaN    NaN  \n",
       "12252         0.00          54.0        7.1      T  \n",
       "9734          0.01           NaN        NaN    NaN  \n",
       "11844         0.00           NaN        NaN    NaN  \n",
       "5632          0.02           NaN        NaN    NaN  \n",
       "11823         0.00           NaN        tbd      E  \n",
       "241           0.61          84.0        8.2      E  \n",
       "103           0.73          49.0          8   E10+  \n",
       "7219          0.05          58.0          7      M  "
      ]
     },
     "execution_count": 5,
     "metadata": {},
     "output_type": "execute_result"
    }
   ],
   "source": [
    "data.sample(10)"
   ]
  },
  {
   "cell_type": "markdown",
   "metadata": {},
   "source": [
    "<a id='3-bullet'></a>\n",
    "#### Обработаем пропуски"
   ]
  },
  {
   "cell_type": "code",
   "execution_count": 6,
   "metadata": {},
   "outputs": [
    {
     "data": {
      "text/plain": [
       "name                  2\n",
       "platform              0\n",
       "year_of_release     269\n",
       "genre                 2\n",
       "na_sales              0\n",
       "eu_sales              0\n",
       "jp_sales              0\n",
       "other_sales           0\n",
       "critic_score       8578\n",
       "user_score         6701\n",
       "rating             6766\n",
       "dtype: int64"
      ]
     },
     "execution_count": 6,
     "metadata": {},
     "output_type": "execute_result"
    }
   ],
   "source": [
    "data.isnull().sum()"
   ]
  },
  {
   "cell_type": "code",
   "execution_count": 7,
   "metadata": {},
   "outputs": [
    {
     "data": {
      "text/html": [
       "<div>\n",
       "<style scoped>\n",
       "    .dataframe tbody tr th:only-of-type {\n",
       "        vertical-align: middle;\n",
       "    }\n",
       "\n",
       "    .dataframe tbody tr th {\n",
       "        vertical-align: top;\n",
       "    }\n",
       "\n",
       "    .dataframe thead th {\n",
       "        text-align: right;\n",
       "    }\n",
       "</style>\n",
       "<table border=\"1\" class=\"dataframe\">\n",
       "  <thead>\n",
       "    <tr style=\"text-align: right;\">\n",
       "      <th></th>\n",
       "      <th>name</th>\n",
       "      <th>platform</th>\n",
       "      <th>year_of_release</th>\n",
       "      <th>genre</th>\n",
       "      <th>na_sales</th>\n",
       "      <th>eu_sales</th>\n",
       "      <th>jp_sales</th>\n",
       "      <th>other_sales</th>\n",
       "      <th>critic_score</th>\n",
       "      <th>user_score</th>\n",
       "      <th>rating</th>\n",
       "    </tr>\n",
       "  </thead>\n",
       "  <tbody>\n",
       "    <tr>\n",
       "      <td>183</td>\n",
       "      <td>Madden NFL 2004</td>\n",
       "      <td>PS2</td>\n",
       "      <td>NaN</td>\n",
       "      <td>Sports</td>\n",
       "      <td>4.26</td>\n",
       "      <td>0.26</td>\n",
       "      <td>0.01</td>\n",
       "      <td>0.71</td>\n",
       "      <td>94.0</td>\n",
       "      <td>8.5</td>\n",
       "      <td>E</td>\n",
       "    </tr>\n",
       "    <tr>\n",
       "      <td>377</td>\n",
       "      <td>FIFA Soccer 2004</td>\n",
       "      <td>PS2</td>\n",
       "      <td>NaN</td>\n",
       "      <td>Sports</td>\n",
       "      <td>0.59</td>\n",
       "      <td>2.36</td>\n",
       "      <td>0.04</td>\n",
       "      <td>0.51</td>\n",
       "      <td>84.0</td>\n",
       "      <td>6.4</td>\n",
       "      <td>E</td>\n",
       "    </tr>\n",
       "    <tr>\n",
       "      <td>456</td>\n",
       "      <td>LEGO Batman: The Videogame</td>\n",
       "      <td>Wii</td>\n",
       "      <td>NaN</td>\n",
       "      <td>Action</td>\n",
       "      <td>1.80</td>\n",
       "      <td>0.97</td>\n",
       "      <td>0.00</td>\n",
       "      <td>0.29</td>\n",
       "      <td>74.0</td>\n",
       "      <td>7.9</td>\n",
       "      <td>E10+</td>\n",
       "    </tr>\n",
       "    <tr>\n",
       "      <td>475</td>\n",
       "      <td>wwe Smackdown vs. Raw 2006</td>\n",
       "      <td>PS2</td>\n",
       "      <td>NaN</td>\n",
       "      <td>Fighting</td>\n",
       "      <td>1.57</td>\n",
       "      <td>1.02</td>\n",
       "      <td>0.00</td>\n",
       "      <td>0.41</td>\n",
       "      <td>NaN</td>\n",
       "      <td>NaN</td>\n",
       "      <td>NaN</td>\n",
       "    </tr>\n",
       "    <tr>\n",
       "      <td>609</td>\n",
       "      <td>Space Invaders</td>\n",
       "      <td>2600</td>\n",
       "      <td>NaN</td>\n",
       "      <td>Shooter</td>\n",
       "      <td>2.36</td>\n",
       "      <td>0.14</td>\n",
       "      <td>0.00</td>\n",
       "      <td>0.03</td>\n",
       "      <td>NaN</td>\n",
       "      <td>NaN</td>\n",
       "      <td>NaN</td>\n",
       "    </tr>\n",
       "    <tr>\n",
       "      <td>...</td>\n",
       "      <td>...</td>\n",
       "      <td>...</td>\n",
       "      <td>...</td>\n",
       "      <td>...</td>\n",
       "      <td>...</td>\n",
       "      <td>...</td>\n",
       "      <td>...</td>\n",
       "      <td>...</td>\n",
       "      <td>...</td>\n",
       "      <td>...</td>\n",
       "      <td>...</td>\n",
       "    </tr>\n",
       "    <tr>\n",
       "      <td>16373</td>\n",
       "      <td>PDC World Championship Darts 2008</td>\n",
       "      <td>PSP</td>\n",
       "      <td>NaN</td>\n",
       "      <td>Sports</td>\n",
       "      <td>0.01</td>\n",
       "      <td>0.00</td>\n",
       "      <td>0.00</td>\n",
       "      <td>0.00</td>\n",
       "      <td>43.0</td>\n",
       "      <td>tbd</td>\n",
       "      <td>E10+</td>\n",
       "    </tr>\n",
       "    <tr>\n",
       "      <td>16405</td>\n",
       "      <td>Freaky Flyers</td>\n",
       "      <td>GC</td>\n",
       "      <td>NaN</td>\n",
       "      <td>Racing</td>\n",
       "      <td>0.01</td>\n",
       "      <td>0.00</td>\n",
       "      <td>0.00</td>\n",
       "      <td>0.00</td>\n",
       "      <td>69.0</td>\n",
       "      <td>6.5</td>\n",
       "      <td>T</td>\n",
       "    </tr>\n",
       "    <tr>\n",
       "      <td>16448</td>\n",
       "      <td>Inversion</td>\n",
       "      <td>PC</td>\n",
       "      <td>NaN</td>\n",
       "      <td>Shooter</td>\n",
       "      <td>0.01</td>\n",
       "      <td>0.00</td>\n",
       "      <td>0.00</td>\n",
       "      <td>0.00</td>\n",
       "      <td>59.0</td>\n",
       "      <td>6.7</td>\n",
       "      <td>M</td>\n",
       "    </tr>\n",
       "    <tr>\n",
       "      <td>16458</td>\n",
       "      <td>Hakuouki: Shinsengumi Kitan</td>\n",
       "      <td>PS3</td>\n",
       "      <td>NaN</td>\n",
       "      <td>Adventure</td>\n",
       "      <td>0.01</td>\n",
       "      <td>0.00</td>\n",
       "      <td>0.00</td>\n",
       "      <td>0.00</td>\n",
       "      <td>NaN</td>\n",
       "      <td>NaN</td>\n",
       "      <td>NaN</td>\n",
       "    </tr>\n",
       "    <tr>\n",
       "      <td>16522</td>\n",
       "      <td>Virtua Quest</td>\n",
       "      <td>GC</td>\n",
       "      <td>NaN</td>\n",
       "      <td>Role-Playing</td>\n",
       "      <td>0.01</td>\n",
       "      <td>0.00</td>\n",
       "      <td>0.00</td>\n",
       "      <td>0.00</td>\n",
       "      <td>55.0</td>\n",
       "      <td>5.5</td>\n",
       "      <td>T</td>\n",
       "    </tr>\n",
       "  </tbody>\n",
       "</table>\n",
       "<p>269 rows × 11 columns</p>\n",
       "</div>"
      ],
      "text/plain": [
       "                                    name platform  year_of_release  \\\n",
       "183                      Madden NFL 2004      PS2              NaN   \n",
       "377                     FIFA Soccer 2004      PS2              NaN   \n",
       "456           LEGO Batman: The Videogame      Wii              NaN   \n",
       "475           wwe Smackdown vs. Raw 2006      PS2              NaN   \n",
       "609                       Space Invaders     2600              NaN   \n",
       "...                                  ...      ...              ...   \n",
       "16373  PDC World Championship Darts 2008      PSP              NaN   \n",
       "16405                      Freaky Flyers       GC              NaN   \n",
       "16448                          Inversion       PC              NaN   \n",
       "16458        Hakuouki: Shinsengumi Kitan      PS3              NaN   \n",
       "16522                       Virtua Quest       GC              NaN   \n",
       "\n",
       "              genre  na_sales  eu_sales  jp_sales  other_sales  critic_score  \\\n",
       "183          Sports      4.26      0.26      0.01         0.71          94.0   \n",
       "377          Sports      0.59      2.36      0.04         0.51          84.0   \n",
       "456          Action      1.80      0.97      0.00         0.29          74.0   \n",
       "475        Fighting      1.57      1.02      0.00         0.41           NaN   \n",
       "609         Shooter      2.36      0.14      0.00         0.03           NaN   \n",
       "...             ...       ...       ...       ...          ...           ...   \n",
       "16373        Sports      0.01      0.00      0.00         0.00          43.0   \n",
       "16405        Racing      0.01      0.00      0.00         0.00          69.0   \n",
       "16448       Shooter      0.01      0.00      0.00         0.00          59.0   \n",
       "16458     Adventure      0.01      0.00      0.00         0.00           NaN   \n",
       "16522  Role-Playing      0.01      0.00      0.00         0.00          55.0   \n",
       "\n",
       "      user_score rating  \n",
       "183          8.5      E  \n",
       "377          6.4      E  \n",
       "456          7.9   E10+  \n",
       "475          NaN    NaN  \n",
       "609          NaN    NaN  \n",
       "...          ...    ...  \n",
       "16373        tbd   E10+  \n",
       "16405        6.5      T  \n",
       "16448        6.7      M  \n",
       "16458        NaN    NaN  \n",
       "16522        5.5      T  \n",
       "\n",
       "[269 rows x 11 columns]"
      ]
     },
     "execution_count": 7,
     "metadata": {},
     "output_type": "execute_result"
    }
   ],
   "source": [
    "data[data['year_of_release'].isnull()]"
   ]
  },
  {
   "cell_type": "code",
   "execution_count": 8,
   "metadata": {},
   "outputs": [
    {
     "name": "stdout",
     "output_type": "stream",
     "text": [
      "Отфильтровали 1.6%\n"
     ]
    }
   ],
   "source": [
    "#для пропусков в годе выпуска нет адекватной замены, отфильтруем эти строки\n",
    "df = data[data['year_of_release'] > 0]\n",
    "part_of_data = 1 - (data[data['year_of_release'] > 0].shape[0] / data.shape[0])\n",
    "print('Отфильтровали {:.1%}'.format(part_of_data))"
   ]
  },
  {
   "cell_type": "code",
   "execution_count": 9,
   "metadata": {},
   "outputs": [
    {
     "data": {
      "text/plain": [
       "0"
      ]
     },
     "execution_count": 9,
     "metadata": {},
     "output_type": "execute_result"
    }
   ],
   "source": [
    "#проверим наличие дубликатов в данных\n",
    "df.duplicated().sum()"
   ]
  },
  {
   "cell_type": "code",
   "execution_count": 10,
   "metadata": {},
   "outputs": [
    {
     "name": "stderr",
     "output_type": "stream",
     "text": [
      "/opt/conda/lib/python3.7/site-packages/pandas/core/indexing.py:494: SettingWithCopyWarning: \n",
      "A value is trying to be set on a copy of a slice from a DataFrame.\n",
      "Try using .loc[row_indexer,col_indexer] = value instead\n",
      "\n",
      "See the caveats in the documentation: http://pandas.pydata.org/pandas-docs/stable/user_guide/indexing.html#returning-a-view-versus-a-copy\n",
      "  self.obj[item] = s\n"
     ]
    }
   ],
   "source": [
    "df.loc[df['name'].isnull(), 'name'] = 'no_name_'\n",
    "df = df.loc[df['name'] != 'no_name_']"
   ]
  },
  {
   "cell_type": "code",
   "execution_count": 11,
   "metadata": {},
   "outputs": [
    {
     "data": {
      "text/plain": [
       "name                  0\n",
       "platform              0\n",
       "year_of_release       0\n",
       "genre                 0\n",
       "na_sales              0\n",
       "eu_sales              0\n",
       "jp_sales              0\n",
       "other_sales           0\n",
       "critic_score       8461\n",
       "user_score         6605\n",
       "rating             6676\n",
       "dtype: int64"
      ]
     },
     "execution_count": 11,
     "metadata": {},
     "output_type": "execute_result"
    }
   ],
   "source": [
    "df.isnull().sum()"
   ]
  },
  {
   "cell_type": "markdown",
   "metadata": {},
   "source": [
    "Отфильтровали пропуски в \"year_of_release\" (потеряли 1,6% данных), \"name\" и \"genre\", так как они имеют малую долю в общей массе и заполнить их ничем нельзя. Пропуски в \"rating\", \"user_score\", \"critic_score\" нельзя заполнить адекватными данными, оставим в таком виде, пока это не мешает расчетам."
   ]
  },
  {
   "cell_type": "markdown",
   "metadata": {},
   "source": [
    "<a id='4-bullet'></a>\n",
    "#### Изменим тип данных"
   ]
  },
  {
   "cell_type": "code",
   "execution_count": 12,
   "metadata": {},
   "outputs": [
    {
     "data": {
      "text/html": [
       "<div>\n",
       "<style scoped>\n",
       "    .dataframe tbody tr th:only-of-type {\n",
       "        vertical-align: middle;\n",
       "    }\n",
       "\n",
       "    .dataframe tbody tr th {\n",
       "        vertical-align: top;\n",
       "    }\n",
       "\n",
       "    .dataframe thead th {\n",
       "        text-align: right;\n",
       "    }\n",
       "</style>\n",
       "<table border=\"1\" class=\"dataframe\">\n",
       "  <thead>\n",
       "    <tr style=\"text-align: right;\">\n",
       "      <th></th>\n",
       "      <th>name</th>\n",
       "      <th>platform</th>\n",
       "      <th>year_of_release</th>\n",
       "      <th>genre</th>\n",
       "      <th>na_sales</th>\n",
       "      <th>eu_sales</th>\n",
       "      <th>jp_sales</th>\n",
       "      <th>other_sales</th>\n",
       "      <th>critic_score</th>\n",
       "      <th>user_score</th>\n",
       "      <th>rating</th>\n",
       "    </tr>\n",
       "  </thead>\n",
       "  <tbody>\n",
       "    <tr>\n",
       "      <td>0</td>\n",
       "      <td>Wii Sports</td>\n",
       "      <td>Wii</td>\n",
       "      <td>2006</td>\n",
       "      <td>Sports</td>\n",
       "      <td>41.36</td>\n",
       "      <td>28.96</td>\n",
       "      <td>3.77</td>\n",
       "      <td>8.45</td>\n",
       "      <td>76.0</td>\n",
       "      <td>8</td>\n",
       "      <td>E</td>\n",
       "    </tr>\n",
       "    <tr>\n",
       "      <td>1</td>\n",
       "      <td>Super Mario Bros.</td>\n",
       "      <td>NES</td>\n",
       "      <td>1985</td>\n",
       "      <td>Platform</td>\n",
       "      <td>29.08</td>\n",
       "      <td>3.58</td>\n",
       "      <td>6.81</td>\n",
       "      <td>0.77</td>\n",
       "      <td>NaN</td>\n",
       "      <td>NaN</td>\n",
       "      <td>NaN</td>\n",
       "    </tr>\n",
       "    <tr>\n",
       "      <td>2</td>\n",
       "      <td>Mario Kart Wii</td>\n",
       "      <td>Wii</td>\n",
       "      <td>2008</td>\n",
       "      <td>Racing</td>\n",
       "      <td>15.68</td>\n",
       "      <td>12.76</td>\n",
       "      <td>3.79</td>\n",
       "      <td>3.29</td>\n",
       "      <td>82.0</td>\n",
       "      <td>8.3</td>\n",
       "      <td>E</td>\n",
       "    </tr>\n",
       "    <tr>\n",
       "      <td>3</td>\n",
       "      <td>Wii Sports Resort</td>\n",
       "      <td>Wii</td>\n",
       "      <td>2009</td>\n",
       "      <td>Sports</td>\n",
       "      <td>15.61</td>\n",
       "      <td>10.93</td>\n",
       "      <td>3.28</td>\n",
       "      <td>2.95</td>\n",
       "      <td>80.0</td>\n",
       "      <td>8</td>\n",
       "      <td>E</td>\n",
       "    </tr>\n",
       "    <tr>\n",
       "      <td>4</td>\n",
       "      <td>Pokemon Red/Pokemon Blue</td>\n",
       "      <td>GB</td>\n",
       "      <td>1996</td>\n",
       "      <td>Role-Playing</td>\n",
       "      <td>11.27</td>\n",
       "      <td>8.89</td>\n",
       "      <td>10.22</td>\n",
       "      <td>1.00</td>\n",
       "      <td>NaN</td>\n",
       "      <td>NaN</td>\n",
       "      <td>NaN</td>\n",
       "    </tr>\n",
       "  </tbody>\n",
       "</table>\n",
       "</div>"
      ],
      "text/plain": [
       "                       name platform  year_of_release         genre  na_sales  \\\n",
       "0                Wii Sports      Wii             2006        Sports     41.36   \n",
       "1         Super Mario Bros.      NES             1985      Platform     29.08   \n",
       "2            Mario Kart Wii      Wii             2008        Racing     15.68   \n",
       "3         Wii Sports Resort      Wii             2009        Sports     15.61   \n",
       "4  Pokemon Red/Pokemon Blue       GB             1996  Role-Playing     11.27   \n",
       "\n",
       "   eu_sales  jp_sales  other_sales  critic_score user_score rating  \n",
       "0     28.96      3.77         8.45          76.0          8      E  \n",
       "1      3.58      6.81         0.77           NaN        NaN    NaN  \n",
       "2     12.76      3.79         3.29          82.0        8.3      E  \n",
       "3     10.93      3.28         2.95          80.0          8      E  \n",
       "4      8.89     10.22         1.00           NaN        NaN    NaN  "
      ]
     },
     "execution_count": 12,
     "metadata": {},
     "output_type": "execute_result"
    }
   ],
   "source": [
    "#приведем к int значения в year_of_release\n",
    "#можно было бы привести к значению года, но это уже избыточно, тк нет даты, месяца или времени\n",
    "df['year_of_release'] = df['year_of_release'].astype('int')\n",
    "df.head()"
   ]
  },
  {
   "cell_type": "code",
   "execution_count": 14,
   "metadata": {},
   "outputs": [
    {
     "data": {
      "text/plain": [
       "name                  0\n",
       "platform              0\n",
       "year_of_release       0\n",
       "genre                 0\n",
       "na_sales              0\n",
       "eu_sales              0\n",
       "jp_sales              0\n",
       "other_sales           0\n",
       "critic_score       8461\n",
       "user_score         8981\n",
       "rating             6676\n",
       "dtype: int64"
      ]
     },
     "execution_count": 14,
     "metadata": {},
     "output_type": "execute_result"
    }
   ],
   "source": [
    "#сокращение tbd есть только в user_score\n",
    "df.loc[df['user_score'] == 'tbd', 'user_score'] = np.nan \n",
    "df.isnull().sum()"
   ]
  },
  {
   "cell_type": "markdown",
   "metadata": {},
   "source": [
    "<a id='5-bullet'></a>\n",
    "#### Добавим столбец с суммарными продажами по всем регионам"
   ]
  },
  {
   "cell_type": "code",
   "execution_count": 15,
   "metadata": {},
   "outputs": [
    {
     "data": {
      "text/html": [
       "<div>\n",
       "<style scoped>\n",
       "    .dataframe tbody tr th:only-of-type {\n",
       "        vertical-align: middle;\n",
       "    }\n",
       "\n",
       "    .dataframe tbody tr th {\n",
       "        vertical-align: top;\n",
       "    }\n",
       "\n",
       "    .dataframe thead th {\n",
       "        text-align: right;\n",
       "    }\n",
       "</style>\n",
       "<table border=\"1\" class=\"dataframe\">\n",
       "  <thead>\n",
       "    <tr style=\"text-align: right;\">\n",
       "      <th></th>\n",
       "      <th>name</th>\n",
       "      <th>platform</th>\n",
       "      <th>year_of_release</th>\n",
       "      <th>genre</th>\n",
       "      <th>na_sales</th>\n",
       "      <th>eu_sales</th>\n",
       "      <th>jp_sales</th>\n",
       "      <th>other_sales</th>\n",
       "      <th>critic_score</th>\n",
       "      <th>user_score</th>\n",
       "      <th>rating</th>\n",
       "      <th>total_sales</th>\n",
       "    </tr>\n",
       "  </thead>\n",
       "  <tbody>\n",
       "    <tr>\n",
       "      <td>11429</td>\n",
       "      <td>Gintama Gin-Oh Quest: Gin-San ga Tenshoku Shit...</td>\n",
       "      <td>DS</td>\n",
       "      <td>2007</td>\n",
       "      <td>Role-Playing</td>\n",
       "      <td>0.00</td>\n",
       "      <td>0.00</td>\n",
       "      <td>0.08</td>\n",
       "      <td>0.00</td>\n",
       "      <td>NaN</td>\n",
       "      <td>NaN</td>\n",
       "      <td>NaN</td>\n",
       "      <td>0.08</td>\n",
       "    </tr>\n",
       "    <tr>\n",
       "      <td>5697</td>\n",
       "      <td>Shrek the Third</td>\n",
       "      <td>PSP</td>\n",
       "      <td>2007</td>\n",
       "      <td>Action</td>\n",
       "      <td>0.08</td>\n",
       "      <td>0.15</td>\n",
       "      <td>0.00</td>\n",
       "      <td>0.09</td>\n",
       "      <td>57.0</td>\n",
       "      <td>NaN</td>\n",
       "      <td>E10+</td>\n",
       "      <td>0.23</td>\n",
       "    </tr>\n",
       "    <tr>\n",
       "      <td>4049</td>\n",
       "      <td>Middle-Earth: Shadow of Mordor</td>\n",
       "      <td>X360</td>\n",
       "      <td>2014</td>\n",
       "      <td>Action</td>\n",
       "      <td>0.28</td>\n",
       "      <td>0.16</td>\n",
       "      <td>0.00</td>\n",
       "      <td>0.04</td>\n",
       "      <td>NaN</td>\n",
       "      <td>4.6</td>\n",
       "      <td>M</td>\n",
       "      <td>0.44</td>\n",
       "    </tr>\n",
       "    <tr>\n",
       "      <td>12442</td>\n",
       "      <td>Monster Garage</td>\n",
       "      <td>XB</td>\n",
       "      <td>2004</td>\n",
       "      <td>Strategy</td>\n",
       "      <td>0.05</td>\n",
       "      <td>0.01</td>\n",
       "      <td>0.00</td>\n",
       "      <td>0.00</td>\n",
       "      <td>38.0</td>\n",
       "      <td>NaN</td>\n",
       "      <td>T</td>\n",
       "      <td>0.06</td>\n",
       "    </tr>\n",
       "    <tr>\n",
       "      <td>4986</td>\n",
       "      <td>Yoshi Touch &amp; Go</td>\n",
       "      <td>DS</td>\n",
       "      <td>2005</td>\n",
       "      <td>Platform</td>\n",
       "      <td>0.34</td>\n",
       "      <td>0.02</td>\n",
       "      <td>0.00</td>\n",
       "      <td>0.03</td>\n",
       "      <td>NaN</td>\n",
       "      <td>NaN</td>\n",
       "      <td>NaN</td>\n",
       "      <td>0.36</td>\n",
       "    </tr>\n",
       "    <tr>\n",
       "      <td>6596</td>\n",
       "      <td>TOCA Race Driver 2: Ultimate Racing Simulator</td>\n",
       "      <td>PSP</td>\n",
       "      <td>2005</td>\n",
       "      <td>Racing</td>\n",
       "      <td>0.00</td>\n",
       "      <td>0.25</td>\n",
       "      <td>0.00</td>\n",
       "      <td>0.00</td>\n",
       "      <td>NaN</td>\n",
       "      <td>NaN</td>\n",
       "      <td>NaN</td>\n",
       "      <td>0.25</td>\n",
       "    </tr>\n",
       "    <tr>\n",
       "      <td>16196</td>\n",
       "      <td>Bakumatsu Koihana: Shinsengumi DS</td>\n",
       "      <td>DS</td>\n",
       "      <td>2008</td>\n",
       "      <td>Adventure</td>\n",
       "      <td>0.00</td>\n",
       "      <td>0.00</td>\n",
       "      <td>0.01</td>\n",
       "      <td>0.00</td>\n",
       "      <td>NaN</td>\n",
       "      <td>NaN</td>\n",
       "      <td>NaN</td>\n",
       "      <td>0.01</td>\n",
       "    </tr>\n",
       "    <tr>\n",
       "      <td>9535</td>\n",
       "      <td>Shin Megami Tensei: Digital Devil Saga</td>\n",
       "      <td>PS2</td>\n",
       "      <td>2004</td>\n",
       "      <td>Role-Playing</td>\n",
       "      <td>0.06</td>\n",
       "      <td>0.05</td>\n",
       "      <td>0.00</td>\n",
       "      <td>0.02</td>\n",
       "      <td>78.0</td>\n",
       "      <td>8.2</td>\n",
       "      <td>M</td>\n",
       "      <td>0.11</td>\n",
       "    </tr>\n",
       "    <tr>\n",
       "      <td>3344</td>\n",
       "      <td>Jaws Unleashed</td>\n",
       "      <td>PS2</td>\n",
       "      <td>2006</td>\n",
       "      <td>Action</td>\n",
       "      <td>0.50</td>\n",
       "      <td>0.02</td>\n",
       "      <td>0.00</td>\n",
       "      <td>0.08</td>\n",
       "      <td>52.0</td>\n",
       "      <td>7.5</td>\n",
       "      <td>M</td>\n",
       "      <td>0.52</td>\n",
       "    </tr>\n",
       "    <tr>\n",
       "      <td>4500</td>\n",
       "      <td>InuYasha: The Secret of the Cursed Mask</td>\n",
       "      <td>PS2</td>\n",
       "      <td>2004</td>\n",
       "      <td>Role-Playing</td>\n",
       "      <td>0.21</td>\n",
       "      <td>0.17</td>\n",
       "      <td>0.00</td>\n",
       "      <td>0.06</td>\n",
       "      <td>51.0</td>\n",
       "      <td>8.1</td>\n",
       "      <td>T</td>\n",
       "      <td>0.38</td>\n",
       "    </tr>\n",
       "  </tbody>\n",
       "</table>\n",
       "</div>"
      ],
      "text/plain": [
       "                                                    name platform  \\\n",
       "11429  Gintama Gin-Oh Quest: Gin-San ga Tenshoku Shit...       DS   \n",
       "5697                                     Shrek the Third      PSP   \n",
       "4049                      Middle-Earth: Shadow of Mordor     X360   \n",
       "12442                                     Monster Garage       XB   \n",
       "4986                                    Yoshi Touch & Go       DS   \n",
       "6596       TOCA Race Driver 2: Ultimate Racing Simulator      PSP   \n",
       "16196                  Bakumatsu Koihana: Shinsengumi DS       DS   \n",
       "9535              Shin Megami Tensei: Digital Devil Saga      PS2   \n",
       "3344                                      Jaws Unleashed      PS2   \n",
       "4500             InuYasha: The Secret of the Cursed Mask      PS2   \n",
       "\n",
       "       year_of_release         genre  na_sales  eu_sales  jp_sales  \\\n",
       "11429             2007  Role-Playing      0.00      0.00      0.08   \n",
       "5697              2007        Action      0.08      0.15      0.00   \n",
       "4049              2014        Action      0.28      0.16      0.00   \n",
       "12442             2004      Strategy      0.05      0.01      0.00   \n",
       "4986              2005      Platform      0.34      0.02      0.00   \n",
       "6596              2005        Racing      0.00      0.25      0.00   \n",
       "16196             2008     Adventure      0.00      0.00      0.01   \n",
       "9535              2004  Role-Playing      0.06      0.05      0.00   \n",
       "3344              2006        Action      0.50      0.02      0.00   \n",
       "4500              2004  Role-Playing      0.21      0.17      0.00   \n",
       "\n",
       "       other_sales  critic_score user_score rating  total_sales  \n",
       "11429         0.00           NaN        NaN    NaN         0.08  \n",
       "5697          0.09          57.0        NaN   E10+         0.23  \n",
       "4049          0.04           NaN        4.6      M         0.44  \n",
       "12442         0.00          38.0        NaN      T         0.06  \n",
       "4986          0.03           NaN        NaN    NaN         0.36  \n",
       "6596          0.00           NaN        NaN    NaN         0.25  \n",
       "16196         0.00           NaN        NaN    NaN         0.01  \n",
       "9535          0.02          78.0        8.2      M         0.11  \n",
       "3344          0.08          52.0        7.5      M         0.52  \n",
       "4500          0.06          51.0        8.1      T         0.38  "
      ]
     },
     "execution_count": 15,
     "metadata": {},
     "output_type": "execute_result"
    }
   ],
   "source": [
    "df['total_sales'] = df['na_sales'] + df['eu_sales'] + df['jp_sales']\n",
    "df.sample(10)"
   ]
  },
  {
   "cell_type": "markdown",
   "metadata": {},
   "source": [
    "В процессе подготовки данных появились следующие выводы:\n",
    "\n",
    "   - Столбцы были названы в разном регистре. Стоит выяснить почему так получилось у инженеров, занимающихся выгрузкой.\n",
    "   - Обнаружили пропуски в годе выпуска, для этих данных нет адекватной замены, отфильтровали эти строки, упустив 1,6% данных. Пропуски в рейтингах критиков, пользователей и возрастных ограничений оставим не заполняя, до тех пор, пока они не будут мешать расчетам, так как при заполнении велика вероятность сильно исказить картину. Также найдены 2 состоящие практически только из одиних пропусков строки, отильтровали их, возможно они появились в процессе выгрузки данных, когда было нестабильное соединение, желательно это выяснить.\n",
    "   - Дубликатов в данных не обнаружено.\n",
    "   - Обработали сокращение tbd, оно нашлось только в user_score. Это сокращение означает, что оценки ещё нет, она будет выставленна позднее. Это очень похоже на сущность пропусков в этих таких же колонках, поэтому заменим на пропуки."
   ]
  },
  {
   "cell_type": "markdown",
   "metadata": {},
   "source": [
    "### 3. Проанализируем данные"
   ]
  },
  {
   "cell_type": "markdown",
   "metadata": {},
   "source": [
    "<a id='6-bullet'></a>\n",
    "#### Посмотрим сколько игр выпускалось в разные годы"
   ]
  },
  {
   "cell_type": "code",
   "execution_count": 16,
   "metadata": {},
   "outputs": [
    {
     "data": {
      "text/plain": [
       "Text(0, 0.5, 'Количество выпущенных игр, шт')"
      ]
     },
     "execution_count": 16,
     "metadata": {},
     "output_type": "execute_result"
    },
    {
     "data": {
      "image/png": "[encoded data removed]",
      "text/plain": [
       "<Figure size 576x432 with 1 Axes>"
      ]
     },
     "metadata": {
      "needs_background": "light"
     },
     "output_type": "display_data"
    }
   ],
   "source": [
    "#посмотрим сколько игр выпускалось в разные годы\n",
    "df.pivot_table(index='year_of_release', values='name', aggfunc='count').plot(grid=True, figsize=(8, 6))\n",
    "plt.title('Объем выпущенных игр по годам')\n",
    "plt.xlabel('Год выпуска')\n",
    "plt.ylabel('Количество выпущенных игр, шт')"
   ]
  },
  {
   "cell_type": "markdown",
   "metadata": {},
   "source": [
    "Видно как индустрия пережила пик в 2008-09 годах и после откатилась по количеству выпущенных игр на уровень 2001-02 гг. и сейчас тренд на падение. Думаю актуальным можно считать период не раньше 2000 года, уточним эту гипотезу."
   ]
  },
  {
   "cell_type": "code",
   "execution_count": 17,
   "metadata": {},
   "outputs": [
    {
     "data": {
      "text/html": [
       "<div>\n",
       "<style scoped>\n",
       "    .dataframe tbody tr th:only-of-type {\n",
       "        vertical-align: middle;\n",
       "    }\n",
       "\n",
       "    .dataframe tbody tr th {\n",
       "        vertical-align: top;\n",
       "    }\n",
       "\n",
       "    .dataframe thead th {\n",
       "        text-align: right;\n",
       "    }\n",
       "</style>\n",
       "<table border=\"1\" class=\"dataframe\">\n",
       "  <thead>\n",
       "    <tr style=\"text-align: right;\">\n",
       "      <th></th>\n",
       "      <th>total_sales</th>\n",
       "    </tr>\n",
       "    <tr>\n",
       "      <th>platform</th>\n",
       "      <th></th>\n",
       "    </tr>\n",
       "  </thead>\n",
       "  <tbody>\n",
       "    <tr>\n",
       "      <td>PS2</td>\n",
       "      <td>1043.09</td>\n",
       "    </tr>\n",
       "    <tr>\n",
       "      <td>X360</td>\n",
       "      <td>876.36</td>\n",
       "    </tr>\n",
       "    <tr>\n",
       "      <td>Wii</td>\n",
       "      <td>813.47</td>\n",
       "    </tr>\n",
       "    <tr>\n",
       "      <td>PS3</td>\n",
       "      <td>796.75</td>\n",
       "    </tr>\n",
       "    <tr>\n",
       "      <td>DS</td>\n",
       "      <td>743.74</td>\n",
       "    </tr>\n",
       "    <tr>\n",
       "      <td>PS</td>\n",
       "      <td>686.89</td>\n",
       "    </tr>\n",
       "  </tbody>\n",
       "</table>\n",
       "</div>"
      ],
      "text/plain": [
       "          total_sales\n",
       "platform             \n",
       "PS2           1043.09\n",
       "X360           876.36\n",
       "Wii            813.47\n",
       "PS3            796.75\n",
       "DS             743.74\n",
       "PS             686.89"
      ]
     },
     "execution_count": 17,
     "metadata": {},
     "output_type": "execute_result"
    }
   ],
   "source": [
    "df\\\n",
    "    .pivot_table(index='platform', values='total_sales', aggfunc='sum')\\\n",
    "    .sort_values(by='total_sales', ascending=False)\\\n",
    "    .head(6)"
   ]
  },
  {
   "cell_type": "code",
   "execution_count": 18,
   "metadata": {},
   "outputs": [],
   "source": [
    "top_platforms = ['PS2', 'X360', 'Wii', 'PS3', 'DS', 'PS']"
   ]
  },
  {
   "cell_type": "markdown",
   "metadata": {},
   "source": [
    "<a id='7-bullet'></a>\n",
    "#### Посмотрим как менялись продажи по платформам"
   ]
  },
  {
   "cell_type": "code",
   "execution_count": 19,
   "metadata": {},
   "outputs": [
    {
     "data": {
      "text/plain": [
       "Text(0, 0.5, 'Суммарные продажи, млн. шт')"
      ]
     },
     "execution_count": 19,
     "metadata": {},
     "output_type": "execute_result"
    },
    {
     "data": {
      "image/png": "[encoded data removed]",
      "text/plain": [
       "<Figure size 1152x576 with 1 Axes>"
      ]
     },
     "metadata": {
      "needs_background": "light"
     },
     "output_type": "display_data"
    }
   ],
   "source": [
    "#посмотрим, как менялись продажи по платформам.\n",
    "#выберем платформы с наибольшими суммарными продажами и построим распределение по годам.\n",
    "#поймем за какой характерный срок появляются новые и исчезают старые платформы?\n",
    "platform_by_year = (df\n",
    "                    .query('platform == @top_platforms')\n",
    "                    .pivot_table(index='year_of_release', columns='platform', values='total_sales', aggfunc='sum')\n",
    "                    )\n",
    "\n",
    "platform_by_year.plot(style='o-', grid=True, figsize=(16, 8))\n",
    "plt.title('Продажи игр по платформам')\n",
    "plt.xlabel('Год выпуска')\n",
    "plt.ylabel('Суммарные продажи, млн. шт')"
   ]
  },
  {
   "cell_type": "code",
   "execution_count": 20,
   "metadata": {},
   "outputs": [
    {
     "data": {
      "text/html": [
       "<div>\n",
       "<style scoped>\n",
       "    .dataframe tbody tr th:only-of-type {\n",
       "        vertical-align: middle;\n",
       "    }\n",
       "\n",
       "    .dataframe tbody tr th {\n",
       "        vertical-align: top;\n",
       "    }\n",
       "\n",
       "    .dataframe thead th {\n",
       "        text-align: right;\n",
       "    }\n",
       "</style>\n",
       "<table border=\"1\" class=\"dataframe\">\n",
       "  <thead>\n",
       "    <tr style=\"text-align: right;\">\n",
       "      <th>platform</th>\n",
       "      <th>DS</th>\n",
       "      <th>PS</th>\n",
       "      <th>PS2</th>\n",
       "      <th>PS3</th>\n",
       "      <th>Wii</th>\n",
       "      <th>X360</th>\n",
       "    </tr>\n",
       "    <tr>\n",
       "      <th>year_of_release</th>\n",
       "      <th></th>\n",
       "      <th></th>\n",
       "      <th></th>\n",
       "      <th></th>\n",
       "      <th></th>\n",
       "      <th></th>\n",
       "    </tr>\n",
       "  </thead>\n",
       "  <tbody>\n",
       "    <tr>\n",
       "      <td>1985</td>\n",
       "      <td>0.02</td>\n",
       "      <td>0.00</td>\n",
       "      <td>0.00</td>\n",
       "      <td>0.00</td>\n",
       "      <td>0.00</td>\n",
       "      <td>0.00</td>\n",
       "    </tr>\n",
       "    <tr>\n",
       "      <td>1994</td>\n",
       "      <td>0.00</td>\n",
       "      <td>5.63</td>\n",
       "      <td>0.00</td>\n",
       "      <td>0.00</td>\n",
       "      <td>0.00</td>\n",
       "      <td>0.00</td>\n",
       "    </tr>\n",
       "    <tr>\n",
       "      <td>1995</td>\n",
       "      <td>0.00</td>\n",
       "      <td>34.00</td>\n",
       "      <td>0.00</td>\n",
       "      <td>0.00</td>\n",
       "      <td>0.00</td>\n",
       "      <td>0.00</td>\n",
       "    </tr>\n",
       "    <tr>\n",
       "      <td>1996</td>\n",
       "      <td>0.00</td>\n",
       "      <td>89.16</td>\n",
       "      <td>0.00</td>\n",
       "      <td>0.00</td>\n",
       "      <td>0.00</td>\n",
       "      <td>0.00</td>\n",
       "    </tr>\n",
       "    <tr>\n",
       "      <td>1997</td>\n",
       "      <td>0.00</td>\n",
       "      <td>128.30</td>\n",
       "      <td>0.00</td>\n",
       "      <td>0.00</td>\n",
       "      <td>0.00</td>\n",
       "      <td>0.00</td>\n",
       "    </tr>\n",
       "    <tr>\n",
       "      <td>1998</td>\n",
       "      <td>0.00</td>\n",
       "      <td>160.44</td>\n",
       "      <td>0.00</td>\n",
       "      <td>0.00</td>\n",
       "      <td>0.00</td>\n",
       "      <td>0.00</td>\n",
       "    </tr>\n",
       "    <tr>\n",
       "      <td>1999</td>\n",
       "      <td>0.00</td>\n",
       "      <td>136.61</td>\n",
       "      <td>0.00</td>\n",
       "      <td>0.00</td>\n",
       "      <td>0.00</td>\n",
       "      <td>0.00</td>\n",
       "    </tr>\n",
       "    <tr>\n",
       "      <td>2000</td>\n",
       "      <td>0.00</td>\n",
       "      <td>91.09</td>\n",
       "      <td>35.59</td>\n",
       "      <td>0.00</td>\n",
       "      <td>0.00</td>\n",
       "      <td>0.00</td>\n",
       "    </tr>\n",
       "    <tr>\n",
       "      <td>2001</td>\n",
       "      <td>0.00</td>\n",
       "      <td>33.42</td>\n",
       "      <td>149.65</td>\n",
       "      <td>0.00</td>\n",
       "      <td>0.00</td>\n",
       "      <td>0.00</td>\n",
       "    </tr>\n",
       "    <tr>\n",
       "      <td>2002</td>\n",
       "      <td>0.00</td>\n",
       "      <td>6.31</td>\n",
       "      <td>183.66</td>\n",
       "      <td>0.00</td>\n",
       "      <td>0.00</td>\n",
       "      <td>0.00</td>\n",
       "    </tr>\n",
       "    <tr>\n",
       "      <td>2003</td>\n",
       "      <td>0.00</td>\n",
       "      <td>1.93</td>\n",
       "      <td>163.62</td>\n",
       "      <td>0.00</td>\n",
       "      <td>0.00</td>\n",
       "      <td>0.00</td>\n",
       "    </tr>\n",
       "    <tr>\n",
       "      <td>2004</td>\n",
       "      <td>15.91</td>\n",
       "      <td>0.00</td>\n",
       "      <td>171.96</td>\n",
       "      <td>0.00</td>\n",
       "      <td>0.00</td>\n",
       "      <td>0.00</td>\n",
       "    </tr>\n",
       "    <tr>\n",
       "      <td>2005</td>\n",
       "      <td>119.34</td>\n",
       "      <td>0.00</td>\n",
       "      <td>141.51</td>\n",
       "      <td>0.00</td>\n",
       "      <td>0.00</td>\n",
       "      <td>7.61</td>\n",
       "    </tr>\n",
       "    <tr>\n",
       "      <td>2006</td>\n",
       "      <td>111.64</td>\n",
       "      <td>0.00</td>\n",
       "      <td>89.18</td>\n",
       "      <td>17.30</td>\n",
       "      <td>123.63</td>\n",
       "      <td>47.20</td>\n",
       "    </tr>\n",
       "    <tr>\n",
       "      <td>2007</td>\n",
       "      <td>135.85</td>\n",
       "      <td>0.00</td>\n",
       "      <td>52.30</td>\n",
       "      <td>62.48</td>\n",
       "      <td>139.22</td>\n",
       "      <td>86.68</td>\n",
       "    </tr>\n",
       "    <tr>\n",
       "      <td>2008</td>\n",
       "      <td>134.37</td>\n",
       "      <td>0.00</td>\n",
       "      <td>34.59</td>\n",
       "      <td>101.78</td>\n",
       "      <td>156.33</td>\n",
       "      <td>122.56</td>\n",
       "    </tr>\n",
       "    <tr>\n",
       "      <td>2009</td>\n",
       "      <td>110.99</td>\n",
       "      <td>0.00</td>\n",
       "      <td>16.24</td>\n",
       "      <td>113.08</td>\n",
       "      <td>189.43</td>\n",
       "      <td>109.26</td>\n",
       "    </tr>\n",
       "    <tr>\n",
       "      <td>2010</td>\n",
       "      <td>79.48</td>\n",
       "      <td>0.00</td>\n",
       "      <td>4.44</td>\n",
       "      <td>121.36</td>\n",
       "      <td>117.73</td>\n",
       "      <td>155.80</td>\n",
       "    </tr>\n",
       "    <tr>\n",
       "      <td>2011</td>\n",
       "      <td>24.30</td>\n",
       "      <td>0.00</td>\n",
       "      <td>0.35</td>\n",
       "      <td>135.22</td>\n",
       "      <td>54.37</td>\n",
       "      <td>131.11</td>\n",
       "    </tr>\n",
       "    <tr>\n",
       "      <td>2012</td>\n",
       "      <td>10.42</td>\n",
       "      <td>0.00</td>\n",
       "      <td>0.00</td>\n",
       "      <td>90.87</td>\n",
       "      <td>20.22</td>\n",
       "      <td>91.45</td>\n",
       "    </tr>\n",
       "    <tr>\n",
       "      <td>2013</td>\n",
       "      <td>1.42</td>\n",
       "      <td>0.00</td>\n",
       "      <td>0.00</td>\n",
       "      <td>95.85</td>\n",
       "      <td>7.87</td>\n",
       "      <td>80.82</td>\n",
       "    </tr>\n",
       "    <tr>\n",
       "      <td>2014</td>\n",
       "      <td>0.00</td>\n",
       "      <td>0.00</td>\n",
       "      <td>0.00</td>\n",
       "      <td>40.88</td>\n",
       "      <td>3.45</td>\n",
       "      <td>31.61</td>\n",
       "    </tr>\n",
       "    <tr>\n",
       "      <td>2015</td>\n",
       "      <td>0.00</td>\n",
       "      <td>0.00</td>\n",
       "      <td>0.00</td>\n",
       "      <td>14.70</td>\n",
       "      <td>1.05</td>\n",
       "      <td>10.86</td>\n",
       "    </tr>\n",
       "    <tr>\n",
       "      <td>2016</td>\n",
       "      <td>0.00</td>\n",
       "      <td>0.00</td>\n",
       "      <td>0.00</td>\n",
       "      <td>3.23</td>\n",
       "      <td>0.17</td>\n",
       "      <td>1.40</td>\n",
       "    </tr>\n",
       "  </tbody>\n",
       "</table>\n",
       "</div>"
      ],
      "text/plain": [
       "platform             DS      PS     PS2     PS3     Wii    X360\n",
       "year_of_release                                                \n",
       "1985               0.02    0.00    0.00    0.00    0.00    0.00\n",
       "1994               0.00    5.63    0.00    0.00    0.00    0.00\n",
       "1995               0.00   34.00    0.00    0.00    0.00    0.00\n",
       "1996               0.00   89.16    0.00    0.00    0.00    0.00\n",
       "1997               0.00  128.30    0.00    0.00    0.00    0.00\n",
       "1998               0.00  160.44    0.00    0.00    0.00    0.00\n",
       "1999               0.00  136.61    0.00    0.00    0.00    0.00\n",
       "2000               0.00   91.09   35.59    0.00    0.00    0.00\n",
       "2001               0.00   33.42  149.65    0.00    0.00    0.00\n",
       "2002               0.00    6.31  183.66    0.00    0.00    0.00\n",
       "2003               0.00    1.93  163.62    0.00    0.00    0.00\n",
       "2004              15.91    0.00  171.96    0.00    0.00    0.00\n",
       "2005             119.34    0.00  141.51    0.00    0.00    7.61\n",
       "2006             111.64    0.00   89.18   17.30  123.63   47.20\n",
       "2007             135.85    0.00   52.30   62.48  139.22   86.68\n",
       "2008             134.37    0.00   34.59  101.78  156.33  122.56\n",
       "2009             110.99    0.00   16.24  113.08  189.43  109.26\n",
       "2010              79.48    0.00    4.44  121.36  117.73  155.80\n",
       "2011              24.30    0.00    0.35  135.22   54.37  131.11\n",
       "2012              10.42    0.00    0.00   90.87   20.22   91.45\n",
       "2013               1.42    0.00    0.00   95.85    7.87   80.82\n",
       "2014               0.00    0.00    0.00   40.88    3.45   31.61\n",
       "2015               0.00    0.00    0.00   14.70    1.05   10.86\n",
       "2016               0.00    0.00    0.00    3.23    0.17    1.40"
      ]
     },
     "execution_count": 20,
     "metadata": {},
     "output_type": "execute_result"
    }
   ],
   "source": [
    "df\\\n",
    ".query('platform == @top_platforms')\\\n",
    ".pivot_table(index='year_of_release', columns='platform', values='total_sales', aggfunc='sum')\\\n",
    ".fillna(0)"
   ]
  },
  {
   "cell_type": "code",
   "execution_count": 21,
   "metadata": {},
   "outputs": [
    {
     "data": {
      "image/png": "[encoded data removed]",
      "text/plain": [
       "<Figure size 432x288 with 1 Axes>"
      ]
     },
     "metadata": {
      "needs_background": "light"
     },
     "output_type": "display_data"
    },
    {
     "data": {
      "image/png": "[encoded data removed]",
      "text/plain": [
       "<Figure size 432x288 with 1 Axes>"
      ]
     },
     "metadata": {
      "needs_background": "light"
     },
     "output_type": "display_data"
    },
    {
     "data": {
      "image/png": "[encoded data removed]",
      "text/plain": [
       "<Figure size 432x288 with 1 Axes>"
      ]
     },
     "metadata": {
      "needs_background": "light"
     },
     "output_type": "display_data"
    },
    {
     "data": {
      "image/png": "[encoded data removed]",
      "text/plain": [
       "<Figure size 432x288 with 1 Axes>"
      ]
     },
     "metadata": {
      "needs_background": "light"
     },
     "output_type": "display_data"
    },
    {
     "data": {
      "image/png": "[encoded data removed]",
      "text/plain": [
       "<Figure size 432x288 with 1 Axes>"
      ]
     },
     "metadata": {
      "needs_background": "light"
     },
     "output_type": "display_data"
    },
    {
     "data": {
      "image/png": "[encoded data removed]",
      "text/plain": [
       "<Figure size 432x288 with 1 Axes>"
      ]
     },
     "metadata": {
      "needs_background": "light"
     },
     "output_type": "display_data"
    }
   ],
   "source": [
    "for platform in top_platforms:\n",
    "    label = 'Продажи игр по платформе \"' + platform + '\"' \n",
    "    df.query('platform == @platform').plot(x='year_of_release', y='total_sales', kind='scatter')\n",
    "    plt.title(label)\n",
    "    plt.xlabel('Год выпуска')\n",
    "    plt.ylabel('Суммарные продажи, млн. шт')\n",
    "    plt.show"
   ]
  },
  {
   "cell_type": "markdown",
   "metadata": {},
   "source": [
    "Выделили платформы с топовыми продажами ('PS2', 'X360', 'Wii', 'PS3', 'DS', 'PS'), на графиках видно, как менялись продажи с течением времени. Распределение этих данных, с некоторыми допущениями, симметричное."
   ]
  },
  {
   "cell_type": "markdown",
   "metadata": {},
   "source": [
    "<a id='8-bullet'></a>\n",
    "#### Выберем актуальные данные для анализа"
   ]
  },
  {
   "cell_type": "code",
   "execution_count": 22,
   "metadata": {},
   "outputs": [
    {
     "name": "stdout",
     "output_type": "stream",
     "text": [
      "Срок жизни PS2: 10.0 лет\n",
      "Срок жизни X360: 10.0 лет\n",
      "Срок жизни Wii: 7.0 лет\n",
      "Срок жизни PS3: 9.0 лет\n",
      "Срок жизни DS: 7.0 лет\n",
      "Срок жизни PS: 7.0 лет\n",
      "\n",
      "Медианный срок жизни платформы 8 лет\n"
     ]
    }
   ],
   "source": [
    "life_cycle = []\n",
    "\n",
    "for platform in top_platforms:\n",
    "    min = df.query('platform == @platform')['year_of_release'].quantile(0.03)\n",
    "    max = df.query('platform == @platform')['year_of_release'].quantile(0.97)\n",
    "    per_pop = max - min + 1\n",
    "    print('Срок жизни {}: {} лет'.format(platform, per_pop))\n",
    "    life_cycle.append(per_pop)\n",
    "    \n",
    "print()\n",
    "life_cycle_median = pd.Series(life_cycle).median()\n",
    "print('Медианный срок жизни платформы {:.0f} лет'.format(life_cycle_median))"
   ]
  },
  {
   "cell_type": "code",
   "execution_count": 23,
   "metadata": {},
   "outputs": [],
   "source": [
    "df_actual = df.query('year_of_release >= 2009')\n",
    "#print('Отфильтровали {:.2%} данных'.format(df_actual.shape[0] / df.shape[0]))"
   ]
  },
  {
   "cell_type": "markdown",
   "metadata": {},
   "source": [
    "Медианный срок жизни платформы 8 лет, дальше будем пользоваться только данными от 2009 года и новее."
   ]
  },
  {
   "cell_type": "markdown",
   "metadata": {},
   "source": [
    "<a id='9-bullet'></a>\n",
    "#### Проанализируем платформы"
   ]
  },
  {
   "cell_type": "code",
   "execution_count": 24,
   "metadata": {},
   "outputs": [
    {
     "name": "stdout",
     "output_type": "stream",
     "text": [
      "По продажам лидируют следующие платформы:\n"
     ]
    },
    {
     "data": {
      "text/html": [
       "<div>\n",
       "<style scoped>\n",
       "    .dataframe tbody tr th:only-of-type {\n",
       "        vertical-align: middle;\n",
       "    }\n",
       "\n",
       "    .dataframe tbody tr th {\n",
       "        vertical-align: top;\n",
       "    }\n",
       "\n",
       "    .dataframe thead th {\n",
       "        text-align: right;\n",
       "    }\n",
       "</style>\n",
       "<table border=\"1\" class=\"dataframe\">\n",
       "  <thead>\n",
       "    <tr style=\"text-align: right;\">\n",
       "      <th></th>\n",
       "      <th>total_sales</th>\n",
       "    </tr>\n",
       "    <tr>\n",
       "      <th>platform</th>\n",
       "      <th></th>\n",
       "    </tr>\n",
       "  </thead>\n",
       "  <tbody>\n",
       "    <tr>\n",
       "      <td>PS3</td>\n",
       "      <td>615.19</td>\n",
       "    </tr>\n",
       "    <tr>\n",
       "      <td>X360</td>\n",
       "      <td>612.31</td>\n",
       "    </tr>\n",
       "    <tr>\n",
       "      <td>Wii</td>\n",
       "      <td>394.29</td>\n",
       "    </tr>\n",
       "    <tr>\n",
       "      <td>PS4</td>\n",
       "      <td>265.79</td>\n",
       "    </tr>\n",
       "    <tr>\n",
       "      <td>3DS</td>\n",
       "      <td>244.54</td>\n",
       "    </tr>\n",
       "    <tr>\n",
       "      <td>DS</td>\n",
       "      <td>226.61</td>\n",
       "    </tr>\n",
       "  </tbody>\n",
       "</table>\n",
       "</div>"
      ],
      "text/plain": [
       "          total_sales\n",
       "platform             \n",
       "PS3            615.19\n",
       "X360           612.31\n",
       "Wii            394.29\n",
       "PS4            265.79\n",
       "3DS            244.54\n",
       "DS             226.61"
      ]
     },
     "execution_count": 24,
     "metadata": {},
     "output_type": "execute_result"
    }
   ],
   "source": [
    "#какие платформы лидируют по продажам, растут или падают? Отберем несколько потенциально прибыльных платформ\n",
    "top_platforms_actual_pivot = (df_actual\n",
    "                              .pivot_table(index='platform', values='total_sales', aggfunc='sum')\n",
    "                              .sort_values(by='total_sales', ascending=False)\n",
    "                              .head(6))\n",
    "\n",
    "top_platforms_actual = list(top_platforms_actual_pivot.index)\n",
    "\n",
    "print('По продажам лидируют следующие платформы:')\n",
    "top_platforms_actual_pivot"
   ]
  },
  {
   "cell_type": "code",
   "execution_count": 25,
   "metadata": {},
   "outputs": [
    {
     "data": {
      "text/plain": [
       "Text(0, 0.5, 'Суммарные продажи, млн. шт')"
      ]
     },
     "execution_count": 25,
     "metadata": {},
     "output_type": "execute_result"
    },
    {
     "data": {
      "image/png": "[encoded data removed]",
      "text/plain": [
       "<Figure size 1008x576 with 1 Axes>"
      ]
     },
     "metadata": {
      "needs_background": "light"
     },
     "output_type": "display_data"
    }
   ],
   "source": [
    "df_actual\\\n",
    ".pivot_table(index='year_of_release', columns='platform', values='total_sales', aggfunc='sum')\\\n",
    ".fillna(0)\\\n",
    ".plot(style='o-', figsize=(14, 8), grid=True)\n",
    "plt.title('Суммарные продажи по платформам')\n",
    "plt.xlabel('Год выпуска')\n",
    "plt.ylabel('Суммарные продажи, млн. шт')"
   ]
  },
  {
   "cell_type": "markdown",
   "metadata": {},
   "source": [
    "Мы отобрали топ 6 платформ по суммарным продажам. Ранее мы уже находили такой список, после фильтрации по периоду в него не попали PS2 и PS, зато вошли PS3 и PS4.\n",
    "\n",
    "Можно сказать следующее:\n",
    "1. Видим падение по PS3, X360, Wii, DC.\n",
    "2. Нестабильная ситуация, при которой сначала видим небольшой рост, потом небольшое падение по PS4, XOne, 3DS.\n",
    "3. Потенциально перспективные и растущие платформы: WiiU и PC."
   ]
  },
  {
   "cell_type": "markdown",
   "metadata": {},
   "source": [
    "<a id='10-bullet'></a>\n",
    "#### Посмотрим на распределение глобальных продаж игр в разрезе платформ"
   ]
  },
  {
   "cell_type": "code",
   "execution_count": 26,
   "metadata": {},
   "outputs": [
    {
     "data": {
      "image/png": "[encoded data removed]",
      "text/plain": [
       "<Figure size 432x288 with 1 Axes>"
      ]
     },
     "metadata": {
      "needs_background": "light"
     },
     "output_type": "display_data"
    },
    {
     "name": "stdout",
     "output_type": "stream",
     "text": [
      "count    1051.000000\n",
      "mean        0.585338\n",
      "std         1.208904\n",
      "min         0.010000\n",
      "25%         0.080000\n",
      "50%         0.220000\n",
      "75%         0.620000\n",
      "max        17.090000\n",
      "Name: total_sales, dtype: float64\n"
     ]
    },
    {
     "data": {
      "image/png": "[encoded data removed]",
      "text/plain": [
       "<Figure size 432x288 with 1 Axes>"
      ]
     },
     "metadata": {
      "needs_background": "light"
     },
     "output_type": "display_data"
    },
    {
     "name": "stdout",
     "output_type": "stream",
     "text": [
      "count    852.000000\n",
      "mean       0.718674\n",
      "std        1.593265\n",
      "min        0.010000\n",
      "25%        0.090000\n",
      "50%        0.240000\n",
      "75%        0.710000\n",
      "max       20.130000\n",
      "Name: total_sales, dtype: float64\n"
     ]
    },
    {
     "data": {
      "image/png": "[encoded data removed]",
      "text/plain": [
       "<Figure size 432x288 with 1 Axes>"
      ]
     },
     "metadata": {
      "needs_background": "light"
     },
     "output_type": "display_data"
    },
    {
     "name": "stdout",
     "output_type": "stream",
     "text": [
      "count    775.000000\n",
      "mean       0.508761\n",
      "std        1.787619\n",
      "min        0.010000\n",
      "25%        0.080000\n",
      "50%        0.170000\n",
      "75%        0.400000\n",
      "max       29.820000\n",
      "Name: total_sales, dtype: float64\n"
     ]
    },
    {
     "data": {
      "image/png": "[encoded data removed]",
      "text/plain": [
       "<Figure size 432x288 with 1 Axes>"
      ]
     },
     "metadata": {
      "needs_background": "light"
     },
     "output_type": "display_data"
    },
    {
     "name": "stdout",
     "output_type": "stream",
     "text": [
      "count    392.000000\n",
      "mean       0.678036\n",
      "std        1.355221\n",
      "min        0.010000\n",
      "25%        0.050000\n",
      "50%        0.170000\n",
      "75%        0.612500\n",
      "max       12.250000\n",
      "Name: total_sales, dtype: float64\n"
     ]
    },
    {
     "data": {
      "image/png": "[encoded data removed]",
      "text/plain": [
       "<Figure size 432x288 with 1 Axes>"
      ]
     },
     "metadata": {
      "needs_background": "light"
     },
     "output_type": "display_data"
    },
    {
     "name": "stdout",
     "output_type": "stream",
     "text": [
      "count    512.000000\n",
      "mean       0.477617\n",
      "std        1.356633\n",
      "min        0.010000\n",
      "25%        0.050000\n",
      "50%        0.120000\n",
      "75%        0.320000\n",
      "max       13.820000\n",
      "Name: total_sales, dtype: float64\n"
     ]
    },
    {
     "data": {
      "image/png": "[encoded data removed]",
      "text/plain": [
       "<Figure size 432x288 with 1 Axes>"
      ]
     },
     "metadata": {
      "needs_background": "light"
     },
     "output_type": "display_data"
    },
    {
     "name": "stdout",
     "output_type": "stream",
     "text": [
      "count    910.000000\n",
      "mean       0.249022\n",
      "std        0.754565\n",
      "min        0.010000\n",
      "25%        0.040000\n",
      "50%        0.100000\n",
      "75%        0.227500\n",
      "max       14.330000\n",
      "Name: total_sales, dtype: float64\n"
     ]
    }
   ],
   "source": [
    "#посмотрим на распределение глобальных продаж игр в разрезе платформ\n",
    "#df_actual.query('platform == @top_platforms_actual')\n",
    "\n",
    "for platform in top_platforms_actual:\n",
    "    data = df_actual.query('platform == @platform')\n",
    "    data.boxplot('total_sales')\n",
    "    plt.title('Суммарные продажи по ' + platform)\n",
    "    plt.ylabel('Суммарные продажи, млн. шт')\n",
    "    plt.show()\n",
    "    print(data['total_sales'].describe())\n"
   ]
  },
  {
   "cell_type": "markdown",
   "metadata": {},
   "source": [
    "На диаграмах размаха видны выбросы:\n",
    "1. PS3. Есть выбросы около 17,5 и выше 7,5. Медиана на уровне 0,22, среднее 0,58.\n",
    "2. Х360. Есть выбросы около 20 и выше 7,5. Медиана на уровне 0,24, среднее 0,72.\n",
    "3. Wii. Есть выбросы около 30, 25 и 20. Медиана на уроне 0,17, среднее 0,51.\n",
    "4. PS4. Есть выбросы около 12, 10 и выше 6. Медиана на уровне 0,17, среднее 0,68.\n",
    "5. 3DS. Есть выбросы выше 5. Медиана на уровне 0,12, среднее 0,48.\n",
    "6. DC. Есть выбросы выше 4. Медиана на уровне 0,1, среднее 0,25."
   ]
  },
  {
   "cell_type": "markdown",
   "metadata": {},
   "source": [
    "<a id='11-bullet'></a>\n",
    "#### Посмотрим, как влияют на продажи внутри одной популярной платформы отзывы пользователей и критиков"
   ]
  },
  {
   "cell_type": "code",
   "execution_count": 27,
   "metadata": {},
   "outputs": [
    {
     "data": {
      "image/png": "[encoded data removed]",
      "text/plain": [
       "<Figure size 576x432 with 1 Axes>"
      ]
     },
     "metadata": {
      "needs_background": "light"
     },
     "output_type": "display_data"
    },
    {
     "name": "stdout",
     "output_type": "stream",
     "text": [
      "Коэффициент корреляции между critic_score и total_sales: 0.4226\n"
     ]
    }
   ],
   "source": [
    "#построим диаграмму рассеяния и посчитаем корреляцию между отзывами и продажами\n",
    "\n",
    "df_ps3 = df_actual.query('platform == \"PS3\"')\n",
    "\n",
    "df_ps3.plot(kind='scatter', x='critic_score', y='total_sales', alpha=0.5, figsize=(8, 6))\n",
    "plt.title('Оценки критиков и суммарные продажи по PS3')\n",
    "plt.xlabel('Оценки критиков')\n",
    "plt.ylabel('Суммарные продажи, млн. шт')\n",
    "plt.show()\n",
    "\n",
    "corr_critic = df_ps3['critic_score'].corr(df_ps3['total_sales'])\n",
    "print('Коэффициент корреляции между critic_score и total_sales: {:.4f}'.format(corr_critic))"
   ]
  },
  {
   "cell_type": "code",
   "execution_count": 28,
   "metadata": {},
   "outputs": [
    {
     "name": "stderr",
     "output_type": "stream",
     "text": [
      "/opt/conda/lib/python3.7/site-packages/pandas/core/indexing.py:494: SettingWithCopyWarning: \n",
      "A value is trying to be set on a copy of a slice from a DataFrame.\n",
      "Try using .loc[row_indexer,col_indexer] = value instead\n",
      "\n",
      "See the caveats in the documentation: http://pandas.pydata.org/pandas-docs/stable/user_guide/indexing.html#returning-a-view-versus-a-copy\n",
      "  self.obj[item] = s\n",
      "/opt/conda/lib/python3.7/site-packages/ipykernel_launcher.py:2: SettingWithCopyWarning: \n",
      "A value is trying to be set on a copy of a slice from a DataFrame.\n",
      "Try using .loc[row_indexer,col_indexer] = value instead\n",
      "\n",
      "See the caveats in the documentation: http://pandas.pydata.org/pandas-docs/stable/user_guide/indexing.html#returning-a-view-versus-a-copy\n",
      "  \n"
     ]
    },
    {
     "data": {
      "image/png": "[encoded data removed]",
      "text/plain": [
       "<Figure size 576x432 with 1 Axes>"
      ]
     },
     "metadata": {
      "needs_background": "light"
     },
     "output_type": "display_data"
    },
    {
     "name": "stdout",
     "output_type": "stream",
     "text": [
      "Коэффициент корреляции между user_score и total_sales: 0.0973\n"
     ]
    }
   ],
   "source": [
    "df_ps3.loc[df_ps3['user_score'].isnull(), 'user_score'] = 500000\n",
    "df_ps3['user_score'] = df_ps3['user_score'].astype('float')\n",
    "df_ps3 = df_ps3.query('user_score != 500000')\n",
    "\n",
    "df_ps3.plot(kind='scatter', x='user_score', y='total_sales', alpha=0.5, figsize=(8, 6))\n",
    "plt.title('Оценки пользователей и суммарные продажи по PS3')\n",
    "plt.xlabel('Оценки пользователей')\n",
    "plt.ylabel('Суммарные продажи, млн. шт')\n",
    "plt.show()\n",
    "\n",
    "corr_user = df_ps3['user_score'].corr(df_ps3['total_sales'])\n",
    "print('Коэффициент корреляции между user_score и total_sales: {:.4f}'.format(corr_user))"
   ]
  },
  {
   "cell_type": "markdown",
   "metadata": {},
   "source": [
    "Аналзируя продажи по платформе PS3, наблюдаем линейную корреляцию средней силы между critic_score и total_sales (0.4226). Видны выбросы, которые, в целом, не мешают оценить картину. Чем выше рейтинг критиков, тем больше продаж у игры.\n",
    "\n",
    "Также наблюдаем слабую линейную корреляцию между user_score и total_sales (0.0973). При этом на графике видна значительно более сильная скученность там, где рейтинг пользователей выше."
   ]
  },
  {
   "cell_type": "markdown",
   "metadata": {},
   "source": [
    "<a id='12-bullet'></a>\n",
    "#### Сравним выводы по одной платформе с выводами по всем платформам"
   ]
  },
  {
   "cell_type": "code",
   "execution_count": 29,
   "metadata": {},
   "outputs": [
    {
     "data": {
      "image/png": "[encoded data removed]",
      "text/plain": [
       "<Figure size 576x432 with 1 Axes>"
      ]
     },
     "metadata": {
      "needs_background": "light"
     },
     "output_type": "display_data"
    },
    {
     "name": "stdout",
     "output_type": "stream",
     "text": [
      "Коэффициент корреляции между critic_score и total_sales: 0.2913\n"
     ]
    }
   ],
   "source": [
    "#сравним выводы по одной платформе с выводами по всем платформам\n",
    "\n",
    "df_actual.plot(kind='scatter', x='critic_score', y='total_sales', alpha=0.3, figsize=(8, 6))\n",
    "plt.title('Оценки критиков и суммарные продажи по всем платформам')\n",
    "plt.xlabel('Оценки критиков')\n",
    "plt.ylabel('Суммарные продажи, млн. шт')\n",
    "plt.show()\n",
    "\n",
    "corr_critic = df_actual['critic_score'].corr(df_actual['total_sales'])\n",
    "print('Коэффициент корреляции между critic_score и total_sales: {:.4f}'.format(corr_critic))"
   ]
  },
  {
   "cell_type": "code",
   "execution_count": 30,
   "metadata": {},
   "outputs": [
    {
     "name": "stderr",
     "output_type": "stream",
     "text": [
      "/opt/conda/lib/python3.7/site-packages/ipykernel_launcher.py:2: SettingWithCopyWarning: \n",
      "A value is trying to be set on a copy of a slice from a DataFrame.\n",
      "Try using .loc[row_indexer,col_indexer] = value instead\n",
      "\n",
      "See the caveats in the documentation: http://pandas.pydata.org/pandas-docs/stable/user_guide/indexing.html#returning-a-view-versus-a-copy\n",
      "  \n"
     ]
    },
    {
     "data": {
      "image/png": "[encoded data removed]",
      "text/plain": [
       "<Figure size 576x432 with 1 Axes>"
      ]
     },
     "metadata": {
      "needs_background": "light"
     },
     "output_type": "display_data"
    },
    {
     "name": "stdout",
     "output_type": "stream",
     "text": [
      "Коэффициент корреляции между user_score и total_sales: 0.0721\n"
     ]
    }
   ],
   "source": [
    "df_actual.loc[df_actual['user_score'].isnull(), 'user_score'] = 500000\n",
    "df_actual['user_score'] = df_actual['user_score'].astype('float')\n",
    "df_actual_user = df_actual.query('user_score != 500000')\n",
    "\n",
    "df_actual_user.plot(kind='scatter', x='user_score', y='total_sales', alpha=0.5, figsize=(8, 6))\n",
    "plt.title('Оценки пользователей и суммарные продажи по всем платформам')\n",
    "plt.xlabel('Оценки пользователей')\n",
    "plt.ylabel('Суммарные продажи, млн. шт')\n",
    "plt.show()\n",
    "\n",
    "corr_user = df_actual_user['user_score'].corr(df_actual_user['total_sales'])\n",
    "print('Коэффициент корреляции между user_score и total_sales: {:.4f}'.format(corr_user))"
   ]
  },
  {
   "cell_type": "markdown",
   "metadata": {},
   "source": [
    "Аналзируя продажи по всем платформам, наблюдаем линейную корреляцию средней силы между critic_score и total_sales (0.2913), она слабее, чем по PS3. Видны выбросы, которые, в целом, не мешают оценить картину. Чем выше рейтинг критиков, тем больше продаж у игры.Также наблюдаем слабую линейную корреляцию между user_score и total_sales (0.0721), она также слабее, чем по PS3. При этом на графике видна значительно более сильная скученность там, где рейтинг пользователей выше."
   ]
  },
  {
   "cell_type": "markdown",
   "metadata": {},
   "source": [
    "<a id='13-bullet'></a>\n",
    "#### Посмотрим на общее распределение игр по жанрам"
   ]
  },
  {
   "cell_type": "code",
   "execution_count": 31,
   "metadata": {},
   "outputs": [
    {
     "data": {
      "text/html": [
       "<div>\n",
       "<style scoped>\n",
       "    .dataframe tbody tr th:only-of-type {\n",
       "        vertical-align: middle;\n",
       "    }\n",
       "\n",
       "    .dataframe tbody tr th {\n",
       "        vertical-align: top;\n",
       "    }\n",
       "\n",
       "    .dataframe thead th {\n",
       "        text-align: right;\n",
       "    }\n",
       "</style>\n",
       "<table border=\"1\" class=\"dataframe\">\n",
       "  <thead>\n",
       "    <tr style=\"text-align: right;\">\n",
       "      <th></th>\n",
       "      <th>total_sales</th>\n",
       "    </tr>\n",
       "    <tr>\n",
       "      <th>genre</th>\n",
       "      <th></th>\n",
       "    </tr>\n",
       "  </thead>\n",
       "  <tbody>\n",
       "    <tr>\n",
       "      <td>Action</td>\n",
       "      <td>717.79</td>\n",
       "    </tr>\n",
       "    <tr>\n",
       "      <td>Shooter</td>\n",
       "      <td>483.83</td>\n",
       "    </tr>\n",
       "    <tr>\n",
       "      <td>Sports</td>\n",
       "      <td>411.49</td>\n",
       "    </tr>\n",
       "    <tr>\n",
       "      <td>Role-Playing</td>\n",
       "      <td>335.00</td>\n",
       "    </tr>\n",
       "    <tr>\n",
       "      <td>Misc</td>\n",
       "      <td>280.76</td>\n",
       "    </tr>\n",
       "    <tr>\n",
       "      <td>Platform</td>\n",
       "      <td>145.26</td>\n",
       "    </tr>\n",
       "    <tr>\n",
       "      <td>Racing</td>\n",
       "      <td>135.85</td>\n",
       "    </tr>\n",
       "    <tr>\n",
       "      <td>Fighting</td>\n",
       "      <td>101.22</td>\n",
       "    </tr>\n",
       "    <tr>\n",
       "      <td>Simulation</td>\n",
       "      <td>95.89</td>\n",
       "    </tr>\n",
       "    <tr>\n",
       "      <td>Adventure</td>\n",
       "      <td>74.03</td>\n",
       "    </tr>\n",
       "    <tr>\n",
       "      <td>Strategy</td>\n",
       "      <td>43.76</td>\n",
       "    </tr>\n",
       "    <tr>\n",
       "      <td>Puzzle</td>\n",
       "      <td>37.26</td>\n",
       "    </tr>\n",
       "  </tbody>\n",
       "</table>\n",
       "</div>"
      ],
      "text/plain": [
       "              total_sales\n",
       "genre                    \n",
       "Action             717.79\n",
       "Shooter            483.83\n",
       "Sports             411.49\n",
       "Role-Playing       335.00\n",
       "Misc               280.76\n",
       "Platform           145.26\n",
       "Racing             135.85\n",
       "Fighting           101.22\n",
       "Simulation          95.89\n",
       "Adventure           74.03\n",
       "Strategy            43.76\n",
       "Puzzle              37.26"
      ]
     },
     "execution_count": 31,
     "metadata": {},
     "output_type": "execute_result"
    }
   ],
   "source": [
    "#посмотрим на общее распределение игр по жанрам.\n",
    "\n",
    "df_actual\\\n",
    ".pivot_table(index='genre', values='total_sales', aggfunc='sum',)\\\n",
    ".sort_values(by='total_sales', ascending=False)"
   ]
  },
  {
   "cell_type": "markdown",
   "metadata": {},
   "source": [
    "Активные жанры продаются лучше, чем те, в сюжете которых меньше экшена. При этом высокую долю занимаю такие нишевые жанры как sports и role-playing. Можно предположить, что чем меньше в игре активности, тем ее меньше покупают."
   ]
  },
  {
   "cell_type": "markdown",
   "metadata": {},
   "source": [
    "#### В процессе анализа данных появились следующие выводы:\n",
    "   - Анализируя количество выпусков игр по годам можно заметить как индустрия пережила пик в 2008-09 годах и после откатилась по количеству выпущенных игр на уровень 2001-02 гг. и на 2016 год тренд на дальнейшее снижение.\n",
    "   - Распределение данных по платформам с топовыми продажами (PS2, X360, Wii, PS3, DS, PS), с некоторыми допущениями, симметричное.\n",
    "   - Медианный срок жизни платформы 8 лет, актуальным выбрали период от 2009 года и новее.\n",
    "   - Лидирующие в актуальном периоде платформы: PS3, X360, Wii, PS4, 3DS, DS. Ранее мы уже находили аналогичный список, после фильтрации по периоду в него не попали PS2 и PS, зато вошли PS3 и PS4.\n",
    "\n",
    "   Оценивая текущее состояние продаж по платформам можем сказать следующее:\n",
    "   - Видим падение по PS3, X360, Wii, DC.\n",
    "   - Нестабильная ситуация, при которой сначала видим небольшой рост, потом небольшое падение по PS4, XOne, 3DS.\n",
    "   - Потенциально перспективные и растущие платформы: WiiU и PC.\n",
    "\n",
    "   - Аналзируя продажи по платформе PS3, наблюдаем линейную корреляцию средней силы между critic_score и total_sales (0.4226). Видны выбросы, которые, в целом, не мешают оценить картину. Чем выше рейтинг критиков, тем больше продаж у игры. Также наблюдаем слабую линейную корреляцию между user_score и total_sales (0.0973). При этом на графике видна значительно более сильная скученность там, где рейтинг пользователей выше.\n",
    "\n",
    "   - Аналзируя продажи по всем платформам, также наблюдаем линейную корреляцию средней силы между critic_score и total_sales (0.2913), она слабее, чем по PS3. Видны выбросы, которые, в целом, не мешают оценить картину. Чем выше рейтинг критиков, тем больше продаж у игры.Также наблюдаем слабую линейную корреляцию между user_score и total_sales (0.0721), она также слабее, чем по PS3. При этом на графике видна значительно более сильная скученность там, где рейтинг пользователей выше.\n",
    "\n",
    "   - Есть предположение, что активные жанры продаются лучше, чем те, в сюжете которых меньше экшена. При этом высокую долю занимаю такие нишевые жанры как sports и role-playing. Можно предположить, что чем меньше в игре активности, тем ее меньше покупают, однако, это не относится к лояльной аудитории, конкретных нишевых продкутов.\n"
   ]
  },
  {
   "cell_type": "markdown",
   "metadata": {},
   "source": [
    "### 4. Составим портрет пользователя кажджого региона"
   ]
  },
  {
   "cell_type": "markdown",
   "metadata": {},
   "source": [
    "<a id='14-bullet'></a>\n",
    "#### Составим портрет пользователя для региона NA"
   ]
  },
  {
   "cell_type": "code",
   "execution_count": 32,
   "metadata": {},
   "outputs": [
    {
     "name": "stderr",
     "output_type": "stream",
     "text": [
      "/opt/conda/lib/python3.7/site-packages/ipykernel_launcher.py:2: SettingWithCopyWarning: \n",
      "A value is trying to be set on a copy of a slice from a DataFrame.\n",
      "Try using .loc[row_indexer,col_indexer] = value instead\n",
      "\n",
      "See the caveats in the documentation: http://pandas.pydata.org/pandas-docs/stable/user_guide/indexing.html#returning-a-view-versus-a-copy\n",
      "  \n"
     ]
    },
    {
     "data": {
      "text/html": [
       "<div>\n",
       "<style scoped>\n",
       "    .dataframe tbody tr th:only-of-type {\n",
       "        vertical-align: middle;\n",
       "    }\n",
       "\n",
       "    .dataframe tbody tr th {\n",
       "        vertical-align: top;\n",
       "    }\n",
       "\n",
       "    .dataframe thead th {\n",
       "        text-align: right;\n",
       "    }\n",
       "</style>\n",
       "<table border=\"1\" class=\"dataframe\">\n",
       "  <thead>\n",
       "    <tr style=\"text-align: right;\">\n",
       "      <th></th>\n",
       "      <th>na_sales</th>\n",
       "      <th>part_of_sales_na</th>\n",
       "    </tr>\n",
       "    <tr>\n",
       "      <th>platform</th>\n",
       "      <th></th>\n",
       "      <th></th>\n",
       "    </tr>\n",
       "  </thead>\n",
       "  <tbody>\n",
       "    <tr>\n",
       "      <td>X360</td>\n",
       "      <td>408.18</td>\n",
       "      <td>0.278439</td>\n",
       "    </tr>\n",
       "    <tr>\n",
       "      <td>PS3</td>\n",
       "      <td>291.90</td>\n",
       "      <td>0.199119</td>\n",
       "    </tr>\n",
       "    <tr>\n",
       "      <td>Wii</td>\n",
       "      <td>235.75</td>\n",
       "      <td>0.160816</td>\n",
       "    </tr>\n",
       "    <tr>\n",
       "      <td>DS</td>\n",
       "      <td>120.61</td>\n",
       "      <td>0.082274</td>\n",
       "    </tr>\n",
       "    <tr>\n",
       "      <td>PS4</td>\n",
       "      <td>108.74</td>\n",
       "      <td>0.074177</td>\n",
       "    </tr>\n",
       "  </tbody>\n",
       "</table>\n",
       "</div>"
      ],
      "text/plain": [
       "          na_sales  part_of_sales_na\n",
       "platform                            \n",
       "X360        408.18          0.278439\n",
       "PS3         291.90          0.199119\n",
       "Wii         235.75          0.160816\n",
       "DS          120.61          0.082274\n",
       "PS4         108.74          0.074177"
      ]
     },
     "execution_count": 32,
     "metadata": {},
     "output_type": "execute_result"
    }
   ],
   "source": [
    "#добавим долю продаж по регионам\n",
    "df_actual['part_of_sales_na'] = df_actual['na_sales'] / df_actual['na_sales'].sum()\n",
    "\n",
    "df_actual\\\n",
    ".pivot_table(index='platform', values=['na_sales', 'part_of_sales_na'], aggfunc='sum',)\\\n",
    ".sort_values(by='na_sales', ascending=False)\\\n",
    ".head()"
   ]
  },
  {
   "cell_type": "code",
   "execution_count": 33,
   "metadata": {},
   "outputs": [
    {
     "data": {
      "text/html": [
       "<div>\n",
       "<style scoped>\n",
       "    .dataframe tbody tr th:only-of-type {\n",
       "        vertical-align: middle;\n",
       "    }\n",
       "\n",
       "    .dataframe tbody tr th {\n",
       "        vertical-align: top;\n",
       "    }\n",
       "\n",
       "    .dataframe thead th {\n",
       "        text-align: right;\n",
       "    }\n",
       "</style>\n",
       "<table border=\"1\" class=\"dataframe\">\n",
       "  <thead>\n",
       "    <tr style=\"text-align: right;\">\n",
       "      <th></th>\n",
       "      <th>na_sales</th>\n",
       "      <th>part_of_sales_na</th>\n",
       "    </tr>\n",
       "    <tr>\n",
       "      <th>genre</th>\n",
       "      <th></th>\n",
       "      <th></th>\n",
       "    </tr>\n",
       "  </thead>\n",
       "  <tbody>\n",
       "    <tr>\n",
       "      <td>Action</td>\n",
       "      <td>361.72</td>\n",
       "      <td>0.246746</td>\n",
       "    </tr>\n",
       "    <tr>\n",
       "      <td>Shooter</td>\n",
       "      <td>276.37</td>\n",
       "      <td>0.188525</td>\n",
       "    </tr>\n",
       "    <tr>\n",
       "      <td>Sports</td>\n",
       "      <td>227.66</td>\n",
       "      <td>0.155298</td>\n",
       "    </tr>\n",
       "    <tr>\n",
       "      <td>Misc</td>\n",
       "      <td>164.40</td>\n",
       "      <td>0.112145</td>\n",
       "    </tr>\n",
       "    <tr>\n",
       "      <td>Role-Playing</td>\n",
       "      <td>130.83</td>\n",
       "      <td>0.089245</td>\n",
       "    </tr>\n",
       "  </tbody>\n",
       "</table>\n",
       "</div>"
      ],
      "text/plain": [
       "              na_sales  part_of_sales_na\n",
       "genre                                   \n",
       "Action          361.72          0.246746\n",
       "Shooter         276.37          0.188525\n",
       "Sports          227.66          0.155298\n",
       "Misc            164.40          0.112145\n",
       "Role-Playing    130.83          0.089245"
      ]
     },
     "execution_count": 33,
     "metadata": {},
     "output_type": "execute_result"
    }
   ],
   "source": [
    "df_actual\\\n",
    ".pivot_table(index='genre', values=['na_sales', 'part_of_sales_na'], aggfunc='sum',)\\\n",
    ".sort_values(by='na_sales', ascending=False)\\\n",
    ".head()"
   ]
  },
  {
   "cell_type": "code",
   "execution_count": 34,
   "metadata": {},
   "outputs": [
    {
     "data": {
      "text/plain": [
       "Text(0, 0.5, 'Продажи по NA, млн. шт')"
      ]
     },
     "execution_count": 34,
     "metadata": {},
     "output_type": "execute_result"
    },
    {
     "data": {
      "image/png": "[encoded data removed]",
      "text/plain": [
       "<Figure size 432x288 with 1 Axes>"
      ]
     },
     "metadata": {
      "needs_background": "light"
     },
     "output_type": "display_data"
    }
   ],
   "source": [
    "df_actual\\\n",
    ".pivot_table(index='rating', values='na_sales', aggfunc='sum',)\\\n",
    ".sort_values(by='na_sales', ascending=False)\\\n",
    ".plot(kind='bar')\n",
    "\n",
    "plt.title('Рейтинг ESRB и продажи по NA')\n",
    "plt.xlabel('Рейтинг ESRB')\n",
    "plt.ylabel('Продажи по NA, млн. шт')"
   ]
  },
  {
   "cell_type": "markdown",
   "metadata": {},
   "source": [
    "Наибольшую долю в продажах по региону NA создают:\n",
    "- Платформы: X360, PS3, Wii и DC.\n",
    "- Жанры: Action, Shooter, Sports и Misc\n",
    "\n",
    "Больше всего продаж у игр с рейтингом для взрослых, для детей и для подростков."
   ]
  },
  {
   "cell_type": "markdown",
   "metadata": {},
   "source": [
    "<a id='15-bullet'></a>\n",
    "#### Составим портрет пользователя для региона EU"
   ]
  },
  {
   "cell_type": "code",
   "execution_count": 35,
   "metadata": {},
   "outputs": [
    {
     "name": "stderr",
     "output_type": "stream",
     "text": [
      "/opt/conda/lib/python3.7/site-packages/ipykernel_launcher.py:1: SettingWithCopyWarning: \n",
      "A value is trying to be set on a copy of a slice from a DataFrame.\n",
      "Try using .loc[row_indexer,col_indexer] = value instead\n",
      "\n",
      "See the caveats in the documentation: http://pandas.pydata.org/pandas-docs/stable/user_guide/indexing.html#returning-a-view-versus-a-copy\n",
      "  \"\"\"Entry point for launching an IPython kernel.\n"
     ]
    },
    {
     "data": {
      "text/html": [
       "<div>\n",
       "<style scoped>\n",
       "    .dataframe tbody tr th:only-of-type {\n",
       "        vertical-align: middle;\n",
       "    }\n",
       "\n",
       "    .dataframe tbody tr th {\n",
       "        vertical-align: top;\n",
       "    }\n",
       "\n",
       "    .dataframe thead th {\n",
       "        text-align: right;\n",
       "    }\n",
       "</style>\n",
       "<table border=\"1\" class=\"dataframe\">\n",
       "  <thead>\n",
       "    <tr style=\"text-align: right;\">\n",
       "      <th></th>\n",
       "      <th>eu_sales</th>\n",
       "      <th>part_of_sales_eu</th>\n",
       "    </tr>\n",
       "    <tr>\n",
       "      <th>platform</th>\n",
       "      <th></th>\n",
       "      <th></th>\n",
       "    </tr>\n",
       "  </thead>\n",
       "  <tbody>\n",
       "    <tr>\n",
       "      <td>PS3</td>\n",
       "      <td>255.00</td>\n",
       "      <td>0.247777</td>\n",
       "    </tr>\n",
       "    <tr>\n",
       "      <td>X360</td>\n",
       "      <td>196.72</td>\n",
       "      <td>0.191148</td>\n",
       "    </tr>\n",
       "    <tr>\n",
       "      <td>PS4</td>\n",
       "      <td>141.09</td>\n",
       "      <td>0.137094</td>\n",
       "    </tr>\n",
       "    <tr>\n",
       "      <td>Wii</td>\n",
       "      <td>124.22</td>\n",
       "      <td>0.120702</td>\n",
       "    </tr>\n",
       "    <tr>\n",
       "      <td>PC</td>\n",
       "      <td>82.32</td>\n",
       "      <td>0.079988</td>\n",
       "    </tr>\n",
       "  </tbody>\n",
       "</table>\n",
       "</div>"
      ],
      "text/plain": [
       "          eu_sales  part_of_sales_eu\n",
       "platform                            \n",
       "PS3         255.00          0.247777\n",
       "X360        196.72          0.191148\n",
       "PS4         141.09          0.137094\n",
       "Wii         124.22          0.120702\n",
       "PC           82.32          0.079988"
      ]
     },
     "execution_count": 35,
     "metadata": {},
     "output_type": "execute_result"
    }
   ],
   "source": [
    "df_actual['part_of_sales_eu'] = df_actual['eu_sales'] / df_actual['eu_sales'].sum()\n",
    "\n",
    "df_actual\\\n",
    ".pivot_table(index='platform', values=['eu_sales', 'part_of_sales_eu'], aggfunc='sum',)\\\n",
    ".sort_values(by='eu_sales', ascending=False)\\\n",
    ".head()"
   ]
  },
  {
   "cell_type": "code",
   "execution_count": 36,
   "metadata": {},
   "outputs": [
    {
     "data": {
      "text/html": [
       "<div>\n",
       "<style scoped>\n",
       "    .dataframe tbody tr th:only-of-type {\n",
       "        vertical-align: middle;\n",
       "    }\n",
       "\n",
       "    .dataframe tbody tr th {\n",
       "        vertical-align: top;\n",
       "    }\n",
       "\n",
       "    .dataframe thead th {\n",
       "        text-align: right;\n",
       "    }\n",
       "</style>\n",
       "<table border=\"1\" class=\"dataframe\">\n",
       "  <thead>\n",
       "    <tr style=\"text-align: right;\">\n",
       "      <th></th>\n",
       "      <th>eu_sales</th>\n",
       "      <th>part_of_sales_eu</th>\n",
       "    </tr>\n",
       "    <tr>\n",
       "      <th>genre</th>\n",
       "      <th></th>\n",
       "      <th></th>\n",
       "    </tr>\n",
       "  </thead>\n",
       "  <tbody>\n",
       "    <tr>\n",
       "      <td>Action</td>\n",
       "      <td>271.91</td>\n",
       "      <td>0.264208</td>\n",
       "    </tr>\n",
       "    <tr>\n",
       "      <td>Shooter</td>\n",
       "      <td>192.30</td>\n",
       "      <td>0.186853</td>\n",
       "    </tr>\n",
       "    <tr>\n",
       "      <td>Sports</td>\n",
       "      <td>158.51</td>\n",
       "      <td>0.154020</td>\n",
       "    </tr>\n",
       "    <tr>\n",
       "      <td>Misc</td>\n",
       "      <td>86.27</td>\n",
       "      <td>0.083826</td>\n",
       "    </tr>\n",
       "    <tr>\n",
       "      <td>Role-Playing</td>\n",
       "      <td>83.56</td>\n",
       "      <td>0.081193</td>\n",
       "    </tr>\n",
       "  </tbody>\n",
       "</table>\n",
       "</div>"
      ],
      "text/plain": [
       "              eu_sales  part_of_sales_eu\n",
       "genre                                   \n",
       "Action          271.91          0.264208\n",
       "Shooter         192.30          0.186853\n",
       "Sports          158.51          0.154020\n",
       "Misc             86.27          0.083826\n",
       "Role-Playing     83.56          0.081193"
      ]
     },
     "execution_count": 36,
     "metadata": {},
     "output_type": "execute_result"
    }
   ],
   "source": [
    "df_actual\\\n",
    ".pivot_table(index='genre', values=['eu_sales', 'part_of_sales_eu'], aggfunc='sum',)\\\n",
    ".sort_values(by='eu_sales', ascending=False)\\\n",
    ".head()"
   ]
  },
  {
   "cell_type": "code",
   "execution_count": 37,
   "metadata": {},
   "outputs": [
    {
     "data": {
      "text/plain": [
       "Text(0, 0.5, 'Продажи по EU, млн. шт')"
      ]
     },
     "execution_count": 37,
     "metadata": {},
     "output_type": "execute_result"
    },
    {
     "data": {
      "image/png": "[encoded data removed]",
      "text/plain": [
       "<Figure size 432x288 with 1 Axes>"
      ]
     },
     "metadata": {
      "needs_background": "light"
     },
     "output_type": "display_data"
    }
   ],
   "source": [
    "df_actual\\\n",
    ".pivot_table(index='rating', values='eu_sales', aggfunc='sum',)\\\n",
    ".sort_values(by='eu_sales', ascending=False)\\\n",
    ".plot(kind='bar')\n",
    "\n",
    "plt.title('Рейтинг ESRB и продажи по EU')\n",
    "plt.xlabel('Рейтинг ESRB')\n",
    "plt.ylabel('Продажи по EU, млн. шт')"
   ]
  },
  {
   "cell_type": "markdown",
   "metadata": {},
   "source": [
    "Наибольшую долю в продажах по региону EU создают:\n",
    "- Платформы: PS3, X360, PS4 и Wii.\n",
    "- Жанры: Action, Shooter, Sports и Misc\n",
    "\n",
    "Больше всего продаж у игр с рейтингом для взрослых, для детей и для подростков."
   ]
  },
  {
   "cell_type": "markdown",
   "metadata": {},
   "source": [
    "<a id='16-bullet'></a>\n",
    "#### Составим портрет пользователя для региона JP"
   ]
  },
  {
   "cell_type": "code",
   "execution_count": 38,
   "metadata": {},
   "outputs": [
    {
     "name": "stderr",
     "output_type": "stream",
     "text": [
      "/opt/conda/lib/python3.7/site-packages/ipykernel_launcher.py:1: SettingWithCopyWarning: \n",
      "A value is trying to be set on a copy of a slice from a DataFrame.\n",
      "Try using .loc[row_indexer,col_indexer] = value instead\n",
      "\n",
      "See the caveats in the documentation: http://pandas.pydata.org/pandas-docs/stable/user_guide/indexing.html#returning-a-view-versus-a-copy\n",
      "  \"\"\"Entry point for launching an IPython kernel.\n"
     ]
    },
    {
     "data": {
      "text/html": [
       "<div>\n",
       "<style scoped>\n",
       "    .dataframe tbody tr th:only-of-type {\n",
       "        vertical-align: middle;\n",
       "    }\n",
       "\n",
       "    .dataframe tbody tr th {\n",
       "        vertical-align: top;\n",
       "    }\n",
       "\n",
       "    .dataframe thead th {\n",
       "        text-align: right;\n",
       "    }\n",
       "</style>\n",
       "<table border=\"1\" class=\"dataframe\">\n",
       "  <thead>\n",
       "    <tr style=\"text-align: right;\">\n",
       "      <th></th>\n",
       "      <th>jp_sales</th>\n",
       "      <th>part_of_sales_jp</th>\n",
       "    </tr>\n",
       "    <tr>\n",
       "      <th>platform</th>\n",
       "      <th></th>\n",
       "      <th></th>\n",
       "    </tr>\n",
       "  </thead>\n",
       "  <tbody>\n",
       "    <tr>\n",
       "      <td>3DS</td>\n",
       "      <td>100.62</td>\n",
       "      <td>0.274147</td>\n",
       "    </tr>\n",
       "    <tr>\n",
       "      <td>PS3</td>\n",
       "      <td>68.29</td>\n",
       "      <td>0.186061</td>\n",
       "    </tr>\n",
       "    <tr>\n",
       "      <td>DS</td>\n",
       "      <td>52.11</td>\n",
       "      <td>0.141977</td>\n",
       "    </tr>\n",
       "    <tr>\n",
       "      <td>PSP</td>\n",
       "      <td>50.39</td>\n",
       "      <td>0.137291</td>\n",
       "    </tr>\n",
       "    <tr>\n",
       "      <td>Wii</td>\n",
       "      <td>34.32</td>\n",
       "      <td>0.093507</td>\n",
       "    </tr>\n",
       "  </tbody>\n",
       "</table>\n",
       "</div>"
      ],
      "text/plain": [
       "          jp_sales  part_of_sales_jp\n",
       "platform                            \n",
       "3DS         100.62          0.274147\n",
       "PS3          68.29          0.186061\n",
       "DS           52.11          0.141977\n",
       "PSP          50.39          0.137291\n",
       "Wii          34.32          0.093507"
      ]
     },
     "execution_count": 38,
     "metadata": {},
     "output_type": "execute_result"
    }
   ],
   "source": [
    "df_actual['part_of_sales_jp'] = df_actual['jp_sales'] / df_actual['jp_sales'].sum()\n",
    "\n",
    "df_actual\\\n",
    ".pivot_table(index='platform', values=['jp_sales', 'part_of_sales_jp'], aggfunc='sum',)\\\n",
    ".sort_values(by='jp_sales', ascending=False)\\\n",
    ".head()"
   ]
  },
  {
   "cell_type": "code",
   "execution_count": 39,
   "metadata": {},
   "outputs": [
    {
     "data": {
      "text/html": [
       "<div>\n",
       "<style scoped>\n",
       "    .dataframe tbody tr th:only-of-type {\n",
       "        vertical-align: middle;\n",
       "    }\n",
       "\n",
       "    .dataframe tbody tr th {\n",
       "        vertical-align: top;\n",
       "    }\n",
       "\n",
       "    .dataframe thead th {\n",
       "        text-align: right;\n",
       "    }\n",
       "</style>\n",
       "<table border=\"1\" class=\"dataframe\">\n",
       "  <thead>\n",
       "    <tr style=\"text-align: right;\">\n",
       "      <th></th>\n",
       "      <th>jp_sales</th>\n",
       "      <th>part_of_sales_jp</th>\n",
       "    </tr>\n",
       "    <tr>\n",
       "      <th>genre</th>\n",
       "      <th></th>\n",
       "      <th></th>\n",
       "    </tr>\n",
       "  </thead>\n",
       "  <tbody>\n",
       "    <tr>\n",
       "      <td>Role-Playing</td>\n",
       "      <td>120.61</td>\n",
       "      <td>0.328611</td>\n",
       "    </tr>\n",
       "    <tr>\n",
       "      <td>Action</td>\n",
       "      <td>84.16</td>\n",
       "      <td>0.229300</td>\n",
       "    </tr>\n",
       "    <tr>\n",
       "      <td>Misc</td>\n",
       "      <td>30.09</td>\n",
       "      <td>0.081982</td>\n",
       "    </tr>\n",
       "    <tr>\n",
       "      <td>Sports</td>\n",
       "      <td>25.32</td>\n",
       "      <td>0.068986</td>\n",
       "    </tr>\n",
       "    <tr>\n",
       "      <td>Platform</td>\n",
       "      <td>20.65</td>\n",
       "      <td>0.056262</td>\n",
       "    </tr>\n",
       "  </tbody>\n",
       "</table>\n",
       "</div>"
      ],
      "text/plain": [
       "              jp_sales  part_of_sales_jp\n",
       "genre                                   \n",
       "Role-Playing    120.61          0.328611\n",
       "Action           84.16          0.229300\n",
       "Misc             30.09          0.081982\n",
       "Sports           25.32          0.068986\n",
       "Platform         20.65          0.056262"
      ]
     },
     "execution_count": 39,
     "metadata": {},
     "output_type": "execute_result"
    }
   ],
   "source": [
    "df_actual\\\n",
    ".pivot_table(index='genre', values=['jp_sales', 'part_of_sales_jp'], aggfunc='sum',)\\\n",
    ".sort_values(by='jp_sales', ascending=False)\\\n",
    ".head()"
   ]
  },
  {
   "cell_type": "code",
   "execution_count": 40,
   "metadata": {},
   "outputs": [
    {
     "data": {
      "text/plain": [
       "Text(0, 0.5, 'Продажи по JP, млн. шт')"
      ]
     },
     "execution_count": 40,
     "metadata": {},
     "output_type": "execute_result"
    },
    {
     "data": {
      "image/png": "[encoded data removed]",
      "text/plain": [
       "<Figure size 432x288 with 1 Axes>"
      ]
     },
     "metadata": {
      "needs_background": "light"
     },
     "output_type": "display_data"
    }
   ],
   "source": [
    "df_actual\\\n",
    ".pivot_table(index='rating', values='jp_sales', aggfunc='sum',)\\\n",
    ".sort_values(by='jp_sales', ascending=False)\\\n",
    ".plot(kind='bar')\n",
    "\n",
    "plt.title('Рейтинг ESRB и продажи по JP')\n",
    "plt.xlabel('Рейтинг ESRB')\n",
    "plt.ylabel('Продажи по JP, млн. шт')"
   ]
  },
  {
   "cell_type": "markdown",
   "metadata": {},
   "source": [
    "Наибольшую долю в продажах по региону JP создают:\n",
    "- Платформы: 3DC, PS3, DC и PSP.\n",
    "- Жанры: Role-Playing, Action, Misc и Sports\n",
    "\n",
    "Больше всего продаж у игр с рейтингом для детей, для подростков и для взрослых."
   ]
  },
  {
   "cell_type": "markdown",
   "metadata": {},
   "source": [
    "#### Вывод по портретам пользователей разных регионов\n",
    "Портреты пользователей из регионов NA и EU похожи друг на друга, есть много пересечений в топовых для регионов платформах, жанры самых покупаемых игр и вовсе не отличаются. В этих регионах также совпала зависимость продаж от рейтинга, лидируют игры для взрослых, следом идут игры для детей и замыкают тройку игры для подростков.\n",
    "\n",
    "Портрет пользователя региона JP сильно отличается, как по топу платформ и жанров, так и по популярности игр с разным рейтингом. Подробности:\n",
    "\n",
    "Наибольшую долю в продажах по региону NA создают:\n",
    "- Платформы: X360, PS3, Wii и DC.\n",
    "- Жанры: Action, Shooter, Sports и Misc\n",
    "\n",
    "Больше всего продаж у игр с рейтингом для взрослых, для детей и для подростков.\n",
    "\n",
    "Наибольшую долю в продажах по региону EU создают:\n",
    "- Платформы: PS3, X360, PS4 и Wii.\n",
    "- Жанры: Action, Shooter, Sports и Misc\n",
    "\n",
    "Больше всего продаж у игр с рейтингом для взрослых, для детей и для подростков.\n",
    "\n",
    "Наибольшую долю в продажах по региону JP создают:\n",
    "- Платформы: 3DC, PS3, DC и PSP.\n",
    "- Жанры: Role-Playing, Action, Misc и Sports\n",
    "\n",
    "Больше всего продаж у игр с рейтингом для детей, для подростков и для взрослых.\n",
    "\n"
   ]
  },
  {
   "cell_type": "markdown",
   "metadata": {},
   "source": [
    "### 5. Проверим гипотезы"
   ]
  },
  {
   "cell_type": "markdown",
   "metadata": {},
   "source": [
    "<a id='17-bullet'></a>\n",
    "#### Действительно ли средние пользовательские рейтинги платформ Xbox One и PC одинаковые"
   ]
  },
  {
   "cell_type": "markdown",
   "metadata": {},
   "source": [
    "Предположим, что средние пользовательские рейтинги по платформе Xbox равны средним пользовательским рейтингам по платформе PC, это будет наша нулевая гипотеза. Альтернативной гипотезой будет, что они отличаются."
   ]
  },
  {
   "cell_type": "code",
   "execution_count": 41,
   "metadata": {},
   "outputs": [
    {
     "name": "stdout",
     "output_type": "stream",
     "text": [
      "Дисперсия для xbox: 1.9069968429360695\n",
      "Дисперсия для pc: 2.4102204499213022\n",
      "\n",
      "Средний пользовательский рейтинг по платформе xbox: 6.521429\n",
      "Средний пользовательский рейтинг по платформе pc: 6.652079\n",
      "p-значение: 0.2985618\n",
      "Не удалось отвергнуть нулевую гипотезу\n"
     ]
    }
   ],
   "source": [
    "user_score_xbox = df_actual.query('platform == \"XOne\" & user_score !=500000')['user_score']\n",
    "user_score_pc = df_actual.query('platform == \"PC\" & user_score !=500000')['user_score']\n",
    "\n",
    "#сравним дисперсии для понимания какое значение установить equal\n",
    "print('Дисперсия для xbox:', np.var(user_score_xbox, ddof=1))\n",
    "print('Дисперсия для pc:', np.var(user_score_pc, ddof=1))\n",
    "print()\n",
    "#дисперсии нельзя считать похожими, поэтому equal установим как False\n",
    "\n",
    "alpha = .05\n",
    "\n",
    "results = st.ttest_ind(user_score_xbox, user_score_pc, equal_var=False)\n",
    "pvalue = results.pvalue\n",
    "\n",
    "print('Средний пользовательский рейтинг по платформе xbox: {:.7}'.format(user_score_xbox.mean()))\n",
    "print('Средний пользовательский рейтинг по платформе pc: {:.7}'.format(user_score_pc.mean()))\n",
    "print('p-значение: {:.7}'.format(pvalue))\n",
    "\n",
    "if pvalue < alpha:\n",
    "    print('Отвергаем нулевую гипотезу')\n",
    "else:\n",
    "    print('Не удалось отвергнуть нулевую гипотезу')"
   ]
  },
  {
   "cell_type": "markdown",
   "metadata": {},
   "source": [
    "Перед проведением статистического теста сравнили дисперсии пользовательского рейтинга для xbox и PC, сравнение показало, что они отличаются, поэтому првильно будет установить значение equal_var=False.\n",
    "\n",
    "Несмотря на отклонения средней выручки в данных пользовательских рейтингов для xbox и pc мы не смогли отвергнуть нулевую гипотезу. Это означает, что по имебщимся данным, с вероятностью ~30% такое или большее отличие можно получить случайно."
   ]
  },
  {
   "cell_type": "markdown",
   "metadata": {},
   "source": [
    "<a id='18-bullet'></a>\n",
    "#### Действительно ли средние пользовательские рейтинги жанров Action и Sports разные"
   ]
  },
  {
   "cell_type": "markdown",
   "metadata": {},
   "source": [
    "Предположим, что средние пользовательские рейтинги жанра Action равны средним пользовательским рейтингам жанра Sports, это будет наша нулевая гипотеза. Альтернативной гипотезой будет, что они отличаются."
   ]
  },
  {
   "cell_type": "code",
   "execution_count": 42,
   "metadata": {},
   "outputs": [
    {
     "name": "stdout",
     "output_type": "stream",
     "text": [
      "Дисперсия для action: 1.845225821564057\n",
      "Дисперсия для sports: 2.883255576441103\n",
      "\n",
      "Средний пользовательский рейтинг по жанру action: 6.817415\n",
      "Средний пользовательский рейтинг по жанру sports: 6.10525\n",
      "p-значение: 3.493323839e-13\n",
      "Отвергаем нулевую гипотезу\n"
     ]
    }
   ],
   "source": [
    "user_score_action = df_actual.query('genre == \"Action\" & user_score !=500000')['user_score']\n",
    "user_score_sports = df_actual.query('genre == \"Sports\" & user_score !=500000')['user_score']\n",
    "\n",
    "#сравним дисперсии для понимания какое значение установить equal\n",
    "print('Дисперсия для action:', np.var(user_score_action, ddof=1))\n",
    "print('Дисперсия для sports:', np.var(user_score_sports, ddof=1))\n",
    "print()\n",
    "#дисперсии нельзя считать похожими, поэтому equal установим как False\n",
    "\n",
    "\n",
    "alpha = .05\n",
    "\n",
    "results = st.ttest_ind(user_score_action, user_score_sports, equal_var=False)\n",
    "pvalue = results.pvalue\n",
    "\n",
    "print('Средний пользовательский рейтинг по жанру action: {:.7}'.format(user_score_action.mean()))\n",
    "print('Средний пользовательский рейтинг по жанру sports: {:.7}'.format(user_score_sports.mean()))\n",
    "print('p-значение: {:.10}'.format(pvalue))\n",
    "\n",
    "if pvalue < alpha:\n",
    "    print('Отвергаем нулевую гипотезу')\n",
    "else:\n",
    "    print('Не удалось отвергнуть нулевую гипотезу')"
   ]
  },
  {
   "cell_type": "markdown",
   "metadata": {},
   "source": [
    "Перед проведением статистического теста сравнили дисперсии пользовательского рейтинга для xbox и PC, сравнение показало, что они отличаются, поэтому првильно будет установить значение equal_var=False.\n",
    "\n",
    "Разница средних пользовательских рейтингов по жанрам значительная. По имеющимся данным нельзя утверждать, что средние пользовательские рейтинги не отличается и что эта разница могла получиться случайно."
   ]
  },
  {
   "cell_type": "markdown",
   "metadata": {},
   "source": [
    "### 6. Заключение"
   ]
  },
  {
   "cell_type": "markdown",
   "metadata": {},
   "source": [
    "<a id='19-bullet'></a>\n",
    "#### Общий вывод"
   ]
  },
  {
   "cell_type": "markdown",
   "metadata": {},
   "source": [
    "1. В процессе подготовки данных появились следующие выводы:\n",
    "\n",
    "    - Столбцы содержали разные названы в разном регистре. Стоит выяснить почему так получилось у инженеров, занимающихся выгрузкой.\n",
    "    - Обнаружили пропуски в годе выпуска, для этих данных нет адекватной замены, отфильтровали эти строки, упустив 1,6% данных. Пропуски в рейтингах критиков, пользователей и возрастных ограничений оставим не заполняя, до тех пор, пока они не будут мешать расчетам, так как при заполнении велика вероятность сильно исказить картину. Также найдены 2 состоящие практически только из одиних пропусков строки, отильтровали их, возможно они появились в процессе выгрузки данных, когда было нестабильное соединение, желательно это выяснить.\n",
    "    - Дубликатов в данных не обнаружено.\n",
    "    - Обработали сокращение tbd, оно нашлось только в user_score. Это сокращение означает, что оценки ещё нет, она будет выставленна позднее. Это очень похоже на сущность пропусков в этих таких же колонках, поэтому заменим на пропуки.\n",
    "\n",
    "2. В процессе анализа данных появились следующие выводы:\n",
    "    - Анализируя количество выпусков игр по годам можно заметить как индустрия пережила пик в 2008-09 годах и после откатилась по количеству выпущенных игр на уровень 2001-02 гг. и на 2016 год тренд на дальнейшее снижение.\n",
    "    - Распределение данных по платформам с топовыми продажами (PS2, X360, Wii, PS3, DS, PS), с некоторыми допущениями, симметричное.\n",
    "    - Медианный срок жизни платформы 8 лет, актуальным выбрали период от 2009 года и новее.\n",
    "    - Лидирующие в актуальном периоде платформы: PS3, X360, Wii, PS4, 3DS, DS. Ранее мы уже находили аналогичный список, после фильтрации по периоду в него не попали PS2 и PS, зато вошли PS3 и PS4.\n",
    "\n",
    "    Оценивая текущее состояние продаж по платформам можем сказать следующее:\n",
    "    - Видим падение по PS3, X360, Wii, DC.\n",
    "    - Нестабильная ситуация, при которой сначала видим небольшой рост, потом небольшое падение по PS4, XOne, 3DS.\n",
    "    - Потенциально перспективные и растущие платформы: WiiU и PC.\n",
    "\n",
    "    - Аналзируя продажи по платформе PS3, наблюдаем линейную корреляцию средней силы между critic_score и total_sales (0.4226). Видны выбросы, которые, в целом, не мешают оценить картину. Чем выше рейтинг критиков, тем больше продаж у игры. Также наблюдаем слабую линейную корреляцию между user_score и total_sales (0.0973). При этом на графике видна значительно более сильная скученность там, где рейтинг пользователей выше.\n",
    "\n",
    "    - Аналзируя продажи по всем платформам, также наблюдаем линейную корреляцию средней силы между critic_score и total_sales (0.2913), она слабее, чем по PS3. Видны выбросы, которые, в целом, не мешают оценить картину. Чем выше рейтинг критиков, тем больше продаж у игры.Также наблюдаем слабую линейную корреляцию между user_score и total_sales (0.0721), она также слабее, чем по PS3. При этом на графике видна значительно более сильная скученность там, где рейтинг пользователей выше.\n",
    "\n",
    "    - Есть предположение, что активные жанры продаются лучше, чем те, в сюжете которых меньше экшена. При этом высокую долю занимаю такие нишевые жанры как sports и role-playing. Можно предположить, что чем меньше в игре активности, тем ее меньше покупают, однако, это не относится к лояльной аудитории, конкретных нишевых продкутов.\n",
    "\n",
    "3. Портрет пользователя разных регионов\n",
    "    - Портреты пользователей из регионов NA и EU похожи друг на друга, есть много пересечений в топовых для регионов платформах, жанры самых покупаемых игр и вовсе не отличаются. В этих регионах также совпала зависимость продаж от рейтинга, лидируют игры для взрослых, следом идут игры для детей и замыкают тройку игры для подростков.\n",
    "    - Портрет пользователя региона JP сильно отличается, как по топу платформ и жанров, так и по популярности игр с разным рейтингом. Подробности:\n",
    "\n",
    "    Наибольшую долю в продажах по региону NA создают:\n",
    "    - Платформы: X360, PS3, Wii и DC.\n",
    "    - Жанры: Action, Shooter, Sports и Misc\n",
    "    Больше всего продаж у игр с рейтингом для взрослых, для детей и для подростков.\n",
    "\n",
    "    Наибольшую долю в продажах по региону EU создают:\n",
    "    - Платформы: PS3, X360, PS4 и Wii.\n",
    "    - Жанры: Action, Shooter, Sports и Misc\n",
    "    Больше всего продаж у игр с рейтингом для взрослых, для детей и для подростков.\n",
    "\n",
    "    Наибольшую долю в продажах по региону JP создают:\n",
    "    - Платформы: 3DC, PS3, DC и PSP.\n",
    "    - Жанры: Role-Playing, Action, Misc и Sports\n",
    "    Больше всего продаж у игр с рейтингом для детей, для подростков и для взрослых.\n",
    "\n",
    "4. Проверка гипотез. Перед проведением статистических тестов сравнили дисперсии пользовательского рейтинга по выделенным показателям, сравнение в обоих случаях показало, что они отличаются, поэтому првильно будет установить значение equal_var=False.\n",
    "    - Несмотря на отклонения средней выручки в данных пользовательских рейтингов для xbox и pc мы не смогли отвергнуть нулевую гипотезу. Это означает, что по имеющимся данным, с вероятностью ~30% такое или большее отличие можно получить случайно.\n",
    "    - Разница средних пользовательских рейтингов по жанрам значительная. По имеющимся данным нельзя утверждать, что средние пользовательские рейтинги не отличается и что эта разница могла получиться случайно."
   ]
  }
 ],
 "metadata": {
  "kernelspec": {
   "display_name": "Python 3",
   "language": "python",
   "name": "python3"
  },
  "language_info": {
   "codemirror_mode": {
    "name": "ipython",
    "version": 3
   },
   "file_extension": ".py",
   "mimetype": "text/x-python",
   "name": "python",
   "nbconvert_exporter": "python",
   "pygments_lexer": "ipython3",
   "version": "3.7.4"
  },
  "toc": {
   "base_numbering": 1,
   "nav_menu": {},
   "number_sections": true,
   "sideBar": true,
   "skip_h1_title": true,
   "title_cell": "Table of Contents",
   "title_sidebar": "Contents",
   "toc_cell": false,
   "toc_position": {},
   "toc_section_display": true,
   "toc_window_display": false
  }
 },
 "nbformat": 4,
 "nbformat_minor": 2
}
