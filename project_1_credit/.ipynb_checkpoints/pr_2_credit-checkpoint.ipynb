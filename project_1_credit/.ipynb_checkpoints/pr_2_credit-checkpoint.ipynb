{
 "cells": [
  {
   "cell_type": "markdown",
   "metadata": {},
   "source": [
    "## Исследование надёжности заёмщиков\n",
    "\n",
    "### Определим какие факторы влияют на возврат кредита в срок\n",
    "_____\n",
    "\n",
    "###### Данное исследование разделим на несколько частей.\n",
    "##### Часть 1. Изучение общей информации:\n",
    "* [1. Изученеие файлов с данными, получение общей информации, загрузка библиотек.](#1-bullet)\n",
    "\n",
    "##### Часть 2. Подготовка данных:\n",
    "* [1. Обработка пропусков.](#2-bullet)\n",
    "* [2. Замена типа данных.](#3-bullet)\n",
    "* [3. Обработка дубликатов.](#4-bullet)\n",
    "* [4. Лемматизация целей.](#5-bullet)\n",
    "* [5. Категоризация данных.](#6-bullet)\n",
    "\n",
    "##### Часть 3. Ответы на вопросы:\n",
    "* [3.1 Есть ли зависимость между наличием детей и возвратом кредита в срок?](#7-bullet)\n",
    "* [3.2 Есть ли зависимость между семейным положением и возвратом кредита в срок?](#8-bullet)\n",
    "* [3.3 Есть ли зависимость между уровнем дохода и возвратом кредита в срок?](#9-bullet)\n",
    "* [3.4 Как разные цели кредита влияют на его возврат в срок?](#10-bullet)\n",
    "\n",
    "##### Часть 4. Заключение:\n",
    "* [1. Общий вывод](#11-bullet)"
   ]
  },
  {
   "cell_type": "markdown",
   "metadata": {},
   "source": [
    "<a id='1-bullet'></a>\n",
    "### 1. Изучение общей информации."
   ]
  },
  {
   "cell_type": "code",
   "execution_count": 1,
   "metadata": {},
   "outputs": [
    {
     "name": "stdout",
     "output_type": "stream",
     "text": [
      "Общая информация о данных:\n",
      "<class 'pandas.core.frame.DataFrame'>\n",
      "RangeIndex: 21525 entries, 0 to 21524\n",
      "Data columns (total 12 columns):\n",
      "children            21525 non-null int64\n",
      "days_employed       19351 non-null float64\n",
      "dob_years           21525 non-null int64\n",
      "education           21525 non-null object\n",
      "education_id        21525 non-null int64\n",
      "family_status       21525 non-null object\n",
      "family_status_id    21525 non-null int64\n",
      "gender              21525 non-null object\n",
      "income_type         21525 non-null object\n",
      "debt                21525 non-null int64\n",
      "total_income        19351 non-null float64\n",
      "purpose             21525 non-null object\n",
      "dtypes: float64(2), int64(5), object(5)\n",
      "memory usage: 2.0+ MB\n",
      "None\n"
     ]
    }
   ],
   "source": [
    "import pandas as pd\n",
    "data = pd.read_csv('/datasets/data.csv')\n",
    "print('Общая информация о данных:')\n",
    "print(data.info())"
   ]
  },
  {
   "cell_type": "code",
   "execution_count": 2,
   "metadata": {},
   "outputs": [
    {
     "name": "stdout",
     "output_type": "stream",
     "text": [
      "Размер таблицы: (21525, 12)\n"
     ]
    }
   ],
   "source": [
    "print('Размер таблицы:', data.shape)"
   ]
  },
  {
   "cell_type": "code",
   "execution_count": 3,
   "metadata": {},
   "outputs": [
    {
     "name": "stdout",
     "output_type": "stream",
     "text": [
      "Наименования столбцов: Index(['children', 'days_employed', 'dob_years', 'education', 'education_id',\n",
      "       'family_status', 'family_status_id', 'gender', 'income_type', 'debt',\n",
      "       'total_income', 'purpose'],\n",
      "      dtype='object')\n"
     ]
    }
   ],
   "source": [
    "print('Наименования столбцов:', data.columns)"
   ]
  },
  {
   "cell_type": "markdown",
   "metadata": {},
   "source": [
    "### Вывод"
   ]
  },
  {
   "cell_type": "markdown",
   "metadata": {},
   "source": [
    "В колонках \"days_employed\" и \"total_income\" присутствуют пропуски, необходимо их обработать. Наименования столбцов указаны корректно."
   ]
  },
  {
   "cell_type": "markdown",
   "metadata": {},
   "source": [
    "### 2. Подготовка данных"
   ]
  },
  {
   "cell_type": "markdown",
   "metadata": {},
   "source": [
    "<a id='2-bullet'></a>\n",
    "### Обработка пропусков"
   ]
  },
  {
   "cell_type": "code",
   "execution_count": 4,
   "metadata": {},
   "outputs": [
    {
     "name": "stdout",
     "output_type": "stream",
     "text": [
      "children               0\n",
      "days_employed       2174\n",
      "dob_years              0\n",
      "education              0\n",
      "education_id           0\n",
      "family_status          0\n",
      "family_status_id       0\n",
      "gender                 0\n",
      "income_type            0\n",
      "debt                   0\n",
      "total_income        2174\n",
      "purpose                0\n",
      "dtype: int64\n"
     ]
    }
   ],
   "source": [
    "print(data.isnull().sum())"
   ]
  },
  {
   "cell_type": "code",
   "execution_count": 5,
   "metadata": {},
   "outputs": [
    {
     "name": "stdout",
     "output_type": "stream",
     "text": [
      "В столбцах \"days_employed\" и \"total_income\" пропуски в одних и тех же строках\n"
     ]
    }
   ],
   "source": [
    "try:\n",
    "    data_days_employed_null = data[data['days_employed'].isnull()]\n",
    "    data_total_income_null = data[data['total_income'].isnull()]\n",
    "    result_null = data_days_employed_null['total_income'].isnull().count() == data_total_income_null['days_employed'].isnull().count()\n",
    "    if result_null==True:\n",
    "        print('В столбцах \"days_employed\" и \"total_income\" пропуски в одних и тех же строках')\n",
    "    else:\n",
    "        print('В столбцах \"days_employed\" и \"total_income\" пропуски в разных строках. Нужно анализировать из отдельно')\n",
    "except:\n",
    "    print('Проверьте входные данные')"
   ]
  },
  {
   "cell_type": "code",
   "execution_count": 6,
   "metadata": {},
   "outputs": [
    {
     "name": "stdout",
     "output_type": "stream",
     "text": [
      "Замена в \"days_employed\" удалась\n"
     ]
    }
   ],
   "source": [
    "#пропуски в 'days_employed' - количественные => заполняем характерными средними значениями\n",
    "try:\n",
    "    #найдем уникальные значения в столбце 'children' \n",
    "    for children_value in data['children'].unique():\n",
    "        # сгруппируем данные по столбцу 'children' и найдем медиану столбца 'days_employed'\n",
    "        median = data.loc[data['children'] == children_value, 'days_employed'].median()\n",
    "        #посмотрим, что получилось в группировке\n",
    "        #print('children', children_value, median)\n",
    "        #заменим пропущенные значения в 'days_employed' медианой в зависимости от количества детей\n",
    "        data.loc[(data['days_employed'].isnull()) & (data['children'] == children_value), 'days_employed'] = median\n",
    "    #проверим результат\n",
    "    if data['days_employed'].isnull().sum() == 0:\n",
    "        print('Замена в \"days_employed\" удалась')\n",
    "    else:\n",
    "        print('Замена в \"days_employed\" НЕ удалась')\n",
    "except:\n",
    "    print('Проверьте данные в столбцах \"days_employed\", \"total_income\" и \"children\"')"
   ]
  },
  {
   "cell_type": "code",
   "execution_count": 7,
   "metadata": {
    "scrolled": true
   },
   "outputs": [
    {
     "name": "stdout",
     "output_type": "stream",
     "text": [
      "Замена в \"total_income\" удалась\n"
     ]
    }
   ],
   "source": [
    "#пропуски в 'total_income' - количественные => заполняем характерными средними значениями\n",
    "try:\n",
    "    #найдем уникальные значения в столбце 'income_type'\n",
    "    for income_type_value in data['income_type'].unique():\n",
    "        # сгруппируем данные по столбцу 'income_type' и найдем медиану столбца 'days_employed'\n",
    "        median = data.loc[data['income_type'] == income_type_value, 'total_income'].median()\n",
    "        #посмотрим что получилось в группировке\n",
    "        #print('income_type', income_type_value, median)\n",
    "        #заменим пропущенные значения в 'total_income' медианой в зависимости от типа занятости\n",
    "        data.loc[(data['total_income'].isnull()) & (data['income_type'] == income_type_value), 'total_income'] = median\n",
    "    #проверим результат\n",
    "    if data['total_income'].isnull().sum() == 0:\n",
    "        print('Замена в \"total_income\" удалась')\n",
    "    else:\n",
    "        print('Замена в \"total_income\" НЕ удалась')\n",
    "except:\n",
    "    print('Проверьте данные в столбцах \"days_employed\", \"total_income\" и \"income_type\"')"
   ]
  },
  {
   "cell_type": "markdown",
   "metadata": {},
   "source": [
    "### Вывод"
   ]
  },
  {
   "cell_type": "markdown",
   "metadata": {},
   "source": [
    "Пропуски в столбцах 'общий трудовой стаж в днях' и 'ежемесячный доход' количественные, заполним их характерными значениями. Предполагаемая зависимость трудового дня и месячного дохода от количества детей в семье подтверждается данными расчета медианы в зависимости от количества детей. Пропуски в дынных заполнены медианой в зависимости от количества детей в семье.\n",
    "\n",
    "Наверняка обнаруженные пропуски не случайны, так как допущены в одних и тех же строках. Необходимо проработать вопрос появления таких пропусков совместно с инженерами данных, чтобы найти причину и устранить их в будущем."
   ]
  },
  {
   "cell_type": "markdown",
   "metadata": {},
   "source": [
    "<a id='3-bullet'></a>\n",
    "### Замена типа данных"
   ]
  },
  {
   "cell_type": "code",
   "execution_count": 8,
   "metadata": {},
   "outputs": [
    {
     "data": {
      "text/html": [
       "<div>\n",
       "<style scoped>\n",
       "    .dataframe tbody tr th:only-of-type {\n",
       "        vertical-align: middle;\n",
       "    }\n",
       "\n",
       "    .dataframe tbody tr th {\n",
       "        vertical-align: top;\n",
       "    }\n",
       "\n",
       "    .dataframe thead th {\n",
       "        text-align: right;\n",
       "    }\n",
       "</style>\n",
       "<table border=\"1\" class=\"dataframe\">\n",
       "  <thead>\n",
       "    <tr style=\"text-align: right;\">\n",
       "      <th></th>\n",
       "      <th>children</th>\n",
       "      <th>days_employed</th>\n",
       "      <th>dob_years</th>\n",
       "      <th>education</th>\n",
       "      <th>education_id</th>\n",
       "      <th>family_status</th>\n",
       "      <th>family_status_id</th>\n",
       "      <th>gender</th>\n",
       "      <th>income_type</th>\n",
       "      <th>debt</th>\n",
       "      <th>total_income</th>\n",
       "      <th>purpose</th>\n",
       "    </tr>\n",
       "  </thead>\n",
       "  <tbody>\n",
       "    <tr>\n",
       "      <td>0</td>\n",
       "      <td>1</td>\n",
       "      <td>-8437</td>\n",
       "      <td>42</td>\n",
       "      <td>высшее</td>\n",
       "      <td>0</td>\n",
       "      <td>женат / замужем</td>\n",
       "      <td>0</td>\n",
       "      <td>F</td>\n",
       "      <td>сотрудник</td>\n",
       "      <td>0</td>\n",
       "      <td>253875</td>\n",
       "      <td>покупка жилья</td>\n",
       "    </tr>\n",
       "    <tr>\n",
       "      <td>1</td>\n",
       "      <td>1</td>\n",
       "      <td>-4024</td>\n",
       "      <td>36</td>\n",
       "      <td>среднее</td>\n",
       "      <td>1</td>\n",
       "      <td>женат / замужем</td>\n",
       "      <td>0</td>\n",
       "      <td>F</td>\n",
       "      <td>сотрудник</td>\n",
       "      <td>0</td>\n",
       "      <td>112080</td>\n",
       "      <td>приобретение автомобиля</td>\n",
       "    </tr>\n",
       "    <tr>\n",
       "      <td>2</td>\n",
       "      <td>0</td>\n",
       "      <td>-5623</td>\n",
       "      <td>33</td>\n",
       "      <td>Среднее</td>\n",
       "      <td>1</td>\n",
       "      <td>женат / замужем</td>\n",
       "      <td>0</td>\n",
       "      <td>M</td>\n",
       "      <td>сотрудник</td>\n",
       "      <td>0</td>\n",
       "      <td>145885</td>\n",
       "      <td>покупка жилья</td>\n",
       "    </tr>\n",
       "    <tr>\n",
       "      <td>3</td>\n",
       "      <td>3</td>\n",
       "      <td>-4124</td>\n",
       "      <td>32</td>\n",
       "      <td>среднее</td>\n",
       "      <td>1</td>\n",
       "      <td>женат / замужем</td>\n",
       "      <td>0</td>\n",
       "      <td>M</td>\n",
       "      <td>сотрудник</td>\n",
       "      <td>0</td>\n",
       "      <td>267628</td>\n",
       "      <td>дополнительное образование</td>\n",
       "    </tr>\n",
       "    <tr>\n",
       "      <td>4</td>\n",
       "      <td>0</td>\n",
       "      <td>340266</td>\n",
       "      <td>53</td>\n",
       "      <td>среднее</td>\n",
       "      <td>1</td>\n",
       "      <td>гражданский брак</td>\n",
       "      <td>1</td>\n",
       "      <td>F</td>\n",
       "      <td>пенсионер</td>\n",
       "      <td>0</td>\n",
       "      <td>158616</td>\n",
       "      <td>сыграть свадьбу</td>\n",
       "    </tr>\n",
       "  </tbody>\n",
       "</table>\n",
       "</div>"
      ],
      "text/plain": [
       "   children  days_employed  dob_years education  education_id  \\\n",
       "0         1          -8437         42    высшее             0   \n",
       "1         1          -4024         36   среднее             1   \n",
       "2         0          -5623         33   Среднее             1   \n",
       "3         3          -4124         32   среднее             1   \n",
       "4         0         340266         53   среднее             1   \n",
       "\n",
       "      family_status  family_status_id gender income_type  debt  total_income  \\\n",
       "0   женат / замужем                 0      F   сотрудник     0        253875   \n",
       "1   женат / замужем                 0      F   сотрудник     0        112080   \n",
       "2   женат / замужем                 0      M   сотрудник     0        145885   \n",
       "3   женат / замужем                 0      M   сотрудник     0        267628   \n",
       "4  гражданский брак                 1      F   пенсионер     0        158616   \n",
       "\n",
       "                      purpose  \n",
       "0               покупка жилья  \n",
       "1     приобретение автомобиля  \n",
       "2               покупка жилья  \n",
       "3  дополнительное образование  \n",
       "4             сыграть свадьбу  "
      ]
     },
     "execution_count": 8,
     "metadata": {},
     "output_type": "execute_result"
    }
   ],
   "source": [
    "#заменим float на int, они не оказывают существенного для результата влияния, но затрудняют восприятие\n",
    "try:\n",
    "    data['days_employed'] = data['days_employed'].astype('int')\n",
    "    data['total_income'] = data['total_income'].astype('int')\n",
    "except:\n",
    "    print('Проверьте данные в колонках \"общий трудовой стаж в днях\" и \"ежемесячный доход\"')\n",
    "#посмотрим, что получилось\n",
    "data.head()"
   ]
  },
  {
   "cell_type": "markdown",
   "metadata": {},
   "source": [
    "### Вывод"
   ]
  },
  {
   "cell_type": "markdown",
   "metadata": {},
   "source": [
    "Для анализа данных в столбцах 'общий трудовой стаж в днях' и 'ежемесячный доход' отбросим значения после точки. Они не окажут существенного влияния на выводы, но будут затруднять восприятие данных."
   ]
  },
  {
   "cell_type": "markdown",
   "metadata": {},
   "source": [
    "<a id='4-bullet'></a>\n",
    "### Обработка дубликатов"
   ]
  },
  {
   "cell_type": "code",
   "execution_count": 9,
   "metadata": {},
   "outputs": [
    {
     "name": "stdout",
     "output_type": "stream",
     "text": [
      "Дубликаты удалены\n"
     ]
    }
   ],
   "source": [
    "#найдем все полные дубликаты и удалим их\n",
    "try:\n",
    "    data = data.drop_duplicates().reset_index(drop=True)\n",
    "    if data.duplicated().sum() == 0:\n",
    "        print('Дубликаты удалены')\n",
    "    else:\n",
    "        print('Не удалось удалить дубликаты')\n",
    "except:\n",
    "    print('Проверьте входные данные')"
   ]
  },
  {
   "cell_type": "code",
   "execution_count": 10,
   "metadata": {
    "scrolled": true
   },
   "outputs": [
    {
     "data": {
      "text/plain": [
       "среднее                15188\n",
       "высшее                  5251\n",
       "неоконченное высшее      744\n",
       "начальное                282\n",
       "ученая степень             6\n",
       "Name: education, dtype: int64"
      ]
     },
     "execution_count": 10,
     "metadata": {},
     "output_type": "execute_result"
    }
   ],
   "source": [
    "try:\n",
    "    #в столбце 'education' множество дубликатов, которые записаны по-разному\n",
    "    data['education'].value_counts()\n",
    "    #заменим значения в столбце 'education' на значения в нижнем регистре\n",
    "    data['education'] = data['education'].str.lower()\n",
    "except:\n",
    "    print('Не удалось привести значения столбца \"education\" в нижний регистр. Проверьте входящие данные и их тип')\n",
    "#посмотрим какие остались дубликаты\n",
    "data['education'].value_counts()"
   ]
  },
  {
   "cell_type": "code",
   "execution_count": 11,
   "metadata": {},
   "outputs": [
    {
     "data": {
      "text/plain": [
       "F    14189\n",
       "M     7282\n",
       "Name: gender, dtype: int64"
      ]
     },
     "execution_count": 11,
     "metadata": {},
     "output_type": "execute_result"
    }
   ],
   "source": [
    "data['gender'].value_counts()\n",
    "#обнаружили 'XNA' в столбце 'gender', его придется заменить вручную\n",
    "try:\n",
    "    data[data['gender'] == 'XNA']\n",
    "    #по значениям других колонок не понять гендер, но учитываю ничтожную долю в общем объеме\n",
    "    #можно заменить этот гендер на любой. Заменим на 'M'\n",
    "    data.loc[(data['gender'] == 'XNA'), 'gender'] = 'M'\n",
    "except:\n",
    "    print('Проверьте данные в колонке \"gender\". Возможно, отсутствует значение \"XNA\"')\n",
    "data['gender'].value_counts()"
   ]
  },
  {
   "cell_type": "code",
   "execution_count": 12,
   "metadata": {
    "scrolled": true
   },
   "outputs": [
    {
     "data": {
      "text/plain": [
       "0     14107\n",
       "1      4856\n",
       "2      2052\n",
       "3       330\n",
       "20       76\n",
       "4        41\n",
       "5         9\n",
       "Name: children, dtype: int64"
      ]
     },
     "execution_count": 12,
     "metadata": {},
     "output_type": "execute_result"
    }
   ],
   "source": [
    "data['children'].value_counts()\n",
    "#отрицательное значение детей сомнительно, нужно обсудить почему так вышло инженерами по данным\n",
    "#сейчас просто заменим на положительное значение\n",
    "try:\n",
    "    #data[data['children'] == -1]\n",
    "    data.loc[(data['children'] == -1), 'children'] = 1\n",
    "except:\n",
    "    print('Проверьте данные в колонке \"children\". Возможно отсутствуют отрицательные значения')\n",
    "data['children'].value_counts()"
   ]
  },
  {
   "cell_type": "code",
   "execution_count": 13,
   "metadata": {
    "scrolled": true
   },
   "outputs": [
    {
     "data": {
      "text/plain": [
       "среднее                15188\n",
       "высшее                  5257\n",
       "неоконченное высшее      744\n",
       "начальное                282\n",
       "Name: education, dtype: int64"
      ]
     },
     "execution_count": 13,
     "metadata": {},
     "output_type": "execute_result"
    }
   ],
   "source": [
    "data['education'].value_counts()\n",
    "try:\n",
    "    #data[data['education'] == 'ученая степень']\n",
    "    data.loc[(data['education'] == 'ученая степень'), 'education'] = 'высшее'\n",
    "except:\n",
    "    print('Проверьте данные в колонке \"education\"')\n",
    "data['education'].value_counts()"
   ]
  },
  {
   "cell_type": "markdown",
   "metadata": {},
   "source": [
    "### Вывод"
   ]
  },
  {
   "cell_type": "markdown",
   "metadata": {},
   "source": [
    "Обнаружили 54 полных дубликата. Такие дубликаты могли появиться при падениях сети во время выгрузки или при объединении данных. Доля дубликатов менее 1% от общего массива. Из данные они удалены.\n",
    "\n",
    "В колонке 'education' были записаны значения в разных регистрах, привели все значения в нижний регистр. Также в этом столбце обнаружились заемщики с ученой степенью, их ничтожно мало, поэтому отнесли их к группе с высшим образованием.\n",
    "\n",
    "В столбце 'gender' обнаружили значение 'XNA'. По значениям других колонок нельзя достоверно определить гендер, но учитывая ничтожную долю в общем объеме можно заменить этот гендер на любой. Заменим на 'M'.\n",
    "\n",
    "Нашлись заемщики с отрицательные значения количества детей в семье (-1), заменили их на положительные (1). Также в столбце 'days_employed' присутствуют отрицательные значения, которые необходимо было бы заменить на положительные, либо удалить. Так как мы не выдвигали гипотез, связанных с этим столбцом, можем не обрабатывать его. Необходимо выяснить причину у команды инженеров данных или разработчиков о том, почему могут появляться отрицательные значения и как от этого избавиться."
   ]
  },
  {
   "cell_type": "markdown",
   "metadata": {},
   "source": [
    "<a id='5-bullet'></a>\n",
    "### Лемматизация целей"
   ]
  },
  {
   "cell_type": "code",
   "execution_count": 14,
   "metadata": {},
   "outputs": [
    {
     "data": {
      "text/plain": [
       "недвижимость    10814\n",
       "автомобиль       4308\n",
       "образование      4014\n",
       "свадьба          2335\n",
       "Name: purpose_lemmas, dtype: int64"
      ]
     },
     "execution_count": 14,
     "metadata": {},
     "output_type": "execute_result"
    }
   ],
   "source": [
    "from pymystem3 import Mystem\n",
    "m = Mystem()\n",
    "\n",
    "#посмотрим какие есть уникальные значения столбце 'purpose'\n",
    "#data['purpose'].unique()\n",
    "#лемматизируем эту колонку и увидим несколько вариантов назначений\n",
    "#варианты использования кредита для покупки недвижимости и сдачи в аренду включим в группу 'недвижимость'\n",
    "#заменим леммы на обнаруженные группы\n",
    "\n",
    "def purpose_lemmas (purpose):\n",
    "    lemmas = m.lemmatize(purpose)\n",
    "    if 'автомобиль' in lemmas:\n",
    "        return 'автомобиль'\n",
    "    if 'свадьба' in lemmas:\n",
    "        return 'свадьба'\n",
    "    if 'недвижимость' in lemmas:\n",
    "        return 'недвижимость'\n",
    "    if 'жилье' in lemmas:\n",
    "        return 'недвижимость'\n",
    "    if 'образование' in lemmas:\n",
    "        return 'образование'\n",
    "    return lemmas\n",
    "\n",
    "try:\n",
    "    #добавим обнаруженные категории в новый столбец 'purpose_lemmas'\n",
    "    data['purpose_lemmas'] = data['purpose'].apply(purpose_lemmas)\n",
    "except:\n",
    "    print('не удалось добавить столбец, проверьте данные в столбце \"purpose\"')\n",
    "#проверим все ли строки правильно обработались\n",
    "data['purpose_lemmas'].value_counts()"
   ]
  },
  {
   "cell_type": "markdown",
   "metadata": {},
   "source": [
    "### Вывод"
   ]
  },
  {
   "cell_type": "markdown",
   "metadata": {},
   "source": [
    "В основном заемщики берут денежные средства для покупки недвижимости, что составит примерно половину всех кредитов, автомобиля, на образование или свадьбу. При этом среди тех, кто покупает недвижимость есть те, кто покупает ее чтобы сдавать в аренду, такие случае включены в группу 'недвижимость'."
   ]
  },
  {
   "cell_type": "markdown",
   "metadata": {},
   "source": [
    "<a id='6-bullet'></a>\n",
    "### Категоризация данных"
   ]
  },
  {
   "cell_type": "code",
   "execution_count": 15,
   "metadata": {},
   "outputs": [
    {
     "data": {
      "text/plain": [
       "сотрудник      11097\n",
       "компаньон       5080\n",
       "пенсионер       3837\n",
       "госслужащий     1457\n",
       "Name: income_type, dtype: int64"
      ]
     },
     "execution_count": 15,
     "metadata": {},
     "output_type": "execute_result"
    }
   ],
   "source": [
    "data['income_type'].value_counts()\n",
    "#нашлись категории, которых очень мало по количеству (\"безработный\", \"предприниматель\", \"в декрете\" и \"студент\")\n",
    "#изменим категорию \"безработный\", \"в декрете\" и \"студент\" на \"сотрудник\"\n",
    "#это самая большая категория, на которой не должны сказаться эти поправки\n",
    "data.loc[(data['income_type'] == 'безработный'), 'income_type'] = 'сотрудник'\n",
    "data.loc[(data['income_type'] == 'в декрете'), 'income_type'] = 'сотрудник'\n",
    "data.loc[(data['income_type'] == 'студент'), 'income_type'] = 'сотрудник'\n",
    "#изменим категорию \"предприниматель\" на \"компаньон\" (потому что похожи по сути)\n",
    "data.loc[(data['income_type'] == 'предприниматель'), 'income_type'] = 'сотрудник'\n",
    "data['income_type'].value_counts()"
   ]
  },
  {
   "cell_type": "code",
   "execution_count": 16,
   "metadata": {},
   "outputs": [
    {
     "data": {
      "text/plain": [
       "100-149    7175\n",
       "> 200      5067\n",
       "149-200    4766\n",
       "50-99      4091\n",
       "< 50        372\n",
       "Name: total_income_group, dtype: int64"
      ]
     },
     "execution_count": 16,
     "metadata": {},
     "output_type": "execute_result"
    }
   ],
   "source": [
    "#одна из гипотиз подраземевает оценку уровня ежемесячного дохода. Присвоим колонке 'total_income' категории\n",
    "#и сохраним в новом столбце\n",
    "#оценим интервалы в колонке 'total_income'\n",
    "#получилось от 20 до 220 и медиана 143\n",
    "#разделим данные с шагом 50\n",
    "\n",
    "#data['total_income'].median()\n",
    "#data['total_income'].max()\n",
    "#data['total_income'].min()\n",
    "\n",
    "def total_income_group(total_income):\n",
    "    if total_income < 50000:\n",
    "        return '< 50'\n",
    "    if total_income < 100000:\n",
    "        return '50-99'\n",
    "    if total_income < 150000:\n",
    "        return '100-149'\n",
    "    if total_income <= 200000:\n",
    "        return '149-200'\n",
    "    return '> 200'\n",
    "\n",
    "data['total_income_group'] = data['total_income'].apply(total_income_group)\n",
    "#посмотрим что получилось\n",
    "data['total_income_group'].value_counts()"
   ]
  },
  {
   "cell_type": "markdown",
   "metadata": {},
   "source": [
    "### Вывод"
   ]
  },
  {
   "cell_type": "markdown",
   "metadata": {},
   "source": [
    "Нашлись категории, которых ничтожно мало в общем объеме (\"безработный\", \"предприниматель\", \"в декрете\" и \"студент\"). Изменим категорию \"безработный\", \"в декрете\" и \"студент\" на \"сотрудник\", так как это самая большая категория, на которой не должны сказаться эти поправки. Категорию \"предприниматель\" изменим на \"компаньон\" потому что категории похожи по своей сути.\n",
    "\n",
    "Так как одна из гипотез подразумевает оценку уровня ежемесячного дохода, присвоим колонке 'total_income' категории и сохраним в новом столбце. Оценим интервалы в колонке 'total_income', получилось от 20 до 220 и медиана 143. Разделим данные в столбце 'total_income' с шагом 50."
   ]
  },
  {
   "cell_type": "markdown",
   "metadata": {},
   "source": [
    "### 3. Ответы на вопросы"
   ]
  },
  {
   "cell_type": "markdown",
   "metadata": {},
   "source": [
    "<a id='7-bullet'></a>\n",
    "- Есть ли зависимость между наличием детей и возвратом кредита в срок?"
   ]
  },
  {
   "cell_type": "code",
   "execution_count": 18,
   "metadata": {},
   "outputs": [
    {
     "data": {
      "text/html": [
       "<div>\n",
       "<style scoped>\n",
       "    .dataframe tbody tr th:only-of-type {\n",
       "        vertical-align: middle;\n",
       "    }\n",
       "\n",
       "    .dataframe tbody tr th {\n",
       "        vertical-align: top;\n",
       "    }\n",
       "\n",
       "    .dataframe thead tr th {\n",
       "        text-align: left;\n",
       "    }\n",
       "\n",
       "    .dataframe thead tr:last-of-type th {\n",
       "        text-align: right;\n",
       "    }\n",
       "</style>\n",
       "<table border=\"1\" class=\"dataframe\">\n",
       "  <thead>\n",
       "    <tr>\n",
       "      <th></th>\n",
       "      <th>count</th>\n",
       "      <th>sum</th>\n",
       "      <th>mean</th>\n",
       "    </tr>\n",
       "    <tr>\n",
       "      <th>group_for_pivot</th>\n",
       "      <th>ИТОГО</th>\n",
       "      <th>ИТОГО</th>\n",
       "      <th>ИТОГО</th>\n",
       "    </tr>\n",
       "    <tr>\n",
       "      <th>children</th>\n",
       "      <th></th>\n",
       "      <th></th>\n",
       "      <th></th>\n",
       "    </tr>\n",
       "  </thead>\n",
       "  <tbody>\n",
       "    <tr>\n",
       "      <td>0</td>\n",
       "      <td>14107</td>\n",
       "      <td>1063</td>\n",
       "      <td>0.075353</td>\n",
       "    </tr>\n",
       "    <tr>\n",
       "      <td>1</td>\n",
       "      <td>4856</td>\n",
       "      <td>445</td>\n",
       "      <td>0.091639</td>\n",
       "    </tr>\n",
       "    <tr>\n",
       "      <td>2</td>\n",
       "      <td>2052</td>\n",
       "      <td>194</td>\n",
       "      <td>0.094542</td>\n",
       "    </tr>\n",
       "    <tr>\n",
       "      <td>3</td>\n",
       "      <td>330</td>\n",
       "      <td>27</td>\n",
       "      <td>0.081818</td>\n",
       "    </tr>\n",
       "    <tr>\n",
       "      <td>4</td>\n",
       "      <td>41</td>\n",
       "      <td>4</td>\n",
       "      <td>0.097561</td>\n",
       "    </tr>\n",
       "    <tr>\n",
       "      <td>5</td>\n",
       "      <td>9</td>\n",
       "      <td>0</td>\n",
       "      <td>0.000000</td>\n",
       "    </tr>\n",
       "    <tr>\n",
       "      <td>20</td>\n",
       "      <td>76</td>\n",
       "      <td>8</td>\n",
       "      <td>0.105263</td>\n",
       "    </tr>\n",
       "  </tbody>\n",
       "</table>\n",
       "</div>"
      ],
      "text/plain": [
       "                 count   sum      mean\n",
       "group_for_pivot  ИТОГО ИТОГО     ИТОГО\n",
       "children                              \n",
       "0                14107  1063  0.075353\n",
       "1                 4856   445  0.091639\n",
       "2                 2052   194  0.094542\n",
       "3                  330    27  0.081818\n",
       "4                   41     4  0.097561\n",
       "5                    9     0  0.000000\n",
       "20                  76     8  0.105263"
      ]
     },
     "execution_count": 18,
     "metadata": {},
     "output_type": "execute_result"
    }
   ],
   "source": [
    "data['group_for_pivot'] = 'ИТОГО'\n",
    "children_pivot = data.pivot_table(index=['children'], \n",
    "                                      columns='group_for_pivot', \n",
    "                                      values='debt', \n",
    "                                      aggfunc=['count', 'sum', 'mean'])\n",
    "children_pivot"
   ]
  },
  {
   "cell_type": "markdown",
   "metadata": {},
   "source": [
    "### Вывод"
   ]
  },
  {
   "cell_type": "markdown",
   "metadata": {},
   "source": [
    "Взаимосвязь между наличием детей и возвратом кредита в срок есть, но она не линейная. Наиболее многочисленная и низкорисковая группа - люди без детей, процент невозврата всего 7,5%.\n",
    "\n",
    "На наличие просрочки практически одинаково повлияет наличие 1-2 или 4х детей. При этом процент невозврата растет при росте количества детей (исключая людей с 3я детьми) с шагом 0,3%.\n",
    "\n",
    "Учитывая, что всего 9 человек в выборке имеют 5 детей и не имели просрочек по кредиту этой информацией можем пренебречь."
   ]
  },
  {
   "cell_type": "markdown",
   "metadata": {},
   "source": [
    "<a id='8-bullet'></a>\n",
    "- Есть ли зависимость между семейным положением и возвратом кредита в срок?"
   ]
  },
  {
   "cell_type": "code",
   "execution_count": 20,
   "metadata": {},
   "outputs": [
    {
     "data": {
      "text/html": [
       "<div>\n",
       "<style scoped>\n",
       "    .dataframe tbody tr th:only-of-type {\n",
       "        vertical-align: middle;\n",
       "    }\n",
       "\n",
       "    .dataframe tbody tr th {\n",
       "        vertical-align: top;\n",
       "    }\n",
       "\n",
       "    .dataframe thead tr th {\n",
       "        text-align: left;\n",
       "    }\n",
       "\n",
       "    .dataframe thead tr:last-of-type th {\n",
       "        text-align: right;\n",
       "    }\n",
       "</style>\n",
       "<table border=\"1\" class=\"dataframe\">\n",
       "  <thead>\n",
       "    <tr>\n",
       "      <th></th>\n",
       "      <th>count</th>\n",
       "      <th>sum</th>\n",
       "      <th>mean</th>\n",
       "    </tr>\n",
       "    <tr>\n",
       "      <th>group_for_pivot</th>\n",
       "      <th>ИТОГО</th>\n",
       "      <th>ИТОГО</th>\n",
       "      <th>ИТОГО</th>\n",
       "    </tr>\n",
       "    <tr>\n",
       "      <th>family_status</th>\n",
       "      <th></th>\n",
       "      <th></th>\n",
       "      <th></th>\n",
       "    </tr>\n",
       "  </thead>\n",
       "  <tbody>\n",
       "    <tr>\n",
       "      <td>Не женат / не замужем</td>\n",
       "      <td>2810</td>\n",
       "      <td>274</td>\n",
       "      <td>0.097509</td>\n",
       "    </tr>\n",
       "    <tr>\n",
       "      <td>в разводе</td>\n",
       "      <td>1195</td>\n",
       "      <td>85</td>\n",
       "      <td>0.071130</td>\n",
       "    </tr>\n",
       "    <tr>\n",
       "      <td>вдовец / вдова</td>\n",
       "      <td>959</td>\n",
       "      <td>63</td>\n",
       "      <td>0.065693</td>\n",
       "    </tr>\n",
       "    <tr>\n",
       "      <td>гражданский брак</td>\n",
       "      <td>4163</td>\n",
       "      <td>388</td>\n",
       "      <td>0.093202</td>\n",
       "    </tr>\n",
       "    <tr>\n",
       "      <td>женат / замужем</td>\n",
       "      <td>12344</td>\n",
       "      <td>931</td>\n",
       "      <td>0.075421</td>\n",
       "    </tr>\n",
       "  </tbody>\n",
       "</table>\n",
       "</div>"
      ],
      "text/plain": [
       "                       count   sum      mean\n",
       "group_for_pivot        ИТОГО ИТОГО     ИТОГО\n",
       "family_status                               \n",
       "Не женат / не замужем   2810   274  0.097509\n",
       "в разводе               1195    85  0.071130\n",
       "вдовец / вдова           959    63  0.065693\n",
       "гражданский брак        4163   388  0.093202\n",
       "женат / замужем        12344   931  0.075421"
      ]
     },
     "execution_count": 20,
     "metadata": {},
     "output_type": "execute_result"
    }
   ],
   "source": [
    "family_status_pivot = data.pivot_table(index=['family_status'], \n",
    "                                      columns='group_for_pivot', \n",
    "                                      values='debt', \n",
    "                                      aggfunc=['count', 'sum', 'mean'])\n",
    "family_status_pivot"
   ]
  },
  {
   "cell_type": "markdown",
   "metadata": {},
   "source": [
    "### Вывод"
   ]
  },
  {
   "cell_type": "markdown",
   "metadata": {},
   "source": [
    "Зависимость между семейным положением и возвратом кредита в срок есть.\n",
    "\n",
    "1. Наиболее добросовестные заемщики - это вдовы и вдовцы и люди в разводе. \n",
    "2. В середине наиболее многочисленная группа женатых/замужних, которая занимает почти 60% заемщиков имеет процент невозврата на уровне 7,5%.\n",
    "3. Наиболее не добросовестные заемщики оказались среди не женатых/не замужних и состоящие в гражданском браке."
   ]
  },
  {
   "cell_type": "markdown",
   "metadata": {},
   "source": [
    "<a id='9-bullet'></a>\n",
    "- Есть ли зависимость между уровнем дохода и возвратом кредита в срок?"
   ]
  },
  {
   "cell_type": "code",
   "execution_count": 21,
   "metadata": {},
   "outputs": [
    {
     "data": {
      "text/html": [
       "<div>\n",
       "<style scoped>\n",
       "    .dataframe tbody tr th:only-of-type {\n",
       "        vertical-align: middle;\n",
       "    }\n",
       "\n",
       "    .dataframe tbody tr th {\n",
       "        vertical-align: top;\n",
       "    }\n",
       "\n",
       "    .dataframe thead tr th {\n",
       "        text-align: left;\n",
       "    }\n",
       "\n",
       "    .dataframe thead tr:last-of-type th {\n",
       "        text-align: right;\n",
       "    }\n",
       "</style>\n",
       "<table border=\"1\" class=\"dataframe\">\n",
       "  <thead>\n",
       "    <tr>\n",
       "      <th></th>\n",
       "      <th>count</th>\n",
       "      <th>sum</th>\n",
       "      <th>mean</th>\n",
       "    </tr>\n",
       "    <tr>\n",
       "      <th>group_for_pivot</th>\n",
       "      <th>ИТОГО</th>\n",
       "      <th>ИТОГО</th>\n",
       "      <th>ИТОГО</th>\n",
       "    </tr>\n",
       "    <tr>\n",
       "      <th>total_income_group</th>\n",
       "      <th></th>\n",
       "      <th></th>\n",
       "      <th></th>\n",
       "    </tr>\n",
       "  </thead>\n",
       "  <tbody>\n",
       "    <tr>\n",
       "      <td>100-149</td>\n",
       "      <td>7175</td>\n",
       "      <td>624</td>\n",
       "      <td>0.086969</td>\n",
       "    </tr>\n",
       "    <tr>\n",
       "      <td>149-200</td>\n",
       "      <td>4766</td>\n",
       "      <td>405</td>\n",
       "      <td>0.084977</td>\n",
       "    </tr>\n",
       "    <tr>\n",
       "      <td>50-99</td>\n",
       "      <td>4091</td>\n",
       "      <td>331</td>\n",
       "      <td>0.080909</td>\n",
       "    </tr>\n",
       "    <tr>\n",
       "      <td>&lt; 50</td>\n",
       "      <td>372</td>\n",
       "      <td>23</td>\n",
       "      <td>0.061828</td>\n",
       "    </tr>\n",
       "    <tr>\n",
       "      <td>&gt; 200</td>\n",
       "      <td>5067</td>\n",
       "      <td>358</td>\n",
       "      <td>0.070653</td>\n",
       "    </tr>\n",
       "  </tbody>\n",
       "</table>\n",
       "</div>"
      ],
      "text/plain": [
       "                   count   sum      mean\n",
       "group_for_pivot    ИТОГО ИТОГО     ИТОГО\n",
       "total_income_group                      \n",
       "100-149             7175   624  0.086969\n",
       "149-200             4766   405  0.084977\n",
       "50-99               4091   331  0.080909\n",
       "< 50                 372    23  0.061828\n",
       "> 200               5067   358  0.070653"
      ]
     },
     "execution_count": 21,
     "metadata": {},
     "output_type": "execute_result"
    }
   ],
   "source": [
    "total_income_pivot = data.pivot_table(index=['total_income_group'], \n",
    "                                      columns='group_for_pivot', \n",
    "                                      values='debt', \n",
    "                                      aggfunc=['count', 'sum', 'mean'])\n",
    "total_income_pivot"
   ]
  },
  {
   "cell_type": "markdown",
   "metadata": {},
   "source": [
    "### Вывод"
   ]
  },
  {
   "cell_type": "markdown",
   "metadata": {},
   "source": [
    "Зависимость между уровнем дохода и возвратом кредита в срок есть.\n",
    "1. Больше всего просрочек у заемщиков в интервале доходов 100-200, а внутри этой группы у заемщиков с доходом 149-200.\n",
    "2. Меньше всего просрочек у заемщиков с доходом менее 50. Можно предположить, что эти люди из-за наименьших доходов рассчитывают свои возможности точнее, а рынок труда, богатый вакансиями с аналогичным доходом добавляет стабильности этой группе.\n",
    "3. Средней по уровню просрочек оказалась группа с доходом более 200. \n"
   ]
  },
  {
   "cell_type": "markdown",
   "metadata": {},
   "source": [
    "<a id='10-bullet'></a>\n",
    "- Как разные цели кредита влияют на его возврат в срок?"
   ]
  },
  {
   "cell_type": "code",
   "execution_count": 23,
   "metadata": {},
   "outputs": [
    {
     "data": {
      "text/html": [
       "<div>\n",
       "<style scoped>\n",
       "    .dataframe tbody tr th:only-of-type {\n",
       "        vertical-align: middle;\n",
       "    }\n",
       "\n",
       "    .dataframe tbody tr th {\n",
       "        vertical-align: top;\n",
       "    }\n",
       "\n",
       "    .dataframe thead tr th {\n",
       "        text-align: left;\n",
       "    }\n",
       "\n",
       "    .dataframe thead tr:last-of-type th {\n",
       "        text-align: right;\n",
       "    }\n",
       "</style>\n",
       "<table border=\"1\" class=\"dataframe\">\n",
       "  <thead>\n",
       "    <tr>\n",
       "      <th></th>\n",
       "      <th>count</th>\n",
       "      <th>sum</th>\n",
       "      <th>mean</th>\n",
       "    </tr>\n",
       "    <tr>\n",
       "      <th>group_for_pivot</th>\n",
       "      <th>ИТОГО</th>\n",
       "      <th>ИТОГО</th>\n",
       "      <th>ИТОГО</th>\n",
       "    </tr>\n",
       "    <tr>\n",
       "      <th>purpose_lemmas</th>\n",
       "      <th></th>\n",
       "      <th></th>\n",
       "      <th></th>\n",
       "    </tr>\n",
       "  </thead>\n",
       "  <tbody>\n",
       "    <tr>\n",
       "      <td>автомобиль</td>\n",
       "      <td>4308</td>\n",
       "      <td>403</td>\n",
       "      <td>0.093547</td>\n",
       "    </tr>\n",
       "    <tr>\n",
       "      <td>недвижимость</td>\n",
       "      <td>10814</td>\n",
       "      <td>782</td>\n",
       "      <td>0.072314</td>\n",
       "    </tr>\n",
       "    <tr>\n",
       "      <td>образование</td>\n",
       "      <td>4014</td>\n",
       "      <td>370</td>\n",
       "      <td>0.092177</td>\n",
       "    </tr>\n",
       "    <tr>\n",
       "      <td>свадьба</td>\n",
       "      <td>2335</td>\n",
       "      <td>186</td>\n",
       "      <td>0.079657</td>\n",
       "    </tr>\n",
       "  </tbody>\n",
       "</table>\n",
       "</div>"
      ],
      "text/plain": [
       "                 count   sum      mean\n",
       "group_for_pivot  ИТОГО ИТОГО     ИТОГО\n",
       "purpose_lemmas                        \n",
       "автомобиль        4308   403  0.093547\n",
       "недвижимость     10814   782  0.072314\n",
       "образование       4014   370  0.092177\n",
       "свадьба           2335   186  0.079657"
      ]
     },
     "execution_count": 23,
     "metadata": {},
     "output_type": "execute_result"
    }
   ],
   "source": [
    "purpose_lemmas_pivot = data.pivot_table(index=['purpose_lemmas'], \n",
    "                                      columns='group_for_pivot', \n",
    "                                      values='debt', \n",
    "                                      aggfunc=['count', 'sum', 'mean'])\n",
    "purpose_lemmas_pivot"
   ]
  },
  {
   "cell_type": "markdown",
   "metadata": {},
   "source": [
    "### Вывод"
   ]
  },
  {
   "cell_type": "markdown",
   "metadata": {},
   "source": [
    "1. Больше всего просрочек у заемщиков, взявших деньги для приобретения автомобиля или на образование. Можно предположить, что заемщики, взявшие деньги на обучение имеют менее стабильную работу по причине необходимости тратить время на обучение.\n",
    "2. На втором месте по уровню просрочек - кредиты на свадьбы.\n",
    "3. Меньше всего просрочек у заемщиков, взявших деньги на приобретение недвижимости. Это также и самая многочисленная группа."
   ]
  },
  {
   "cell_type": "markdown",
   "metadata": {},
   "source": [
    "<a id='11-bullet'></a>\n",
    "### 4. Заключение\n",
    "### Общий вывод"
   ]
  },
  {
   "cell_type": "markdown",
   "metadata": {},
   "source": [
    "В основном заемщики берут денежные средства для покупки недвижимости - 50% от всех выданных кредитов, при этом некоторые заемщики покупают недвижимость для сдачи в аренду. На покупку автомобиля деньги взяли 20%, на образование 19% и на свадьбу 11%.\n",
    "\n",
    "Нашлись взаимосвязи:\n",
    "1.\tМежду наличием детей и возвратом кредита в срок.\n",
    "    Заемщики без детей возвращают деньги лучше всего (доля просрочек 7,5%), при этом это самая многочисленная группа.\n",
    "    На наличие просрочки практически одинаково повлияет наличие 1-2 или 4х детей. При этом процент невозврата растет при росте количества детей (исключая людей с 3я детьми) с шагом 0,3%.\n",
    "2.\tМежду семейным положением и возвратом кредита в срок.\n",
    "    Наиболее добросовестные заемщики - это вдовы и вдовцы и люди в разводе (доля просрочек 6,6%).\n",
    "    На втором месте по доле просрочек (7,5%) наиболее многочисленная группа женатых/замужних, которая занимает почти 60% заемщиков.\n",
    "    Наиболее не добросовестные заемщики оказались среди не женатых или не замужних (9,8%) и состоящих в гражданском браке (9,3%).\n",
    "3.\tМежду уровнем дохода и возвратом кредита в срок.\n",
    "    Больше всего просрочек у заемщиков в интервале доходов 100-200 (8,4 – 8,9%), а внутри этой группы у заемщиков с доходом 149-200 (8,9%).\n",
    "    Меньше всего просрочек у заемщиков с доходом менее 50 (6,1%). Можно предположить, что эти люди из-за наименьших доходов рассчитывают свои возможности точнее, а рынок труда, богатый вакансиями с аналогичным доходом добавляет стабильности этой группе.\n",
    "    Средней по уровню просрочек оказалась группа с доходом более 200 (7%).\n"
   ]
  },
  {
   "cell_type": "code",
   "execution_count": null,
   "metadata": {},
   "outputs": [],
   "source": []
  }
 ],
 "metadata": {
  "kernelspec": {
   "display_name": "Python 3",
   "language": "python",
   "name": "python3"
  },
  "language_info": {
   "codemirror_mode": {
    "name": "ipython",
    "version": 3
   },
   "file_extension": ".py",
   "mimetype": "text/x-python",
   "name": "python",
   "nbconvert_exporter": "python",
   "pygments_lexer": "ipython3",
   "version": "3.7.4"
  },
  "toc": {
   "base_numbering": 1,
   "nav_menu": {},
   "number_sections": true,
   "sideBar": true,
   "skip_h1_title": true,
   "title_cell": "Table of Contents",
   "title_sidebar": "Contents",
   "toc_cell": false,
   "toc_position": {},
   "toc_section_display": true,
   "toc_window_display": false
  }
 },
 "nbformat": 4,
 "nbformat_minor": 2
}
