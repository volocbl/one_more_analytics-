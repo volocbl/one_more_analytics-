{
 "cells": [
  {
   "cell_type": "markdown",
   "metadata": {},
   "source": [
    "# Определение перспективного тарифа для телеком компании\n",
    "\n",
    "#### Определим перспективный тариф компании, выделим фактор, проверим гипотезы. Исследование разделим на несколько частей.\n",
    "\n",
    "Клиентам предлагают два тарифных плана: «Смарт» и «Ультра». Необходимо выяснить какой тариф приносит больше денег.\n",
    "Проанализируем тарифы на небольшой выборке клиентов. В нашем распоряжении данные 500 клиентов: кто они, откуда, каким тарифом пользуются, сколько звонков и сообщений каждый отправил за 2018 год. Нужно проанализировать поведение клиентов и сделать вывод — какой тариф лучше.\n",
    "_____________________________________________________________________________________\n",
    "##### Часть 1. Импортируем библиотеки и прочитаем данные\n",
    "* [Импортируем библиотеки и прочитаем данные](#1-bullet)\n",
    "\n",
    "##### Часть 2. Изучим общую информацию и подготовим данные\n",
    "* [Изучим данные в таблице 'calls'](#2-bullet)\n",
    "* [Изучим данные в таблице 'internet'](#3-bullet)\n",
    "* [Изучим данные в таблице 'messages'](#4-bullet)\n",
    "* [Изучим данные в таблице 'tariffs'](#5-bullet)\n",
    "* [Изучим данные в таблице 'users'](#6-bullet)\n",
    "* [Посчитаем количество сделанных звонков и израсходованных минут разговора по месяцам](#7-bullet)\n",
    "* [Посчитаем количество отправленных сообщений по месяцам](#8-bullet)\n",
    "* [Посчитаем объем израсходованного интернет-трафика по месяцам](#9-bullet)\n",
    "* [Посчитаем выручку с каждого пользователя](#10-bullet)\n",
    "* [Объединим таблицы](#11-bullet)\n",
    "\n",
    "##### Часть 3. Проанализируем данные\n",
    "* [Посчитаем сколько минут разговора, сообщений и какой объём интернет-трафика требуется пользователям каждого тарифа в месяц](#12-bullet)\n",
    "* [Посчитаем дисперсию, среднее и стандартное отклонение по выбранным метрикам](#13-bullet)\n",
    "* [Построим гистограммы по выбранным метрикам](#14-bullet)\n",
    "\n",
    "##### Часть 4. Проверим гипотезы\n",
    "* [Действительно ли средняя выручка пользователей тарифов «Ультра» и «Смарт» различается](#15-bullet)\n",
    "* [Действительно ли средняя выручка пользователей из Москвы отличается от выручки пользователей из других регионов](#16-bullet)\n",
    "\n",
    "##### Часть 5. Заключение\n",
    "* [Общий вывод](#17-bullet)\n",
    "\n",
    "\n",
    "___________________________________________________\n",
    "###### Описание тарифов:\n",
    "1. Тариф «Смарт» 550 руб/мес:\n",
    "    - 500 минут разговора (сверх лимита 3 руб/мин)\n",
    "    - 50 сообщений (сверх лимита 3 руб/шт)\n",
    "    - 15 Гб интернет-трафика (сверх лимита 200 руб/Гб)\n",
    "\n",
    "\n",
    "\n",
    "2. Тариф «Ультра» 1950 руб/мес:\n",
    "    - 3000 минут разговора (сверх лимита 1 руб/мин)\n",
    "    - 1000 сообщений (сверх лимита 1 руб/шт)\n",
    "    - 30 Гб интернет-трафика (150 руб/Гб)\n",
    "    \n",
    "    \n",
    "    \n",
    "###### Описание данных:\n",
    "Таблица users (информация о пользователях):\n",
    "\n",
    "    user_id — уникальный идентификатор пользователя\n",
    "    first_name — имя пользователя\n",
    "    last_name — фамилия пользователя\n",
    "    age — возраст пользователя (годы)\n",
    "    reg_date — дата подключения тарифа (день, месяц, год)\n",
    "    churn_date — дата прекращения пользования тарифом\n",
    "    city — город проживания пользователя\n",
    "    tariff — название тарифного плана\n",
    "\n",
    "Таблица calls (информация о звонках):\n",
    "\n",
    "    id — уникальный номер звонка\n",
    "    call_date — дата звонка\n",
    "    duration — длительность звонка в минутах\n",
    "    user_id — идентификатор пользователя, сделавшего звонок\n",
    "\n",
    "Таблица messages (информация о сообщениях):\n",
    "\n",
    "    id — уникальный номер сообщения\n",
    "    message_date — дата сообщения\n",
    "    user_id — идентификатор пользователя, отправившего сообщение\n",
    "\n",
    "Таблица internet (информация об интернет-сессиях):\n",
    "\n",
    "    id — уникальный номер сессии\n",
    "    mb_used — объём потраченного за сессию интернет-трафика (в мегабайтах)\n",
    "    session_date — дата интернет-сессии\n",
    "    user_id — идентификатор пользователя\n",
    "\n",
    "Таблица tariffs (информация о тарифах):\n",
    "\n",
    "    tariff_name — название тарифа\n",
    "    rub_monthly_fee — ежемесячная абонентская плата в рублях\n",
    "    minutes_included — количество минут разговора в месяц, включённых в абонентскую плату\n",
    "    messages_included — количество сообщений в месяц, включённых в абонентскую плату\n",
    "    mb_per_month_included — объём интернет-трафика, включённого в абонентскую плату (в мегабайтах)\n",
    "    rub_per_minute — стоимость минуты разговора сверх тарифного пакета\n",
    "    rub_per_message — стоимость отправки сообщения сверх тарифного пакета\n",
    "    rub_per_gb — стоимость дополнительного гигабайта интернет-трафика сверх тарифного пакета"
   ]
  },
  {
   "cell_type": "markdown",
   "metadata": {},
   "source": [
    "<a id='1-bullet'></a>\n",
    "### 1. Импортируем библиотеки и прочитаем данные"
   ]
  },
  {
   "cell_type": "code",
   "execution_count": 1,
   "metadata": {},
   "outputs": [],
   "source": [
    "import pandas as pd\n",
    "import numpy as np\n",
    "import math as mt\n",
    "import matplotlib.pyplot as plt\n",
    "from scipy import stats as st"
   ]
  },
  {
   "cell_type": "code",
   "execution_count": 2,
   "metadata": {},
   "outputs": [],
   "source": [
    "calls = pd.read_csv('/datasets/calls.csv')\n",
    "internet = pd.read_csv('/datasets/internet.csv')\n",
    "messages = pd.read_csv('/datasets/messages.csv')\n",
    "tariffs = pd.read_csv('/datasets/tariffs.csv')\n",
    "users = pd.read_csv('/datasets/users.csv')"
   ]
  },
  {
   "cell_type": "markdown",
   "metadata": {},
   "source": [
    "### 2. Изучим общую информацию и подготовим данные"
   ]
  },
  {
   "cell_type": "markdown",
   "metadata": {},
   "source": [
    "<a id='2-bullet'></a>\n",
    "#### Изучим данные в таблице 'calls'"
   ]
  },
  {
   "cell_type": "code",
   "execution_count": 3,
   "metadata": {},
   "outputs": [
    {
     "name": "stdout",
     "output_type": "stream",
     "text": [
      "<class 'pandas.core.frame.DataFrame'>\n",
      "RangeIndex: 202607 entries, 0 to 202606\n",
      "Data columns (total 4 columns):\n",
      "id           202607 non-null object\n",
      "call_date    202607 non-null object\n",
      "duration     202607 non-null float64\n",
      "user_id      202607 non-null int64\n",
      "dtypes: float64(1), int64(1), object(2)\n",
      "memory usage: 6.2+ MB\n"
     ]
    }
   ],
   "source": [
    "calls.info()"
   ]
  },
  {
   "cell_type": "code",
   "execution_count": 4,
   "metadata": {},
   "outputs": [
    {
     "data": {
      "text/html": [
       "<div>\n",
       "<style scoped>\n",
       "    .dataframe tbody tr th:only-of-type {\n",
       "        vertical-align: middle;\n",
       "    }\n",
       "\n",
       "    .dataframe tbody tr th {\n",
       "        vertical-align: top;\n",
       "    }\n",
       "\n",
       "    .dataframe thead th {\n",
       "        text-align: right;\n",
       "    }\n",
       "</style>\n",
       "<table border=\"1\" class=\"dataframe\">\n",
       "  <thead>\n",
       "    <tr style=\"text-align: right;\">\n",
       "      <th></th>\n",
       "      <th>id</th>\n",
       "      <th>call_date</th>\n",
       "      <th>duration</th>\n",
       "      <th>user_id</th>\n",
       "    </tr>\n",
       "  </thead>\n",
       "  <tbody>\n",
       "    <tr>\n",
       "      <td>0</td>\n",
       "      <td>1000_0</td>\n",
       "      <td>2018-07-25</td>\n",
       "      <td>0.00</td>\n",
       "      <td>1000</td>\n",
       "    </tr>\n",
       "    <tr>\n",
       "      <td>1</td>\n",
       "      <td>1000_1</td>\n",
       "      <td>2018-08-17</td>\n",
       "      <td>0.00</td>\n",
       "      <td>1000</td>\n",
       "    </tr>\n",
       "    <tr>\n",
       "      <td>2</td>\n",
       "      <td>1000_2</td>\n",
       "      <td>2018-06-11</td>\n",
       "      <td>2.85</td>\n",
       "      <td>1000</td>\n",
       "    </tr>\n",
       "    <tr>\n",
       "      <td>3</td>\n",
       "      <td>1000_3</td>\n",
       "      <td>2018-09-21</td>\n",
       "      <td>13.80</td>\n",
       "      <td>1000</td>\n",
       "    </tr>\n",
       "    <tr>\n",
       "      <td>4</td>\n",
       "      <td>1000_4</td>\n",
       "      <td>2018-12-15</td>\n",
       "      <td>5.18</td>\n",
       "      <td>1000</td>\n",
       "    </tr>\n",
       "  </tbody>\n",
       "</table>\n",
       "</div>"
      ],
      "text/plain": [
       "       id   call_date  duration  user_id\n",
       "0  1000_0  2018-07-25      0.00     1000\n",
       "1  1000_1  2018-08-17      0.00     1000\n",
       "2  1000_2  2018-06-11      2.85     1000\n",
       "3  1000_3  2018-09-21     13.80     1000\n",
       "4  1000_4  2018-12-15      5.18     1000"
      ]
     },
     "execution_count": 4,
     "metadata": {},
     "output_type": "execute_result"
    }
   ],
   "source": [
    "calls.head()"
   ]
  },
  {
   "cell_type": "code",
   "execution_count": 5,
   "metadata": {},
   "outputs": [
    {
     "data": {
      "text/plain": [
       "id           0\n",
       "call_date    0\n",
       "duration     0\n",
       "user_id      0\n",
       "dtype: int64"
      ]
     },
     "execution_count": 5,
     "metadata": {},
     "output_type": "execute_result"
    }
   ],
   "source": [
    "calls.isnull().sum()"
   ]
  },
  {
   "cell_type": "code",
   "execution_count": 6,
   "metadata": {},
   "outputs": [
    {
     "name": "stdout",
     "output_type": "stream",
     "text": [
      "2018-01-01 00:00:00 2018-12-31 00:00:00\n",
      "<class 'pandas.core.frame.DataFrame'>\n",
      "RangeIndex: 202607 entries, 0 to 202606\n",
      "Data columns (total 4 columns):\n",
      "id           202607 non-null object\n",
      "call_date    202607 non-null datetime64[ns]\n",
      "duration     202607 non-null float64\n",
      "user_id      202607 non-null int64\n",
      "dtypes: datetime64[ns](1), float64(1), int64(1), object(1)\n",
      "memory usage: 6.2+ MB\n"
     ]
    }
   ],
   "source": [
    "#перевести call_date в формат дата\n",
    "calls['call_date'] = pd.to_datetime(calls['call_date'], format='%Y/%m/%d')\n",
    "print(calls['call_date'].min(), calls['call_date'].max())\n",
    "calls.info()"
   ]
  },
  {
   "cell_type": "markdown",
   "metadata": {},
   "source": [
    "Привели столбец call_date к формату datetime для удобства. Большая доля звонков имеет продолжительность 0.00, возможно, это пропущенные звонки. Они повлияют на среднюю продолжительность звонков, но этот показатель мы не оцениваем, поэтому не будет вносить изменения в данные."
   ]
  },
  {
   "cell_type": "markdown",
   "metadata": {},
   "source": [
    "<a id='3-bullet'></a>\n",
    "#### Изучим данные в таблице 'internet'"
   ]
  },
  {
   "cell_type": "code",
   "execution_count": 7,
   "metadata": {},
   "outputs": [
    {
     "name": "stdout",
     "output_type": "stream",
     "text": [
      "<class 'pandas.core.frame.DataFrame'>\n",
      "RangeIndex: 149396 entries, 0 to 149395\n",
      "Data columns (total 5 columns):\n",
      "Unnamed: 0      149396 non-null int64\n",
      "id              149396 non-null object\n",
      "mb_used         149396 non-null float64\n",
      "session_date    149396 non-null object\n",
      "user_id         149396 non-null int64\n",
      "dtypes: float64(1), int64(2), object(2)\n",
      "memory usage: 5.7+ MB\n"
     ]
    }
   ],
   "source": [
    "internet.info()"
   ]
  },
  {
   "cell_type": "code",
   "execution_count": 8,
   "metadata": {},
   "outputs": [
    {
     "data": {
      "text/html": [
       "<div>\n",
       "<style scoped>\n",
       "    .dataframe tbody tr th:only-of-type {\n",
       "        vertical-align: middle;\n",
       "    }\n",
       "\n",
       "    .dataframe tbody tr th {\n",
       "        vertical-align: top;\n",
       "    }\n",
       "\n",
       "    .dataframe thead th {\n",
       "        text-align: right;\n",
       "    }\n",
       "</style>\n",
       "<table border=\"1\" class=\"dataframe\">\n",
       "  <thead>\n",
       "    <tr style=\"text-align: right;\">\n",
       "      <th></th>\n",
       "      <th>Unnamed: 0</th>\n",
       "      <th>id</th>\n",
       "      <th>mb_used</th>\n",
       "      <th>session_date</th>\n",
       "      <th>user_id</th>\n",
       "    </tr>\n",
       "  </thead>\n",
       "  <tbody>\n",
       "    <tr>\n",
       "      <td>0</td>\n",
       "      <td>0</td>\n",
       "      <td>1000_0</td>\n",
       "      <td>112.95</td>\n",
       "      <td>2018-11-25</td>\n",
       "      <td>1000</td>\n",
       "    </tr>\n",
       "    <tr>\n",
       "      <td>1</td>\n",
       "      <td>1</td>\n",
       "      <td>1000_1</td>\n",
       "      <td>1052.81</td>\n",
       "      <td>2018-09-07</td>\n",
       "      <td>1000</td>\n",
       "    </tr>\n",
       "    <tr>\n",
       "      <td>2</td>\n",
       "      <td>2</td>\n",
       "      <td>1000_2</td>\n",
       "      <td>1197.26</td>\n",
       "      <td>2018-06-25</td>\n",
       "      <td>1000</td>\n",
       "    </tr>\n",
       "    <tr>\n",
       "      <td>3</td>\n",
       "      <td>3</td>\n",
       "      <td>1000_3</td>\n",
       "      <td>550.27</td>\n",
       "      <td>2018-08-22</td>\n",
       "      <td>1000</td>\n",
       "    </tr>\n",
       "    <tr>\n",
       "      <td>4</td>\n",
       "      <td>4</td>\n",
       "      <td>1000_4</td>\n",
       "      <td>302.56</td>\n",
       "      <td>2018-09-24</td>\n",
       "      <td>1000</td>\n",
       "    </tr>\n",
       "  </tbody>\n",
       "</table>\n",
       "</div>"
      ],
      "text/plain": [
       "   Unnamed: 0      id  mb_used session_date  user_id\n",
       "0           0  1000_0   112.95   2018-11-25     1000\n",
       "1           1  1000_1  1052.81   2018-09-07     1000\n",
       "2           2  1000_2  1197.26   2018-06-25     1000\n",
       "3           3  1000_3   550.27   2018-08-22     1000\n",
       "4           4  1000_4   302.56   2018-09-24     1000"
      ]
     },
     "execution_count": 8,
     "metadata": {},
     "output_type": "execute_result"
    }
   ],
   "source": [
    "internet.head()"
   ]
  },
  {
   "cell_type": "code",
   "execution_count": 9,
   "metadata": {},
   "outputs": [
    {
     "data": {
      "text/html": [
       "<div>\n",
       "<style scoped>\n",
       "    .dataframe tbody tr th:only-of-type {\n",
       "        vertical-align: middle;\n",
       "    }\n",
       "\n",
       "    .dataframe tbody tr th {\n",
       "        vertical-align: top;\n",
       "    }\n",
       "\n",
       "    .dataframe thead th {\n",
       "        text-align: right;\n",
       "    }\n",
       "</style>\n",
       "<table border=\"1\" class=\"dataframe\">\n",
       "  <thead>\n",
       "    <tr style=\"text-align: right;\">\n",
       "      <th></th>\n",
       "      <th>id</th>\n",
       "      <th>mb_used</th>\n",
       "      <th>session_date</th>\n",
       "      <th>user_id</th>\n",
       "    </tr>\n",
       "  </thead>\n",
       "  <tbody>\n",
       "    <tr>\n",
       "      <td>0</td>\n",
       "      <td>1000_0</td>\n",
       "      <td>112.95</td>\n",
       "      <td>2018-11-25</td>\n",
       "      <td>1000</td>\n",
       "    </tr>\n",
       "    <tr>\n",
       "      <td>1</td>\n",
       "      <td>1000_1</td>\n",
       "      <td>1052.81</td>\n",
       "      <td>2018-09-07</td>\n",
       "      <td>1000</td>\n",
       "    </tr>\n",
       "    <tr>\n",
       "      <td>2</td>\n",
       "      <td>1000_2</td>\n",
       "      <td>1197.26</td>\n",
       "      <td>2018-06-25</td>\n",
       "      <td>1000</td>\n",
       "    </tr>\n",
       "    <tr>\n",
       "      <td>3</td>\n",
       "      <td>1000_3</td>\n",
       "      <td>550.27</td>\n",
       "      <td>2018-08-22</td>\n",
       "      <td>1000</td>\n",
       "    </tr>\n",
       "    <tr>\n",
       "      <td>4</td>\n",
       "      <td>1000_4</td>\n",
       "      <td>302.56</td>\n",
       "      <td>2018-09-24</td>\n",
       "      <td>1000</td>\n",
       "    </tr>\n",
       "  </tbody>\n",
       "</table>\n",
       "</div>"
      ],
      "text/plain": [
       "       id  mb_used session_date  user_id\n",
       "0  1000_0   112.95   2018-11-25     1000\n",
       "1  1000_1  1052.81   2018-09-07     1000\n",
       "2  1000_2  1197.26   2018-06-25     1000\n",
       "3  1000_3   550.27   2018-08-22     1000\n",
       "4  1000_4   302.56   2018-09-24     1000"
      ]
     },
     "execution_count": 9,
     "metadata": {},
     "output_type": "execute_result"
    }
   ],
   "source": [
    "#столбец Unnamed: 0 нужно удалить, в нем явно индекс\n",
    "internet = internet.drop('Unnamed: 0', axis=1)\n",
    "internet.head()"
   ]
  },
  {
   "cell_type": "code",
   "execution_count": 10,
   "metadata": {},
   "outputs": [
    {
     "data": {
      "text/plain": [
       "id              0\n",
       "mb_used         0\n",
       "session_date    0\n",
       "user_id         0\n",
       "dtype: int64"
      ]
     },
     "execution_count": 10,
     "metadata": {},
     "output_type": "execute_result"
    }
   ],
   "source": [
    "internet.isnull().sum()"
   ]
  },
  {
   "cell_type": "code",
   "execution_count": 11,
   "metadata": {},
   "outputs": [
    {
     "name": "stdout",
     "output_type": "stream",
     "text": [
      "2018-01-01 00:00:00 2018-12-31 00:00:00\n",
      "<class 'pandas.core.frame.DataFrame'>\n",
      "RangeIndex: 149396 entries, 0 to 149395\n",
      "Data columns (total 4 columns):\n",
      "id              149396 non-null object\n",
      "mb_used         149396 non-null float64\n",
      "session_date    149396 non-null datetime64[ns]\n",
      "user_id         149396 non-null int64\n",
      "dtypes: datetime64[ns](1), float64(1), int64(1), object(1)\n",
      "memory usage: 4.6+ MB\n"
     ]
    }
   ],
   "source": [
    "#формат в session_date нужно привести к формату даты\n",
    "internet['session_date'] = pd.to_datetime(internet['session_date'], format='%Y/%m/%d')\n",
    "print(internet['session_date'].min(), internet['session_date'].max())\n",
    "internet.info()"
   ]
  },
  {
   "cell_type": "markdown",
   "metadata": {},
   "source": [
    "Изменили тип данных столбца session_date на datetime для удобства и удалили столбец, который дублировал индексы и, вероятно, был скопирован из выгружаемой таблицы. Об этом желательно написать инженерам по выгрузке данных, чтобы этого не повторялось."
   ]
  },
  {
   "cell_type": "markdown",
   "metadata": {},
   "source": [
    "<a id='4-bullet'></a>\n",
    "#### Изучим данные в таблице 'messages'"
   ]
  },
  {
   "cell_type": "code",
   "execution_count": 12,
   "metadata": {},
   "outputs": [
    {
     "name": "stdout",
     "output_type": "stream",
     "text": [
      "<class 'pandas.core.frame.DataFrame'>\n",
      "RangeIndex: 123036 entries, 0 to 123035\n",
      "Data columns (total 3 columns):\n",
      "id              123036 non-null object\n",
      "message_date    123036 non-null object\n",
      "user_id         123036 non-null int64\n",
      "dtypes: int64(1), object(2)\n",
      "memory usage: 2.8+ MB\n"
     ]
    }
   ],
   "source": [
    "messages.info()"
   ]
  },
  {
   "cell_type": "code",
   "execution_count": 13,
   "metadata": {},
   "outputs": [
    {
     "data": {
      "text/html": [
       "<div>\n",
       "<style scoped>\n",
       "    .dataframe tbody tr th:only-of-type {\n",
       "        vertical-align: middle;\n",
       "    }\n",
       "\n",
       "    .dataframe tbody tr th {\n",
       "        vertical-align: top;\n",
       "    }\n",
       "\n",
       "    .dataframe thead th {\n",
       "        text-align: right;\n",
       "    }\n",
       "</style>\n",
       "<table border=\"1\" class=\"dataframe\">\n",
       "  <thead>\n",
       "    <tr style=\"text-align: right;\">\n",
       "      <th></th>\n",
       "      <th>id</th>\n",
       "      <th>message_date</th>\n",
       "      <th>user_id</th>\n",
       "    </tr>\n",
       "  </thead>\n",
       "  <tbody>\n",
       "    <tr>\n",
       "      <td>0</td>\n",
       "      <td>1000_0</td>\n",
       "      <td>2018-06-27</td>\n",
       "      <td>1000</td>\n",
       "    </tr>\n",
       "    <tr>\n",
       "      <td>1</td>\n",
       "      <td>1000_1</td>\n",
       "      <td>2018-10-08</td>\n",
       "      <td>1000</td>\n",
       "    </tr>\n",
       "    <tr>\n",
       "      <td>2</td>\n",
       "      <td>1000_2</td>\n",
       "      <td>2018-08-04</td>\n",
       "      <td>1000</td>\n",
       "    </tr>\n",
       "    <tr>\n",
       "      <td>3</td>\n",
       "      <td>1000_3</td>\n",
       "      <td>2018-06-16</td>\n",
       "      <td>1000</td>\n",
       "    </tr>\n",
       "    <tr>\n",
       "      <td>4</td>\n",
       "      <td>1000_4</td>\n",
       "      <td>2018-12-05</td>\n",
       "      <td>1000</td>\n",
       "    </tr>\n",
       "  </tbody>\n",
       "</table>\n",
       "</div>"
      ],
      "text/plain": [
       "       id message_date  user_id\n",
       "0  1000_0   2018-06-27     1000\n",
       "1  1000_1   2018-10-08     1000\n",
       "2  1000_2   2018-08-04     1000\n",
       "3  1000_3   2018-06-16     1000\n",
       "4  1000_4   2018-12-05     1000"
      ]
     },
     "execution_count": 13,
     "metadata": {},
     "output_type": "execute_result"
    }
   ],
   "source": [
    "messages.head()"
   ]
  },
  {
   "cell_type": "code",
   "execution_count": 14,
   "metadata": {},
   "outputs": [
    {
     "data": {
      "text/plain": [
       "id              0\n",
       "message_date    0\n",
       "user_id         0\n",
       "dtype: int64"
      ]
     },
     "execution_count": 14,
     "metadata": {},
     "output_type": "execute_result"
    }
   ],
   "source": [
    "messages.isnull().sum()"
   ]
  },
  {
   "cell_type": "code",
   "execution_count": 15,
   "metadata": {},
   "outputs": [
    {
     "name": "stdout",
     "output_type": "stream",
     "text": [
      "2018-01-02 00:00:00 2018-12-31 00:00:00\n",
      "<class 'pandas.core.frame.DataFrame'>\n",
      "RangeIndex: 123036 entries, 0 to 123035\n",
      "Data columns (total 3 columns):\n",
      "id              123036 non-null object\n",
      "message_date    123036 non-null datetime64[ns]\n",
      "user_id         123036 non-null int64\n",
      "dtypes: datetime64[ns](1), int64(1), object(1)\n",
      "memory usage: 2.8+ MB\n"
     ]
    }
   ],
   "source": [
    "#формат в massage_date приведем к формату даты\n",
    "messages['message_date'] = pd.to_datetime(messages['message_date'], format='%Y/%m/%d')\n",
    "print(messages['message_date'].min(), messages['message_date'].max())\n",
    "messages.info()"
   ]
  },
  {
   "cell_type": "code",
   "execution_count": 16,
   "metadata": {},
   "outputs": [
    {
     "data": {
      "text/html": [
       "<div>\n",
       "<style scoped>\n",
       "    .dataframe tbody tr th:only-of-type {\n",
       "        vertical-align: middle;\n",
       "    }\n",
       "\n",
       "    .dataframe tbody tr th {\n",
       "        vertical-align: top;\n",
       "    }\n",
       "\n",
       "    .dataframe thead th {\n",
       "        text-align: right;\n",
       "    }\n",
       "</style>\n",
       "<table border=\"1\" class=\"dataframe\">\n",
       "  <thead>\n",
       "    <tr style=\"text-align: right;\">\n",
       "      <th></th>\n",
       "      <th>id</th>\n",
       "      <th>message_date</th>\n",
       "    </tr>\n",
       "    <tr>\n",
       "      <th>user_id</th>\n",
       "      <th></th>\n",
       "      <th></th>\n",
       "    </tr>\n",
       "  </thead>\n",
       "  <tbody>\n",
       "    <tr>\n",
       "      <td>1000</td>\n",
       "      <td>496</td>\n",
       "      <td>496</td>\n",
       "    </tr>\n",
       "    <tr>\n",
       "      <td>1002</td>\n",
       "      <td>70</td>\n",
       "      <td>70</td>\n",
       "    </tr>\n",
       "    <tr>\n",
       "      <td>1003</td>\n",
       "      <td>380</td>\n",
       "      <td>380</td>\n",
       "    </tr>\n",
       "    <tr>\n",
       "      <td>1004</td>\n",
       "      <td>1192</td>\n",
       "      <td>1192</td>\n",
       "    </tr>\n",
       "    <tr>\n",
       "      <td>1005</td>\n",
       "      <td>552</td>\n",
       "      <td>552</td>\n",
       "    </tr>\n",
       "    <tr>\n",
       "      <td>...</td>\n",
       "      <td>...</td>\n",
       "      <td>...</td>\n",
       "    </tr>\n",
       "    <tr>\n",
       "      <td>1495</td>\n",
       "      <td>340</td>\n",
       "      <td>340</td>\n",
       "    </tr>\n",
       "    <tr>\n",
       "      <td>1496</td>\n",
       "      <td>468</td>\n",
       "      <td>468</td>\n",
       "    </tr>\n",
       "    <tr>\n",
       "      <td>1497</td>\n",
       "      <td>51</td>\n",
       "      <td>51</td>\n",
       "    </tr>\n",
       "    <tr>\n",
       "      <td>1498</td>\n",
       "      <td>168</td>\n",
       "      <td>168</td>\n",
       "    </tr>\n",
       "    <tr>\n",
       "      <td>1499</td>\n",
       "      <td>184</td>\n",
       "      <td>184</td>\n",
       "    </tr>\n",
       "  </tbody>\n",
       "</table>\n",
       "<p>426 rows × 2 columns</p>\n",
       "</div>"
      ],
      "text/plain": [
       "           id  message_date\n",
       "user_id                    \n",
       "1000      496           496\n",
       "1002       70            70\n",
       "1003      380           380\n",
       "1004     1192          1192\n",
       "1005      552           552\n",
       "...       ...           ...\n",
       "1495      340           340\n",
       "1496      468           468\n",
       "1497       51            51\n",
       "1498      168           168\n",
       "1499      184           184\n",
       "\n",
       "[426 rows x 2 columns]"
      ]
     },
     "execution_count": 16,
     "metadata": {},
     "output_type": "execute_result"
    }
   ],
   "source": [
    "messages.pivot_table(index='user_id', aggfunc='count')"
   ]
  },
  {
   "cell_type": "markdown",
   "metadata": {},
   "source": [
    "Изменили тип данных в столбце message_date на datetime для удобства. Исходя из данных, перед нами ровно один год"
   ]
  },
  {
   "cell_type": "markdown",
   "metadata": {},
   "source": [
    "<a id='5-bullet'></a>\n",
    "#### Изучим данные в таблице 'tariffs'"
   ]
  },
  {
   "cell_type": "code",
   "execution_count": 17,
   "metadata": {},
   "outputs": [
    {
     "name": "stdout",
     "output_type": "stream",
     "text": [
      "<class 'pandas.core.frame.DataFrame'>\n",
      "RangeIndex: 2 entries, 0 to 1\n",
      "Data columns (total 8 columns):\n",
      "messages_included        2 non-null int64\n",
      "mb_per_month_included    2 non-null int64\n",
      "minutes_included         2 non-null int64\n",
      "rub_monthly_fee          2 non-null int64\n",
      "rub_per_gb               2 non-null int64\n",
      "rub_per_message          2 non-null int64\n",
      "rub_per_minute           2 non-null int64\n",
      "tariff_name              2 non-null object\n",
      "dtypes: int64(7), object(1)\n",
      "memory usage: 256.0+ bytes\n"
     ]
    }
   ],
   "source": [
    "tariffs.info()"
   ]
  },
  {
   "cell_type": "code",
   "execution_count": 18,
   "metadata": {},
   "outputs": [
    {
     "data": {
      "text/html": [
       "<div>\n",
       "<style scoped>\n",
       "    .dataframe tbody tr th:only-of-type {\n",
       "        vertical-align: middle;\n",
       "    }\n",
       "\n",
       "    .dataframe tbody tr th {\n",
       "        vertical-align: top;\n",
       "    }\n",
       "\n",
       "    .dataframe thead th {\n",
       "        text-align: right;\n",
       "    }\n",
       "</style>\n",
       "<table border=\"1\" class=\"dataframe\">\n",
       "  <thead>\n",
       "    <tr style=\"text-align: right;\">\n",
       "      <th></th>\n",
       "      <th>messages_included</th>\n",
       "      <th>mb_per_month_included</th>\n",
       "      <th>minutes_included</th>\n",
       "      <th>rub_monthly_fee</th>\n",
       "      <th>rub_per_gb</th>\n",
       "      <th>rub_per_message</th>\n",
       "      <th>rub_per_minute</th>\n",
       "      <th>tariff_name</th>\n",
       "    </tr>\n",
       "  </thead>\n",
       "  <tbody>\n",
       "    <tr>\n",
       "      <td>0</td>\n",
       "      <td>50</td>\n",
       "      <td>15360</td>\n",
       "      <td>500</td>\n",
       "      <td>550</td>\n",
       "      <td>200</td>\n",
       "      <td>3</td>\n",
       "      <td>3</td>\n",
       "      <td>smart</td>\n",
       "    </tr>\n",
       "    <tr>\n",
       "      <td>1</td>\n",
       "      <td>1000</td>\n",
       "      <td>30720</td>\n",
       "      <td>3000</td>\n",
       "      <td>1950</td>\n",
       "      <td>150</td>\n",
       "      <td>1</td>\n",
       "      <td>1</td>\n",
       "      <td>ultra</td>\n",
       "    </tr>\n",
       "  </tbody>\n",
       "</table>\n",
       "</div>"
      ],
      "text/plain": [
       "   messages_included  mb_per_month_included  minutes_included  \\\n",
       "0                 50                  15360               500   \n",
       "1               1000                  30720              3000   \n",
       "\n",
       "   rub_monthly_fee  rub_per_gb  rub_per_message  rub_per_minute tariff_name  \n",
       "0              550         200                3               3       smart  \n",
       "1             1950         150                1               1       ultra  "
      ]
     },
     "execution_count": 18,
     "metadata": {},
     "output_type": "execute_result"
    }
   ],
   "source": [
    "tariffs"
   ]
  },
  {
   "cell_type": "markdown",
   "metadata": {},
   "source": [
    "<a id='6-bullet'></a>\n",
    "#### Изучим данные в таблице 'users'"
   ]
  },
  {
   "cell_type": "code",
   "execution_count": 19,
   "metadata": {},
   "outputs": [
    {
     "name": "stdout",
     "output_type": "stream",
     "text": [
      "<class 'pandas.core.frame.DataFrame'>\n",
      "RangeIndex: 500 entries, 0 to 499\n",
      "Data columns (total 8 columns):\n",
      "user_id       500 non-null int64\n",
      "age           500 non-null int64\n",
      "churn_date    38 non-null object\n",
      "city          500 non-null object\n",
      "first_name    500 non-null object\n",
      "last_name     500 non-null object\n",
      "reg_date      500 non-null object\n",
      "tariff        500 non-null object\n",
      "dtypes: int64(2), object(6)\n",
      "memory usage: 31.4+ KB\n"
     ]
    }
   ],
   "source": [
    "users.info()"
   ]
  },
  {
   "cell_type": "code",
   "execution_count": 20,
   "metadata": {},
   "outputs": [
    {
     "data": {
      "text/html": [
       "<div>\n",
       "<style scoped>\n",
       "    .dataframe tbody tr th:only-of-type {\n",
       "        vertical-align: middle;\n",
       "    }\n",
       "\n",
       "    .dataframe tbody tr th {\n",
       "        vertical-align: top;\n",
       "    }\n",
       "\n",
       "    .dataframe thead th {\n",
       "        text-align: right;\n",
       "    }\n",
       "</style>\n",
       "<table border=\"1\" class=\"dataframe\">\n",
       "  <thead>\n",
       "    <tr style=\"text-align: right;\">\n",
       "      <th></th>\n",
       "      <th>user_id</th>\n",
       "      <th>age</th>\n",
       "      <th>churn_date</th>\n",
       "      <th>city</th>\n",
       "      <th>first_name</th>\n",
       "      <th>last_name</th>\n",
       "      <th>reg_date</th>\n",
       "      <th>tariff</th>\n",
       "    </tr>\n",
       "  </thead>\n",
       "  <tbody>\n",
       "    <tr>\n",
       "      <td>0</td>\n",
       "      <td>1000</td>\n",
       "      <td>52</td>\n",
       "      <td>NaN</td>\n",
       "      <td>Краснодар</td>\n",
       "      <td>Рафаил</td>\n",
       "      <td>Верещагин</td>\n",
       "      <td>2018-05-25</td>\n",
       "      <td>ultra</td>\n",
       "    </tr>\n",
       "    <tr>\n",
       "      <td>1</td>\n",
       "      <td>1001</td>\n",
       "      <td>41</td>\n",
       "      <td>NaN</td>\n",
       "      <td>Москва</td>\n",
       "      <td>Иван</td>\n",
       "      <td>Ежов</td>\n",
       "      <td>2018-11-01</td>\n",
       "      <td>smart</td>\n",
       "    </tr>\n",
       "    <tr>\n",
       "      <td>2</td>\n",
       "      <td>1002</td>\n",
       "      <td>59</td>\n",
       "      <td>NaN</td>\n",
       "      <td>Стерлитамак</td>\n",
       "      <td>Евгений</td>\n",
       "      <td>Абрамович</td>\n",
       "      <td>2018-06-17</td>\n",
       "      <td>smart</td>\n",
       "    </tr>\n",
       "    <tr>\n",
       "      <td>3</td>\n",
       "      <td>1003</td>\n",
       "      <td>23</td>\n",
       "      <td>NaN</td>\n",
       "      <td>Москва</td>\n",
       "      <td>Белла</td>\n",
       "      <td>Белякова</td>\n",
       "      <td>2018-08-17</td>\n",
       "      <td>ultra</td>\n",
       "    </tr>\n",
       "    <tr>\n",
       "      <td>4</td>\n",
       "      <td>1004</td>\n",
       "      <td>68</td>\n",
       "      <td>NaN</td>\n",
       "      <td>Новокузнецк</td>\n",
       "      <td>Татьяна</td>\n",
       "      <td>Авдеенко</td>\n",
       "      <td>2018-05-14</td>\n",
       "      <td>ultra</td>\n",
       "    </tr>\n",
       "  </tbody>\n",
       "</table>\n",
       "</div>"
      ],
      "text/plain": [
       "   user_id  age churn_date         city first_name  last_name    reg_date  \\\n",
       "0     1000   52        NaN    Краснодар     Рафаил  Верещагин  2018-05-25   \n",
       "1     1001   41        NaN       Москва       Иван       Ежов  2018-11-01   \n",
       "2     1002   59        NaN  Стерлитамак    Евгений  Абрамович  2018-06-17   \n",
       "3     1003   23        NaN       Москва      Белла   Белякова  2018-08-17   \n",
       "4     1004   68        NaN  Новокузнецк    Татьяна   Авдеенко  2018-05-14   \n",
       "\n",
       "  tariff  \n",
       "0  ultra  \n",
       "1  smart  \n",
       "2  smart  \n",
       "3  ultra  \n",
       "4  ultra  "
      ]
     },
     "execution_count": 20,
     "metadata": {},
     "output_type": "execute_result"
    }
   ],
   "source": [
    "users.head()"
   ]
  },
  {
   "cell_type": "code",
   "execution_count": 21,
   "metadata": {},
   "outputs": [
    {
     "data": {
      "text/plain": [
       "user_id         0\n",
       "age             0\n",
       "churn_date    462\n",
       "city            0\n",
       "first_name      0\n",
       "last_name       0\n",
       "reg_date        0\n",
       "tariff          0\n",
       "dtype: int64"
      ]
     },
     "execution_count": 21,
     "metadata": {},
     "output_type": "execute_result"
    }
   ],
   "source": [
    "users.isnull().sum()"
   ]
  },
  {
   "cell_type": "code",
   "execution_count": 22,
   "metadata": {},
   "outputs": [
    {
     "name": "stdout",
     "output_type": "stream",
     "text": [
      "<class 'pandas.core.frame.DataFrame'>\n",
      "RangeIndex: 500 entries, 0 to 499\n",
      "Data columns (total 8 columns):\n",
      "user_id       500 non-null int64\n",
      "age           500 non-null int64\n",
      "churn_date    38 non-null datetime64[ns]\n",
      "city          500 non-null object\n",
      "first_name    500 non-null object\n",
      "last_name     500 non-null object\n",
      "reg_date      500 non-null datetime64[ns]\n",
      "tariff        500 non-null object\n",
      "dtypes: datetime64[ns](2), int64(2), object(4)\n",
      "memory usage: 31.4+ KB\n"
     ]
    }
   ],
   "source": [
    "#приведем данные в столбцах reg_date и churn_date к формату даты\n",
    "users['reg_date'] = pd.to_datetime(users['reg_date'], format='%Y/%m/%d')\n",
    "users['churn_date'] = pd.to_datetime(users['churn_date'], format='%Y/%m/%d')\n",
    "users.info()"
   ]
  },
  {
   "cell_type": "code",
   "execution_count": 23,
   "metadata": {},
   "outputs": [
    {
     "data": {
      "text/html": [
       "<div>\n",
       "<style scoped>\n",
       "    .dataframe tbody tr th:only-of-type {\n",
       "        vertical-align: middle;\n",
       "    }\n",
       "\n",
       "    .dataframe tbody tr th {\n",
       "        vertical-align: top;\n",
       "    }\n",
       "\n",
       "    .dataframe thead th {\n",
       "        text-align: right;\n",
       "    }\n",
       "</style>\n",
       "<table border=\"1\" class=\"dataframe\">\n",
       "  <thead>\n",
       "    <tr style=\"text-align: right;\">\n",
       "      <th></th>\n",
       "      <th>user_id</th>\n",
       "      <th>age</th>\n",
       "      <th>churn_date</th>\n",
       "      <th>city</th>\n",
       "      <th>first_name</th>\n",
       "      <th>last_name</th>\n",
       "      <th>reg_date</th>\n",
       "      <th>tariff</th>\n",
       "    </tr>\n",
       "  </thead>\n",
       "  <tbody>\n",
       "    <tr>\n",
       "      <td>289</td>\n",
       "      <td>1289</td>\n",
       "      <td>20</td>\n",
       "      <td>9999-99-99 00:00:00</td>\n",
       "      <td>Москва</td>\n",
       "      <td>Таисия</td>\n",
       "      <td>Богданова</td>\n",
       "      <td>2018-09-01</td>\n",
       "      <td>ultra</td>\n",
       "    </tr>\n",
       "    <tr>\n",
       "      <td>474</td>\n",
       "      <td>1474</td>\n",
       "      <td>66</td>\n",
       "      <td>9999-99-99 00:00:00</td>\n",
       "      <td>Набережные Челны</td>\n",
       "      <td>Олег</td>\n",
       "      <td>Любимов</td>\n",
       "      <td>2018-11-11</td>\n",
       "      <td>ultra</td>\n",
       "    </tr>\n",
       "    <tr>\n",
       "      <td>133</td>\n",
       "      <td>1133</td>\n",
       "      <td>70</td>\n",
       "      <td>9999-99-99 00:00:00</td>\n",
       "      <td>Барнаул</td>\n",
       "      <td>Надежда</td>\n",
       "      <td>Аникина</td>\n",
       "      <td>2018-10-19</td>\n",
       "      <td>smart</td>\n",
       "    </tr>\n",
       "    <tr>\n",
       "      <td>136</td>\n",
       "      <td>1136</td>\n",
       "      <td>39</td>\n",
       "      <td>9999-99-99 00:00:00</td>\n",
       "      <td>Липецк</td>\n",
       "      <td>Пётр</td>\n",
       "      <td>Левин</td>\n",
       "      <td>2018-11-19</td>\n",
       "      <td>smart</td>\n",
       "    </tr>\n",
       "    <tr>\n",
       "      <td>113</td>\n",
       "      <td>1113</td>\n",
       "      <td>52</td>\n",
       "      <td>9999-99-99 00:00:00</td>\n",
       "      <td>Чита</td>\n",
       "      <td>Харитон</td>\n",
       "      <td>Булгаков</td>\n",
       "      <td>2018-01-24</td>\n",
       "      <td>smart</td>\n",
       "    </tr>\n",
       "    <tr>\n",
       "      <td>285</td>\n",
       "      <td>1285</td>\n",
       "      <td>44</td>\n",
       "      <td>9999-99-99 00:00:00</td>\n",
       "      <td>Краснодар</td>\n",
       "      <td>Ефим</td>\n",
       "      <td>Амельченко</td>\n",
       "      <td>2018-02-20</td>\n",
       "      <td>smart</td>\n",
       "    </tr>\n",
       "    <tr>\n",
       "      <td>33</td>\n",
       "      <td>1033</td>\n",
       "      <td>71</td>\n",
       "      <td>9999-99-99 00:00:00</td>\n",
       "      <td>Москва</td>\n",
       "      <td>Лия</td>\n",
       "      <td>Бабушкина</td>\n",
       "      <td>2018-07-15</td>\n",
       "      <td>smart</td>\n",
       "    </tr>\n",
       "  </tbody>\n",
       "</table>\n",
       "</div>"
      ],
      "text/plain": [
       "     user_id  age           churn_date              city first_name  \\\n",
       "289     1289   20  9999-99-99 00:00:00            Москва     Таисия   \n",
       "474     1474   66  9999-99-99 00:00:00  Набережные Челны       Олег   \n",
       "133     1133   70  9999-99-99 00:00:00           Барнаул    Надежда   \n",
       "136     1136   39  9999-99-99 00:00:00            Липецк       Пётр   \n",
       "113     1113   52  9999-99-99 00:00:00              Чита    Харитон   \n",
       "285     1285   44  9999-99-99 00:00:00         Краснодар       Ефим   \n",
       "33      1033   71  9999-99-99 00:00:00            Москва        Лия   \n",
       "\n",
       "      last_name   reg_date tariff  \n",
       "289   Богданова 2018-09-01  ultra  \n",
       "474     Любимов 2018-11-11  ultra  \n",
       "133     Аникина 2018-10-19  smart  \n",
       "136       Левин 2018-11-19  smart  \n",
       "113    Булгаков 2018-01-24  smart  \n",
       "285  Амельченко 2018-02-20  smart  \n",
       "33    Бабушкина 2018-07-15  smart  "
      ]
     },
     "execution_count": 23,
     "metadata": {},
     "output_type": "execute_result"
    }
   ],
   "source": [
    "#пропуски в churn_date означают, что тарифом ещё пользуются. Заменим на заметное значение\n",
    "users['churn_date'] = users['churn_date'].fillna('9999-99-99 00:00:00')\n",
    "users.sample(7)"
   ]
  },
  {
   "cell_type": "code",
   "execution_count": 24,
   "metadata": {},
   "outputs": [
    {
     "data": {
      "text/plain": [
       "user_id       0\n",
       "age           0\n",
       "churn_date    0\n",
       "city          0\n",
       "first_name    0\n",
       "last_name     0\n",
       "reg_date      0\n",
       "tariff        0\n",
       "dtype: int64"
      ]
     },
     "execution_count": 24,
     "metadata": {},
     "output_type": "execute_result"
    }
   ],
   "source": [
    "users.isnull().sum()"
   ]
  },
  {
   "cell_type": "markdown",
   "metadata": {},
   "source": [
    "В столбце churn_date обнаружились пропуски, вероятно, они появились потому, что это активные абоненты. Заменили их на отличительные значения, которые будут заметны."
   ]
  },
  {
   "cell_type": "markdown",
   "metadata": {},
   "source": [
    "<a id='7-bullet'></a>\n",
    "#### Посчитаем количество сделанных звонков и израсходованных минут разговора по месяцам"
   ]
  },
  {
   "cell_type": "code",
   "execution_count": 25,
   "metadata": {},
   "outputs": [
    {
     "name": "stdout",
     "output_type": "stream",
     "text": [
      "1450301\n",
      "1450301\n",
      "\n",
      "202607\n",
      "202607\n"
     ]
    },
    {
     "data": {
      "text/html": [
       "<div>\n",
       "<style scoped>\n",
       "    .dataframe tbody tr th:only-of-type {\n",
       "        vertical-align: middle;\n",
       "    }\n",
       "\n",
       "    .dataframe tbody tr th {\n",
       "        vertical-align: top;\n",
       "    }\n",
       "\n",
       "    .dataframe thead th {\n",
       "        text-align: right;\n",
       "    }\n",
       "</style>\n",
       "<table border=\"1\" class=\"dataframe\">\n",
       "  <thead>\n",
       "    <tr style=\"text-align: right;\">\n",
       "      <th></th>\n",
       "      <th>user_id</th>\n",
       "      <th>month</th>\n",
       "      <th>duration_roundup_sum</th>\n",
       "      <th>duration_roundup_count</th>\n",
       "    </tr>\n",
       "  </thead>\n",
       "  <tbody>\n",
       "    <tr>\n",
       "      <td>0</td>\n",
       "      <td>1000</td>\n",
       "      <td>05</td>\n",
       "      <td>159</td>\n",
       "      <td>22</td>\n",
       "    </tr>\n",
       "    <tr>\n",
       "      <td>1</td>\n",
       "      <td>1000</td>\n",
       "      <td>06</td>\n",
       "      <td>172</td>\n",
       "      <td>43</td>\n",
       "    </tr>\n",
       "    <tr>\n",
       "      <td>2</td>\n",
       "      <td>1000</td>\n",
       "      <td>07</td>\n",
       "      <td>340</td>\n",
       "      <td>47</td>\n",
       "    </tr>\n",
       "    <tr>\n",
       "      <td>3</td>\n",
       "      <td>1000</td>\n",
       "      <td>08</td>\n",
       "      <td>408</td>\n",
       "      <td>52</td>\n",
       "    </tr>\n",
       "    <tr>\n",
       "      <td>4</td>\n",
       "      <td>1000</td>\n",
       "      <td>09</td>\n",
       "      <td>466</td>\n",
       "      <td>58</td>\n",
       "    </tr>\n",
       "  </tbody>\n",
       "</table>\n",
       "</div>"
      ],
      "text/plain": [
       "   user_id month  duration_roundup_sum  duration_roundup_count\n",
       "0     1000    05                   159                      22\n",
       "1     1000    06                   172                      43\n",
       "2     1000    07                   340                      47\n",
       "3     1000    08                   408                      52\n",
       "4     1000    09                   466                      58"
      ]
     },
     "execution_count": 25,
     "metadata": {},
     "output_type": "execute_result"
    }
   ],
   "source": [
    "#посчитаем для каждого пользователя количество сделанных звонков и израсходованных минут разговора по месяцам\n",
    "calls['month'] = pd.to_datetime(calls['call_date']).dt.strftime('%m')\n",
    "calls['duration_roundup'] = calls['duration'].apply(lambda x: int(mt.ceil(x)))\n",
    "\n",
    "calls_month = calls.groupby(['user_id', 'month'])[['duration_roundup']].agg(['sum', 'count']).reset_index()\n",
    "calls_month.columns = ['user_id', 'month', 'duration_roundup_sum', 'duration_roundup_count']\n",
    "\n",
    "print(calls['duration_roundup'].sum())\n",
    "print(calls_month['duration_roundup_sum'].sum())\n",
    "print()\n",
    "print(calls['duration_roundup'].count())\n",
    "print(calls_month['duration_roundup_count'].sum())\n",
    "\n",
    "calls_month.head()"
   ]
  },
  {
   "cell_type": "markdown",
   "metadata": {},
   "source": [
    "<a id='8-bullet'></a>\n",
    "#### Посчитаем количество отправленных сообщений по месяцам"
   ]
  },
  {
   "cell_type": "code",
   "execution_count": 26,
   "metadata": {},
   "outputs": [
    {
     "name": "stdout",
     "output_type": "stream",
     "text": [
      "123036\n",
      "123036\n"
     ]
    },
    {
     "data": {
      "text/html": [
       "<div>\n",
       "<style scoped>\n",
       "    .dataframe tbody tr th:only-of-type {\n",
       "        vertical-align: middle;\n",
       "    }\n",
       "\n",
       "    .dataframe tbody tr th {\n",
       "        vertical-align: top;\n",
       "    }\n",
       "\n",
       "    .dataframe thead th {\n",
       "        text-align: right;\n",
       "    }\n",
       "</style>\n",
       "<table border=\"1\" class=\"dataframe\">\n",
       "  <thead>\n",
       "    <tr style=\"text-align: right;\">\n",
       "      <th></th>\n",
       "      <th>user_id</th>\n",
       "      <th>month</th>\n",
       "      <th>messages_count</th>\n",
       "    </tr>\n",
       "  </thead>\n",
       "  <tbody>\n",
       "    <tr>\n",
       "      <td>0</td>\n",
       "      <td>1000</td>\n",
       "      <td>05</td>\n",
       "      <td>22</td>\n",
       "    </tr>\n",
       "    <tr>\n",
       "      <td>1</td>\n",
       "      <td>1000</td>\n",
       "      <td>06</td>\n",
       "      <td>60</td>\n",
       "    </tr>\n",
       "    <tr>\n",
       "      <td>2</td>\n",
       "      <td>1000</td>\n",
       "      <td>07</td>\n",
       "      <td>75</td>\n",
       "    </tr>\n",
       "    <tr>\n",
       "      <td>3</td>\n",
       "      <td>1000</td>\n",
       "      <td>08</td>\n",
       "      <td>81</td>\n",
       "    </tr>\n",
       "    <tr>\n",
       "      <td>4</td>\n",
       "      <td>1000</td>\n",
       "      <td>09</td>\n",
       "      <td>57</td>\n",
       "    </tr>\n",
       "    <tr>\n",
       "      <td>...</td>\n",
       "      <td>...</td>\n",
       "      <td>...</td>\n",
       "      <td>...</td>\n",
       "    </tr>\n",
       "    <tr>\n",
       "      <td>2712</td>\n",
       "      <td>1498</td>\n",
       "      <td>10</td>\n",
       "      <td>42</td>\n",
       "    </tr>\n",
       "    <tr>\n",
       "      <td>2713</td>\n",
       "      <td>1499</td>\n",
       "      <td>09</td>\n",
       "      <td>11</td>\n",
       "    </tr>\n",
       "    <tr>\n",
       "      <td>2714</td>\n",
       "      <td>1499</td>\n",
       "      <td>10</td>\n",
       "      <td>48</td>\n",
       "    </tr>\n",
       "    <tr>\n",
       "      <td>2715</td>\n",
       "      <td>1499</td>\n",
       "      <td>11</td>\n",
       "      <td>59</td>\n",
       "    </tr>\n",
       "    <tr>\n",
       "      <td>2716</td>\n",
       "      <td>1499</td>\n",
       "      <td>12</td>\n",
       "      <td>66</td>\n",
       "    </tr>\n",
       "  </tbody>\n",
       "</table>\n",
       "<p>2717 rows × 3 columns</p>\n",
       "</div>"
      ],
      "text/plain": [
       "      user_id month  messages_count\n",
       "0        1000    05              22\n",
       "1        1000    06              60\n",
       "2        1000    07              75\n",
       "3        1000    08              81\n",
       "4        1000    09              57\n",
       "...       ...   ...             ...\n",
       "2712     1498    10              42\n",
       "2713     1499    09              11\n",
       "2714     1499    10              48\n",
       "2715     1499    11              59\n",
       "2716     1499    12              66\n",
       "\n",
       "[2717 rows x 3 columns]"
      ]
     },
     "execution_count": 26,
     "metadata": {},
     "output_type": "execute_result"
    }
   ],
   "source": [
    "#посчитаем для каждого пользователя количество отправленных сообщений по месяцам\n",
    "messages['month'] = pd.to_datetime(messages['message_date']).dt.strftime('%m')\n",
    "\n",
    "messages_month = messages.groupby(['user_id', 'month'])[['id']].agg(['count']).reset_index()\n",
    "messages_month.columns = ['user_id', 'month', 'messages_count']\n",
    "\n",
    "print(messages['id'].count())\n",
    "print(messages_month['messages_count'].sum())\n",
    "\n",
    "messages_month"
   ]
  },
  {
   "cell_type": "markdown",
   "metadata": {},
   "source": [
    "<a id='9-bullet'></a>\n",
    "#### Посчитаем объем израсходованного интернет-трафика по месяцам"
   ]
  },
  {
   "cell_type": "code",
   "execution_count": 27,
   "metadata": {},
   "outputs": [
    {
     "name": "stdout",
     "output_type": "stream",
     "text": [
      "55369459\n",
      "55369459\n"
     ]
    },
    {
     "data": {
      "text/html": [
       "<div>\n",
       "<style scoped>\n",
       "    .dataframe tbody tr th:only-of-type {\n",
       "        vertical-align: middle;\n",
       "    }\n",
       "\n",
       "    .dataframe tbody tr th {\n",
       "        vertical-align: top;\n",
       "    }\n",
       "\n",
       "    .dataframe thead th {\n",
       "        text-align: right;\n",
       "    }\n",
       "</style>\n",
       "<table border=\"1\" class=\"dataframe\">\n",
       "  <thead>\n",
       "    <tr style=\"text-align: right;\">\n",
       "      <th></th>\n",
       "      <th>user_id</th>\n",
       "      <th>month</th>\n",
       "      <th>mb_used_roundup_sum</th>\n",
       "    </tr>\n",
       "  </thead>\n",
       "  <tbody>\n",
       "    <tr>\n",
       "      <td>0</td>\n",
       "      <td>1000</td>\n",
       "      <td>05</td>\n",
       "      <td>2256</td>\n",
       "    </tr>\n",
       "    <tr>\n",
       "      <td>1</td>\n",
       "      <td>1000</td>\n",
       "      <td>06</td>\n",
       "      <td>23257</td>\n",
       "    </tr>\n",
       "    <tr>\n",
       "      <td>2</td>\n",
       "      <td>1000</td>\n",
       "      <td>07</td>\n",
       "      <td>14016</td>\n",
       "    </tr>\n",
       "    <tr>\n",
       "      <td>3</td>\n",
       "      <td>1000</td>\n",
       "      <td>08</td>\n",
       "      <td>14070</td>\n",
       "    </tr>\n",
       "    <tr>\n",
       "      <td>4</td>\n",
       "      <td>1000</td>\n",
       "      <td>09</td>\n",
       "      <td>14581</td>\n",
       "    </tr>\n",
       "    <tr>\n",
       "      <td>...</td>\n",
       "      <td>...</td>\n",
       "      <td>...</td>\n",
       "      <td>...</td>\n",
       "    </tr>\n",
       "    <tr>\n",
       "      <td>3198</td>\n",
       "      <td>1498</td>\n",
       "      <td>10</td>\n",
       "      <td>20604</td>\n",
       "    </tr>\n",
       "    <tr>\n",
       "      <td>3199</td>\n",
       "      <td>1499</td>\n",
       "      <td>09</td>\n",
       "      <td>1848</td>\n",
       "    </tr>\n",
       "    <tr>\n",
       "      <td>3200</td>\n",
       "      <td>1499</td>\n",
       "      <td>10</td>\n",
       "      <td>17809</td>\n",
       "    </tr>\n",
       "    <tr>\n",
       "      <td>3201</td>\n",
       "      <td>1499</td>\n",
       "      <td>11</td>\n",
       "      <td>17984</td>\n",
       "    </tr>\n",
       "    <tr>\n",
       "      <td>3202</td>\n",
       "      <td>1499</td>\n",
       "      <td>12</td>\n",
       "      <td>13077</td>\n",
       "    </tr>\n",
       "  </tbody>\n",
       "</table>\n",
       "<p>3203 rows × 3 columns</p>\n",
       "</div>"
      ],
      "text/plain": [
       "      user_id month  mb_used_roundup_sum\n",
       "0        1000    05                 2256\n",
       "1        1000    06                23257\n",
       "2        1000    07                14016\n",
       "3        1000    08                14070\n",
       "4        1000    09                14581\n",
       "...       ...   ...                  ...\n",
       "3198     1498    10                20604\n",
       "3199     1499    09                 1848\n",
       "3200     1499    10                17809\n",
       "3201     1499    11                17984\n",
       "3202     1499    12                13077\n",
       "\n",
       "[3203 rows x 3 columns]"
      ]
     },
     "execution_count": 27,
     "metadata": {},
     "output_type": "execute_result"
    }
   ],
   "source": [
    "#посчитаем для каждого пользователя объем израсходованного интернет-трафика по месяцам\n",
    "internet['month'] = pd.to_datetime(internet['session_date']).dt.strftime('%m')\n",
    "internet['mb_used_roundup'] = internet['mb_used'].apply(lambda x: int(mt.ceil(x)))\n",
    "\n",
    "internet_month = internet.groupby(['user_id', 'month'])[['mb_used_roundup']].agg(['sum']).reset_index()\n",
    "internet_month.columns = ['user_id', 'month', 'mb_used_roundup_sum']\n",
    "\n",
    "print(internet['mb_used_roundup'].sum())\n",
    "print(internet_month['mb_used_roundup_sum'].sum())\n",
    "\n",
    "internet_month"
   ]
  },
  {
   "cell_type": "markdown",
   "metadata": {},
   "source": [
    "<a id='10-bullet'></a>\n",
    "#### Посчитаем выручку с каждого пользователя"
   ]
  },
  {
   "cell_type": "code",
   "execution_count": 28,
   "metadata": {},
   "outputs": [
    {
     "data": {
      "text/html": [
       "<div>\n",
       "<style scoped>\n",
       "    .dataframe tbody tr th:only-of-type {\n",
       "        vertical-align: middle;\n",
       "    }\n",
       "\n",
       "    .dataframe tbody tr th {\n",
       "        vertical-align: top;\n",
       "    }\n",
       "\n",
       "    .dataframe thead th {\n",
       "        text-align: right;\n",
       "    }\n",
       "</style>\n",
       "<table border=\"1\" class=\"dataframe\">\n",
       "  <thead>\n",
       "    <tr style=\"text-align: right;\">\n",
       "      <th></th>\n",
       "      <th>messages_included</th>\n",
       "      <th>mb_per_month_included</th>\n",
       "      <th>minutes_included</th>\n",
       "      <th>rub_monthly_fee</th>\n",
       "      <th>rub_per_gb</th>\n",
       "      <th>rub_per_message</th>\n",
       "      <th>rub_per_minute</th>\n",
       "      <th>tariff</th>\n",
       "    </tr>\n",
       "  </thead>\n",
       "  <tbody>\n",
       "    <tr>\n",
       "      <td>0</td>\n",
       "      <td>50</td>\n",
       "      <td>15360</td>\n",
       "      <td>500</td>\n",
       "      <td>550</td>\n",
       "      <td>200</td>\n",
       "      <td>3</td>\n",
       "      <td>3</td>\n",
       "      <td>smart</td>\n",
       "    </tr>\n",
       "    <tr>\n",
       "      <td>1</td>\n",
       "      <td>1000</td>\n",
       "      <td>30720</td>\n",
       "      <td>3000</td>\n",
       "      <td>1950</td>\n",
       "      <td>150</td>\n",
       "      <td>1</td>\n",
       "      <td>1</td>\n",
       "      <td>ultra</td>\n",
       "    </tr>\n",
       "  </tbody>\n",
       "</table>\n",
       "</div>"
      ],
      "text/plain": [
       "   messages_included  mb_per_month_included  minutes_included  \\\n",
       "0                 50                  15360               500   \n",
       "1               1000                  30720              3000   \n",
       "\n",
       "   rub_monthly_fee  rub_per_gb  rub_per_message  rub_per_minute tariff  \n",
       "0              550         200                3               3  smart  \n",
       "1             1950         150                1               1  ultra  "
      ]
     },
     "execution_count": 28,
     "metadata": {},
     "output_type": "execute_result"
    }
   ],
   "source": [
    "tariffs.columns = ['messages_included', 'mb_per_month_included', 'minutes_included', 'rub_monthly_fee',\n",
    "                  'rub_per_gb', 'rub_per_message', 'rub_per_minute', 'tariff']\n",
    "tariffs"
   ]
  },
  {
   "cell_type": "markdown",
   "metadata": {},
   "source": [
    "<a id='11-bullet'></a>\n",
    "#### Объединим таблицы"
   ]
  },
  {
   "cell_type": "code",
   "execution_count": 29,
   "metadata": {},
   "outputs": [
    {
     "name": "stdout",
     "output_type": "stream",
     "text": [
      "Проверка значений количества звонков:\n",
      "202607\n",
      "202607\n",
      "202607.0\n",
      "\n",
      "Проверка значений продолжительности звонков:\n",
      "1450301\n",
      "1450301\n",
      "1450301.0\n",
      "\n",
      "Проверка значений количества сообщений:\n",
      "123036\n",
      "123036\n",
      "123036.0\n",
      "\n",
      "Проверка значений израсходованных мб:\n",
      "55369459\n",
      "55369459\n",
      "55369459.0\n",
      "\n"
     ]
    },
    {
     "data": {
      "text/html": [
       "<div>\n",
       "<style scoped>\n",
       "    .dataframe tbody tr th:only-of-type {\n",
       "        vertical-align: middle;\n",
       "    }\n",
       "\n",
       "    .dataframe tbody tr th {\n",
       "        vertical-align: top;\n",
       "    }\n",
       "\n",
       "    .dataframe thead th {\n",
       "        text-align: right;\n",
       "    }\n",
       "</style>\n",
       "<table border=\"1\" class=\"dataframe\">\n",
       "  <thead>\n",
       "    <tr style=\"text-align: right;\">\n",
       "      <th></th>\n",
       "      <th>user_id</th>\n",
       "      <th>month</th>\n",
       "      <th>duration_roundup_sum</th>\n",
       "      <th>duration_roundup_count</th>\n",
       "      <th>messages_count</th>\n",
       "      <th>mb_used_roundup_sum</th>\n",
       "      <th>age</th>\n",
       "      <th>churn_date</th>\n",
       "      <th>city</th>\n",
       "      <th>first_name</th>\n",
       "      <th>last_name</th>\n",
       "      <th>reg_date</th>\n",
       "      <th>tariff</th>\n",
       "      <th>messages_included</th>\n",
       "      <th>mb_per_month_included</th>\n",
       "      <th>minutes_included</th>\n",
       "      <th>rub_monthly_fee</th>\n",
       "      <th>rub_per_gb</th>\n",
       "      <th>rub_per_message</th>\n",
       "      <th>rub_per_minute</th>\n",
       "    </tr>\n",
       "  </thead>\n",
       "  <tbody>\n",
       "    <tr>\n",
       "      <td>0</td>\n",
       "      <td>1000</td>\n",
       "      <td>05</td>\n",
       "      <td>159.0</td>\n",
       "      <td>22.0</td>\n",
       "      <td>22.0</td>\n",
       "      <td>2256.0</td>\n",
       "      <td>52</td>\n",
       "      <td>9999-99-99 00:00:00</td>\n",
       "      <td>Краснодар</td>\n",
       "      <td>Рафаил</td>\n",
       "      <td>Верещагин</td>\n",
       "      <td>2018-05-25</td>\n",
       "      <td>ultra</td>\n",
       "      <td>1000</td>\n",
       "      <td>30720</td>\n",
       "      <td>3000</td>\n",
       "      <td>1950</td>\n",
       "      <td>150</td>\n",
       "      <td>1</td>\n",
       "      <td>1</td>\n",
       "    </tr>\n",
       "    <tr>\n",
       "      <td>1</td>\n",
       "      <td>1000</td>\n",
       "      <td>06</td>\n",
       "      <td>172.0</td>\n",
       "      <td>43.0</td>\n",
       "      <td>60.0</td>\n",
       "      <td>23257.0</td>\n",
       "      <td>52</td>\n",
       "      <td>9999-99-99 00:00:00</td>\n",
       "      <td>Краснодар</td>\n",
       "      <td>Рафаил</td>\n",
       "      <td>Верещагин</td>\n",
       "      <td>2018-05-25</td>\n",
       "      <td>ultra</td>\n",
       "      <td>1000</td>\n",
       "      <td>30720</td>\n",
       "      <td>3000</td>\n",
       "      <td>1950</td>\n",
       "      <td>150</td>\n",
       "      <td>1</td>\n",
       "      <td>1</td>\n",
       "    </tr>\n",
       "    <tr>\n",
       "      <td>2</td>\n",
       "      <td>1000</td>\n",
       "      <td>07</td>\n",
       "      <td>340.0</td>\n",
       "      <td>47.0</td>\n",
       "      <td>75.0</td>\n",
       "      <td>14016.0</td>\n",
       "      <td>52</td>\n",
       "      <td>9999-99-99 00:00:00</td>\n",
       "      <td>Краснодар</td>\n",
       "      <td>Рафаил</td>\n",
       "      <td>Верещагин</td>\n",
       "      <td>2018-05-25</td>\n",
       "      <td>ultra</td>\n",
       "      <td>1000</td>\n",
       "      <td>30720</td>\n",
       "      <td>3000</td>\n",
       "      <td>1950</td>\n",
       "      <td>150</td>\n",
       "      <td>1</td>\n",
       "      <td>1</td>\n",
       "    </tr>\n",
       "    <tr>\n",
       "      <td>3</td>\n",
       "      <td>1000</td>\n",
       "      <td>08</td>\n",
       "      <td>408.0</td>\n",
       "      <td>52.0</td>\n",
       "      <td>81.0</td>\n",
       "      <td>14070.0</td>\n",
       "      <td>52</td>\n",
       "      <td>9999-99-99 00:00:00</td>\n",
       "      <td>Краснодар</td>\n",
       "      <td>Рафаил</td>\n",
       "      <td>Верещагин</td>\n",
       "      <td>2018-05-25</td>\n",
       "      <td>ultra</td>\n",
       "      <td>1000</td>\n",
       "      <td>30720</td>\n",
       "      <td>3000</td>\n",
       "      <td>1950</td>\n",
       "      <td>150</td>\n",
       "      <td>1</td>\n",
       "      <td>1</td>\n",
       "    </tr>\n",
       "    <tr>\n",
       "      <td>4</td>\n",
       "      <td>1000</td>\n",
       "      <td>09</td>\n",
       "      <td>466.0</td>\n",
       "      <td>58.0</td>\n",
       "      <td>57.0</td>\n",
       "      <td>14581.0</td>\n",
       "      <td>52</td>\n",
       "      <td>9999-99-99 00:00:00</td>\n",
       "      <td>Краснодар</td>\n",
       "      <td>Рафаил</td>\n",
       "      <td>Верещагин</td>\n",
       "      <td>2018-05-25</td>\n",
       "      <td>ultra</td>\n",
       "      <td>1000</td>\n",
       "      <td>30720</td>\n",
       "      <td>3000</td>\n",
       "      <td>1950</td>\n",
       "      <td>150</td>\n",
       "      <td>1</td>\n",
       "      <td>1</td>\n",
       "    </tr>\n",
       "  </tbody>\n",
       "</table>\n",
       "</div>"
      ],
      "text/plain": [
       "   user_id month  duration_roundup_sum  duration_roundup_count  \\\n",
       "0     1000    05                 159.0                    22.0   \n",
       "1     1000    06                 172.0                    43.0   \n",
       "2     1000    07                 340.0                    47.0   \n",
       "3     1000    08                 408.0                    52.0   \n",
       "4     1000    09                 466.0                    58.0   \n",
       "\n",
       "   messages_count  mb_used_roundup_sum  age           churn_date       city  \\\n",
       "0            22.0               2256.0   52  9999-99-99 00:00:00  Краснодар   \n",
       "1            60.0              23257.0   52  9999-99-99 00:00:00  Краснодар   \n",
       "2            75.0              14016.0   52  9999-99-99 00:00:00  Краснодар   \n",
       "3            81.0              14070.0   52  9999-99-99 00:00:00  Краснодар   \n",
       "4            57.0              14581.0   52  9999-99-99 00:00:00  Краснодар   \n",
       "\n",
       "  first_name  last_name   reg_date tariff  messages_included  \\\n",
       "0     Рафаил  Верещагин 2018-05-25  ultra               1000   \n",
       "1     Рафаил  Верещагин 2018-05-25  ultra               1000   \n",
       "2     Рафаил  Верещагин 2018-05-25  ultra               1000   \n",
       "3     Рафаил  Верещагин 2018-05-25  ultra               1000   \n",
       "4     Рафаил  Верещагин 2018-05-25  ultra               1000   \n",
       "\n",
       "   mb_per_month_included  minutes_included  rub_monthly_fee  rub_per_gb  \\\n",
       "0                  30720              3000             1950         150   \n",
       "1                  30720              3000             1950         150   \n",
       "2                  30720              3000             1950         150   \n",
       "3                  30720              3000             1950         150   \n",
       "4                  30720              3000             1950         150   \n",
       "\n",
       "   rub_per_message  rub_per_minute  \n",
       "0                1               1  \n",
       "1                1               1  \n",
       "2                1               1  \n",
       "3                1               1  \n",
       "4                1               1  "
      ]
     },
     "execution_count": 29,
     "metadata": {},
     "output_type": "execute_result"
    }
   ],
   "source": [
    "#посчитаем для каждого пользователя помесячную выручку с каждого пользователя\n",
    "#вычтите бесплатный лимит из суммарного количества звонков, сообщений и интернет-трафика;\n",
    "#остаток умножьте на значение из тарифного плана;\n",
    "#прибавьте абонентскую плату, соответствующую тарифному плану.\n",
    "\n",
    "data = calls_month.merge(messages_month, how='outer', on=['user_id', 'month'])\n",
    "data = data.merge(internet_month, how='outer', on=['user_id', 'month'])\n",
    "data = data.merge(users, how='outer', on='user_id')\n",
    "data = data.merge(tariffs, how='outer', on='tariff')\n",
    "\n",
    "print('Проверка значений количества звонков:')\n",
    "print(calls['duration_roundup'].count())\n",
    "print(calls_month['duration_roundup_count'].sum())\n",
    "print(data['duration_roundup_count'].sum())\n",
    "print()\n",
    "\n",
    "print('Проверка значений продолжительности звонков:')\n",
    "print(calls['duration_roundup'].sum())\n",
    "print(calls_month['duration_roundup_sum'].sum())\n",
    "print(data['duration_roundup_sum'].sum())\n",
    "print()\n",
    "\n",
    "print('Проверка значений количества сообщений:')\n",
    "print(messages['id'].count())\n",
    "print(messages_month['messages_count'].sum())\n",
    "print(data['messages_count'].sum())\n",
    "print()\n",
    "\n",
    "print('Проверка значений израсходованных мб:')\n",
    "print(internet['mb_used_roundup'].sum())\n",
    "print(internet_month['mb_used_roundup_sum'].sum())\n",
    "print(data['mb_used_roundup_sum'].sum())\n",
    "print()\n",
    "\n",
    "data.head()"
   ]
  },
  {
   "cell_type": "code",
   "execution_count": 30,
   "metadata": {},
   "outputs": [
    {
     "data": {
      "text/plain": [
       "user_id                     0\n",
       "month                       2\n",
       "duration_roundup_sum       42\n",
       "duration_roundup_count     42\n",
       "messages_count            499\n",
       "mb_used_roundup_sum        13\n",
       "age                         0\n",
       "churn_date                  0\n",
       "city                        0\n",
       "first_name                  0\n",
       "last_name                   0\n",
       "reg_date                    0\n",
       "tariff                      0\n",
       "messages_included           0\n",
       "mb_per_month_included       0\n",
       "minutes_included            0\n",
       "rub_monthly_fee             0\n",
       "rub_per_gb                  0\n",
       "rub_per_message             0\n",
       "rub_per_minute              0\n",
       "dtype: int64"
      ]
     },
     "execution_count": 30,
     "metadata": {},
     "output_type": "execute_result"
    }
   ],
   "source": [
    "data.isnull().sum()"
   ]
  },
  {
   "cell_type": "code",
   "execution_count": 31,
   "metadata": {},
   "outputs": [
    {
     "name": "stdout",
     "output_type": "stream",
     "text": [
      "Пропуски в столбце messages_count успешно заменены на 0\n",
      "Пропуски в столбце duration_roundup_sum успешно заменены на 0\n",
      "Пропуски в столбце duration_roundup_count успешно заменены на 0\n",
      "Пропуски в столбце mb_used_roundup_sum успешно заменены на 0\n"
     ]
    },
    {
     "data": {
      "text/plain": [
       "user_id                   0\n",
       "month                     2\n",
       "duration_roundup_sum      0\n",
       "duration_roundup_count    0\n",
       "messages_count            0\n",
       "mb_used_roundup_sum       0\n",
       "age                       0\n",
       "churn_date                0\n",
       "city                      0\n",
       "first_name                0\n",
       "last_name                 0\n",
       "reg_date                  0\n",
       "tariff                    0\n",
       "messages_included         0\n",
       "mb_per_month_included     0\n",
       "minutes_included          0\n",
       "rub_monthly_fee           0\n",
       "rub_per_gb                0\n",
       "rub_per_message           0\n",
       "rub_per_minute            0\n",
       "dtype: int64"
      ]
     },
     "execution_count": 31,
     "metadata": {},
     "output_type": "execute_result"
    }
   ],
   "source": [
    "#вероятно пропуски образовались из-за того, что за указанные месяца по некоторым пользователям не было\n",
    "#минут, мб и смс, заменим все такие пропуски на 0\n",
    "\n",
    "columns = ['messages_count', 'duration_roundup_sum', 'duration_roundup_count', 'mb_used_roundup_sum']\n",
    "\n",
    "for column in columns:\n",
    "    data.loc[data[column].isnull(), column] = 0\n",
    "    data[column].isnull().sum() == 0\n",
    "    print('Пропуски в столбце {} успешно заменены на 0'.format(column))\n",
    "data.isnull().sum()"
   ]
  },
  {
   "cell_type": "code",
   "execution_count": 32,
   "metadata": {},
   "outputs": [
    {
     "name": "stdout",
     "output_type": "stream",
     "text": [
      "(3216, 20)\n",
      "\n",
      "<class 'pandas.core.frame.DataFrame'>\n",
      "Int64Index: 3214 entries, 0 to 3214\n",
      "Data columns (total 20 columns):\n",
      "user_id                   3214 non-null int64\n",
      "month                     3214 non-null object\n",
      "duration_roundup_sum      3214 non-null float64\n",
      "duration_roundup_count    3214 non-null float64\n",
      "messages_count            3214 non-null float64\n",
      "mb_used_roundup_sum       3214 non-null float64\n",
      "age                       3214 non-null int64\n",
      "churn_date                3214 non-null object\n",
      "city                      3214 non-null object\n",
      "first_name                3214 non-null object\n",
      "last_name                 3214 non-null object\n",
      "reg_date                  3214 non-null datetime64[ns]\n",
      "tariff                    3214 non-null object\n",
      "messages_included         3214 non-null int64\n",
      "mb_per_month_included     3214 non-null int64\n",
      "minutes_included          3214 non-null int64\n",
      "rub_monthly_fee           3214 non-null int64\n",
      "rub_per_gb                3214 non-null int64\n",
      "rub_per_message           3214 non-null int64\n",
      "rub_per_minute            3214 non-null int64\n",
      "dtypes: datetime64[ns](1), float64(4), int64(9), object(6)\n",
      "memory usage: 527.3+ KB\n",
      "None\n"
     ]
    }
   ],
   "source": [
    "#есть 2 строки с пропусками в строке месяца, удалим их\n",
    "print(data.shape)\n",
    "print()\n",
    "data.dropna(subset=['month'], inplace=True)\n",
    "print(data.info())"
   ]
  },
  {
   "cell_type": "code",
   "execution_count": 33,
   "metadata": {},
   "outputs": [
    {
     "data": {
      "text/html": [
       "<div>\n",
       "<style scoped>\n",
       "    .dataframe tbody tr th:only-of-type {\n",
       "        vertical-align: middle;\n",
       "    }\n",
       "\n",
       "    .dataframe tbody tr th {\n",
       "        vertical-align: top;\n",
       "    }\n",
       "\n",
       "    .dataframe thead th {\n",
       "        text-align: right;\n",
       "    }\n",
       "</style>\n",
       "<table border=\"1\" class=\"dataframe\">\n",
       "  <thead>\n",
       "    <tr style=\"text-align: right;\">\n",
       "      <th></th>\n",
       "      <th>user_id</th>\n",
       "      <th>month</th>\n",
       "      <th>duration_roundup_sum</th>\n",
       "      <th>duration_roundup_count</th>\n",
       "      <th>messages_count</th>\n",
       "      <th>mb_used_roundup_sum</th>\n",
       "      <th>age</th>\n",
       "      <th>churn_date</th>\n",
       "      <th>city</th>\n",
       "      <th>first_name</th>\n",
       "      <th>...</th>\n",
       "      <th>messages_included</th>\n",
       "      <th>mb_per_month_included</th>\n",
       "      <th>minutes_included</th>\n",
       "      <th>rub_monthly_fee</th>\n",
       "      <th>rub_per_gb</th>\n",
       "      <th>rub_per_message</th>\n",
       "      <th>rub_per_minute</th>\n",
       "      <th>minutes_overrun</th>\n",
       "      <th>messages_overrun</th>\n",
       "      <th>mb_used_overrun</th>\n",
       "    </tr>\n",
       "  </thead>\n",
       "  <tbody>\n",
       "    <tr>\n",
       "      <td>0</td>\n",
       "      <td>1000</td>\n",
       "      <td>05</td>\n",
       "      <td>159.0</td>\n",
       "      <td>22.0</td>\n",
       "      <td>22.0</td>\n",
       "      <td>2256.0</td>\n",
       "      <td>52</td>\n",
       "      <td>9999-99-99 00:00:00</td>\n",
       "      <td>Краснодар</td>\n",
       "      <td>Рафаил</td>\n",
       "      <td>...</td>\n",
       "      <td>1000</td>\n",
       "      <td>30720</td>\n",
       "      <td>3000</td>\n",
       "      <td>1950</td>\n",
       "      <td>150</td>\n",
       "      <td>1</td>\n",
       "      <td>1</td>\n",
       "      <td>-2841.0</td>\n",
       "      <td>-978.0</td>\n",
       "      <td>-28464.0</td>\n",
       "    </tr>\n",
       "    <tr>\n",
       "      <td>1</td>\n",
       "      <td>1000</td>\n",
       "      <td>06</td>\n",
       "      <td>172.0</td>\n",
       "      <td>43.0</td>\n",
       "      <td>60.0</td>\n",
       "      <td>23257.0</td>\n",
       "      <td>52</td>\n",
       "      <td>9999-99-99 00:00:00</td>\n",
       "      <td>Краснодар</td>\n",
       "      <td>Рафаил</td>\n",
       "      <td>...</td>\n",
       "      <td>1000</td>\n",
       "      <td>30720</td>\n",
       "      <td>3000</td>\n",
       "      <td>1950</td>\n",
       "      <td>150</td>\n",
       "      <td>1</td>\n",
       "      <td>1</td>\n",
       "      <td>-2828.0</td>\n",
       "      <td>-940.0</td>\n",
       "      <td>-7463.0</td>\n",
       "    </tr>\n",
       "    <tr>\n",
       "      <td>2</td>\n",
       "      <td>1000</td>\n",
       "      <td>07</td>\n",
       "      <td>340.0</td>\n",
       "      <td>47.0</td>\n",
       "      <td>75.0</td>\n",
       "      <td>14016.0</td>\n",
       "      <td>52</td>\n",
       "      <td>9999-99-99 00:00:00</td>\n",
       "      <td>Краснодар</td>\n",
       "      <td>Рафаил</td>\n",
       "      <td>...</td>\n",
       "      <td>1000</td>\n",
       "      <td>30720</td>\n",
       "      <td>3000</td>\n",
       "      <td>1950</td>\n",
       "      <td>150</td>\n",
       "      <td>1</td>\n",
       "      <td>1</td>\n",
       "      <td>-2660.0</td>\n",
       "      <td>-925.0</td>\n",
       "      <td>-16704.0</td>\n",
       "    </tr>\n",
       "    <tr>\n",
       "      <td>3</td>\n",
       "      <td>1000</td>\n",
       "      <td>08</td>\n",
       "      <td>408.0</td>\n",
       "      <td>52.0</td>\n",
       "      <td>81.0</td>\n",
       "      <td>14070.0</td>\n",
       "      <td>52</td>\n",
       "      <td>9999-99-99 00:00:00</td>\n",
       "      <td>Краснодар</td>\n",
       "      <td>Рафаил</td>\n",
       "      <td>...</td>\n",
       "      <td>1000</td>\n",
       "      <td>30720</td>\n",
       "      <td>3000</td>\n",
       "      <td>1950</td>\n",
       "      <td>150</td>\n",
       "      <td>1</td>\n",
       "      <td>1</td>\n",
       "      <td>-2592.0</td>\n",
       "      <td>-919.0</td>\n",
       "      <td>-16650.0</td>\n",
       "    </tr>\n",
       "    <tr>\n",
       "      <td>4</td>\n",
       "      <td>1000</td>\n",
       "      <td>09</td>\n",
       "      <td>466.0</td>\n",
       "      <td>58.0</td>\n",
       "      <td>57.0</td>\n",
       "      <td>14581.0</td>\n",
       "      <td>52</td>\n",
       "      <td>9999-99-99 00:00:00</td>\n",
       "      <td>Краснодар</td>\n",
       "      <td>Рафаил</td>\n",
       "      <td>...</td>\n",
       "      <td>1000</td>\n",
       "      <td>30720</td>\n",
       "      <td>3000</td>\n",
       "      <td>1950</td>\n",
       "      <td>150</td>\n",
       "      <td>1</td>\n",
       "      <td>1</td>\n",
       "      <td>-2534.0</td>\n",
       "      <td>-943.0</td>\n",
       "      <td>-16139.0</td>\n",
       "    </tr>\n",
       "  </tbody>\n",
       "</table>\n",
       "<p>5 rows × 23 columns</p>\n",
       "</div>"
      ],
      "text/plain": [
       "   user_id month  duration_roundup_sum  duration_roundup_count  \\\n",
       "0     1000    05                 159.0                    22.0   \n",
       "1     1000    06                 172.0                    43.0   \n",
       "2     1000    07                 340.0                    47.0   \n",
       "3     1000    08                 408.0                    52.0   \n",
       "4     1000    09                 466.0                    58.0   \n",
       "\n",
       "   messages_count  mb_used_roundup_sum  age           churn_date       city  \\\n",
       "0            22.0               2256.0   52  9999-99-99 00:00:00  Краснодар   \n",
       "1            60.0              23257.0   52  9999-99-99 00:00:00  Краснодар   \n",
       "2            75.0              14016.0   52  9999-99-99 00:00:00  Краснодар   \n",
       "3            81.0              14070.0   52  9999-99-99 00:00:00  Краснодар   \n",
       "4            57.0              14581.0   52  9999-99-99 00:00:00  Краснодар   \n",
       "\n",
       "  first_name  ... messages_included mb_per_month_included minutes_included  \\\n",
       "0     Рафаил  ...              1000                 30720             3000   \n",
       "1     Рафаил  ...              1000                 30720             3000   \n",
       "2     Рафаил  ...              1000                 30720             3000   \n",
       "3     Рафаил  ...              1000                 30720             3000   \n",
       "4     Рафаил  ...              1000                 30720             3000   \n",
       "\n",
       "   rub_monthly_fee  rub_per_gb  rub_per_message  rub_per_minute  \\\n",
       "0             1950         150                1               1   \n",
       "1             1950         150                1               1   \n",
       "2             1950         150                1               1   \n",
       "3             1950         150                1               1   \n",
       "4             1950         150                1               1   \n",
       "\n",
       "   minutes_overrun  messages_overrun  mb_used_overrun  \n",
       "0          -2841.0            -978.0         -28464.0  \n",
       "1          -2828.0            -940.0          -7463.0  \n",
       "2          -2660.0            -925.0         -16704.0  \n",
       "3          -2592.0            -919.0         -16650.0  \n",
       "4          -2534.0            -943.0         -16139.0  \n",
       "\n",
       "[5 rows x 23 columns]"
      ]
     },
     "execution_count": 33,
     "metadata": {},
     "output_type": "execute_result"
    }
   ],
   "source": [
    "#добавим данные по перерасходу и выручке\n",
    "data['minutes_overrun']  = data['duration_roundup_sum'] - data['minutes_included']\n",
    "data['messages_overrun'] = data['messages_count'] - data['messages_included']\n",
    "data['mb_used_overrun']  = data['mb_used_roundup_sum'] - data['mb_per_month_included'] \n",
    "data.head()"
   ]
  },
  {
   "cell_type": "code",
   "execution_count": 34,
   "metadata": {},
   "outputs": [
    {
     "data": {
      "text/html": [
       "<div>\n",
       "<style scoped>\n",
       "    .dataframe tbody tr th:only-of-type {\n",
       "        vertical-align: middle;\n",
       "    }\n",
       "\n",
       "    .dataframe tbody tr th {\n",
       "        vertical-align: top;\n",
       "    }\n",
       "\n",
       "    .dataframe thead th {\n",
       "        text-align: right;\n",
       "    }\n",
       "</style>\n",
       "<table border=\"1\" class=\"dataframe\">\n",
       "  <thead>\n",
       "    <tr style=\"text-align: right;\">\n",
       "      <th></th>\n",
       "      <th>user_id</th>\n",
       "      <th>month</th>\n",
       "      <th>duration_roundup_sum</th>\n",
       "      <th>duration_roundup_count</th>\n",
       "      <th>messages_count</th>\n",
       "      <th>mb_used_roundup_sum</th>\n",
       "      <th>age</th>\n",
       "      <th>churn_date</th>\n",
       "      <th>city</th>\n",
       "      <th>first_name</th>\n",
       "      <th>...</th>\n",
       "      <th>mb_per_month_included</th>\n",
       "      <th>minutes_included</th>\n",
       "      <th>rub_monthly_fee</th>\n",
       "      <th>rub_per_gb</th>\n",
       "      <th>rub_per_message</th>\n",
       "      <th>rub_per_minute</th>\n",
       "      <th>minutes_overrun</th>\n",
       "      <th>messages_overrun</th>\n",
       "      <th>mb_used_overrun</th>\n",
       "      <th>revenue</th>\n",
       "    </tr>\n",
       "  </thead>\n",
       "  <tbody>\n",
       "    <tr>\n",
       "      <td>1853</td>\n",
       "      <td>1186</td>\n",
       "      <td>08</td>\n",
       "      <td>613.0</td>\n",
       "      <td>86.0</td>\n",
       "      <td>73.0</td>\n",
       "      <td>11323.0</td>\n",
       "      <td>21</td>\n",
       "      <td>9999-99-99 00:00:00</td>\n",
       "      <td>Самара</td>\n",
       "      <td>Рэм</td>\n",
       "      <td>...</td>\n",
       "      <td>15360</td>\n",
       "      <td>500</td>\n",
       "      <td>550</td>\n",
       "      <td>200</td>\n",
       "      <td>3</td>\n",
       "      <td>3</td>\n",
       "      <td>113.0</td>\n",
       "      <td>23.0</td>\n",
       "      <td>-4037.0</td>\n",
       "      <td>958.0</td>\n",
       "    </tr>\n",
       "    <tr>\n",
       "      <td>3213</td>\n",
       "      <td>1489</td>\n",
       "      <td>11</td>\n",
       "      <td>0.0</td>\n",
       "      <td>0.0</td>\n",
       "      <td>20.0</td>\n",
       "      <td>17516.0</td>\n",
       "      <td>35</td>\n",
       "      <td>9999-99-99 00:00:00</td>\n",
       "      <td>Санкт-Петербург</td>\n",
       "      <td>Павел</td>\n",
       "      <td>...</td>\n",
       "      <td>15360</td>\n",
       "      <td>500</td>\n",
       "      <td>550</td>\n",
       "      <td>200</td>\n",
       "      <td>3</td>\n",
       "      <td>3</td>\n",
       "      <td>-500.0</td>\n",
       "      <td>-30.0</td>\n",
       "      <td>2156.0</td>\n",
       "      <td>1150.0</td>\n",
       "    </tr>\n",
       "    <tr>\n",
       "      <td>807</td>\n",
       "      <td>1415</td>\n",
       "      <td>11</td>\n",
       "      <td>627.0</td>\n",
       "      <td>93.0</td>\n",
       "      <td>39.0</td>\n",
       "      <td>26548.0</td>\n",
       "      <td>41</td>\n",
       "      <td>9999-99-99 00:00:00</td>\n",
       "      <td>Москва</td>\n",
       "      <td>Андрей</td>\n",
       "      <td>...</td>\n",
       "      <td>30720</td>\n",
       "      <td>3000</td>\n",
       "      <td>1950</td>\n",
       "      <td>150</td>\n",
       "      <td>1</td>\n",
       "      <td>1</td>\n",
       "      <td>-2373.0</td>\n",
       "      <td>-961.0</td>\n",
       "      <td>-4172.0</td>\n",
       "      <td>1950.0</td>\n",
       "    </tr>\n",
       "    <tr>\n",
       "      <td>2982</td>\n",
       "      <td>1449</td>\n",
       "      <td>10</td>\n",
       "      <td>532.0</td>\n",
       "      <td>87.0</td>\n",
       "      <td>99.0</td>\n",
       "      <td>16185.0</td>\n",
       "      <td>55</td>\n",
       "      <td>9999-99-99 00:00:00</td>\n",
       "      <td>Москва</td>\n",
       "      <td>Дана</td>\n",
       "      <td>...</td>\n",
       "      <td>15360</td>\n",
       "      <td>500</td>\n",
       "      <td>550</td>\n",
       "      <td>200</td>\n",
       "      <td>3</td>\n",
       "      <td>3</td>\n",
       "      <td>32.0</td>\n",
       "      <td>49.0</td>\n",
       "      <td>825.0</td>\n",
       "      <td>993.0</td>\n",
       "    </tr>\n",
       "    <tr>\n",
       "      <td>1544</td>\n",
       "      <td>1121</td>\n",
       "      <td>10</td>\n",
       "      <td>513.0</td>\n",
       "      <td>72.0</td>\n",
       "      <td>46.0</td>\n",
       "      <td>12672.0</td>\n",
       "      <td>62</td>\n",
       "      <td>9999-99-99 00:00:00</td>\n",
       "      <td>Белгород</td>\n",
       "      <td>Марта</td>\n",
       "      <td>...</td>\n",
       "      <td>15360</td>\n",
       "      <td>500</td>\n",
       "      <td>550</td>\n",
       "      <td>200</td>\n",
       "      <td>3</td>\n",
       "      <td>3</td>\n",
       "      <td>13.0</td>\n",
       "      <td>-4.0</td>\n",
       "      <td>-2688.0</td>\n",
       "      <td>589.0</td>\n",
       "    </tr>\n",
       "  </tbody>\n",
       "</table>\n",
       "<p>5 rows × 24 columns</p>\n",
       "</div>"
      ],
      "text/plain": [
       "      user_id month  duration_roundup_sum  duration_roundup_count  \\\n",
       "1853     1186    08                 613.0                    86.0   \n",
       "3213     1489    11                   0.0                     0.0   \n",
       "807      1415    11                 627.0                    93.0   \n",
       "2982     1449    10                 532.0                    87.0   \n",
       "1544     1121    10                 513.0                    72.0   \n",
       "\n",
       "      messages_count  mb_used_roundup_sum  age           churn_date  \\\n",
       "1853            73.0              11323.0   21  9999-99-99 00:00:00   \n",
       "3213            20.0              17516.0   35  9999-99-99 00:00:00   \n",
       "807             39.0              26548.0   41  9999-99-99 00:00:00   \n",
       "2982            99.0              16185.0   55  9999-99-99 00:00:00   \n",
       "1544            46.0              12672.0   62  9999-99-99 00:00:00   \n",
       "\n",
       "                 city first_name  ... mb_per_month_included minutes_included  \\\n",
       "1853           Самара        Рэм  ...                 15360              500   \n",
       "3213  Санкт-Петербург      Павел  ...                 15360              500   \n",
       "807            Москва     Андрей  ...                 30720             3000   \n",
       "2982           Москва       Дана  ...                 15360              500   \n",
       "1544         Белгород      Марта  ...                 15360              500   \n",
       "\n",
       "     rub_monthly_fee  rub_per_gb  rub_per_message  rub_per_minute  \\\n",
       "1853             550         200                3               3   \n",
       "3213             550         200                3               3   \n",
       "807             1950         150                1               1   \n",
       "2982             550         200                3               3   \n",
       "1544             550         200                3               3   \n",
       "\n",
       "      minutes_overrun  messages_overrun  mb_used_overrun  revenue  \n",
       "1853            113.0              23.0          -4037.0    958.0  \n",
       "3213           -500.0             -30.0           2156.0   1150.0  \n",
       "807           -2373.0            -961.0          -4172.0   1950.0  \n",
       "2982             32.0              49.0            825.0    993.0  \n",
       "1544             13.0              -4.0          -2688.0    589.0  \n",
       "\n",
       "[5 rows x 24 columns]"
      ]
     },
     "execution_count": 34,
     "metadata": {},
     "output_type": "execute_result"
    }
   ],
   "source": [
    "def get_revenue(row):\n",
    "    revenue_by_min = 0\n",
    "    revenue_by_messages = 0\n",
    "    revenue_mb = 0\n",
    "    if row['minutes_overrun'] > 0:\n",
    "        revenue_by_min = row['minutes_overrun'] * row['rub_per_minute']\n",
    "    if row['messages_overrun'] > 0:\n",
    "        revenue_by_messages = row['messages_overrun'] * row['rub_per_message']\n",
    "    if row['mb_used_overrun'] > 0:\n",
    "        revenue_mb = (mt.ceil(row['mb_used_overrun'] / 1024)) * row['rub_per_gb']\n",
    "    return row['rub_monthly_fee'] + revenue_by_min + revenue_by_messages + revenue_mb\n",
    "\n",
    "data['revenue'] = data.apply(get_revenue, axis=1)\n",
    "data.sample(5)"
   ]
  },
  {
   "cell_type": "markdown",
   "metadata": {},
   "source": [
    "### 3. Проанализируем данные"
   ]
  },
  {
   "cell_type": "markdown",
   "metadata": {},
   "source": [
    "<a id='12-bullet'></a>\n",
    "#### Посчитаем сколько минут разговора, сообщений и какой объём интернет-трафика требуется пользователям каждого тарифа в месяц"
   ]
  },
  {
   "cell_type": "code",
   "execution_count": 35,
   "metadata": {},
   "outputs": [
    {
     "data": {
      "text/html": [
       "<div>\n",
       "<style scoped>\n",
       "    .dataframe tbody tr th:only-of-type {\n",
       "        vertical-align: middle;\n",
       "    }\n",
       "\n",
       "    .dataframe tbody tr th {\n",
       "        vertical-align: top;\n",
       "    }\n",
       "\n",
       "    .dataframe thead tr th {\n",
       "        text-align: left;\n",
       "    }\n",
       "\n",
       "    .dataframe thead tr:last-of-type th {\n",
       "        text-align: right;\n",
       "    }\n",
       "</style>\n",
       "<table border=\"1\" class=\"dataframe\">\n",
       "  <thead>\n",
       "    <tr>\n",
       "      <th></th>\n",
       "      <th colspan=\"3\" halign=\"left\">mean</th>\n",
       "      <th colspan=\"3\" halign=\"left\">median</th>\n",
       "    </tr>\n",
       "    <tr>\n",
       "      <th></th>\n",
       "      <th>duration_roundup_sum</th>\n",
       "      <th>mb_used_roundup_sum</th>\n",
       "      <th>messages_count</th>\n",
       "      <th>duration_roundup_sum</th>\n",
       "      <th>mb_used_roundup_sum</th>\n",
       "      <th>messages_count</th>\n",
       "    </tr>\n",
       "    <tr>\n",
       "      <th>tariff</th>\n",
       "      <th></th>\n",
       "      <th></th>\n",
       "      <th></th>\n",
       "      <th></th>\n",
       "      <th></th>\n",
       "      <th></th>\n",
       "    </tr>\n",
       "  </thead>\n",
       "  <tbody>\n",
       "    <tr>\n",
       "      <td>smart</td>\n",
       "      <td>417</td>\n",
       "      <td>16229</td>\n",
       "      <td>33</td>\n",
       "      <td>422</td>\n",
       "      <td>16531</td>\n",
       "      <td>28</td>\n",
       "    </tr>\n",
       "    <tr>\n",
       "      <td>ultra</td>\n",
       "      <td>526</td>\n",
       "      <td>19486</td>\n",
       "      <td>49</td>\n",
       "      <td>518</td>\n",
       "      <td>19324</td>\n",
       "      <td>38</td>\n",
       "    </tr>\n",
       "  </tbody>\n",
       "</table>\n",
       "</div>"
      ],
      "text/plain": [
       "                       mean                                     \\\n",
       "       duration_roundup_sum mb_used_roundup_sum messages_count   \n",
       "tariff                                                           \n",
       "smart                   417               16229             33   \n",
       "ultra                   526               19486             49   \n",
       "\n",
       "                     median                                     \n",
       "       duration_roundup_sum mb_used_roundup_sum messages_count  \n",
       "tariff                                                          \n",
       "smart                   422               16531             28  \n",
       "ultra                   518               19324             38  "
      ]
     },
     "execution_count": 35,
     "metadata": {},
     "output_type": "execute_result"
    }
   ],
   "source": [
    "#посчитаем сколько минут разговора, сколько сообщений и какой объём интернет-трафика\n",
    "#требуется пользователям каждого тарифа в месяц\n",
    "\n",
    "data_mean = (data\n",
    "             .pivot_table(index='tariff',\n",
    "                          values=['duration_roundup_sum', 'messages_count', 'mb_used_roundup_sum'],\n",
    "                          aggfunc=['mean', 'median'])\n",
    "             .astype('int')\n",
    "             )\n",
    "data_mean"
   ]
  },
  {
   "cell_type": "code",
   "execution_count": 36,
   "metadata": {},
   "outputs": [
    {
     "data": {
      "text/html": [
       "<div>\n",
       "<style scoped>\n",
       "    .dataframe tbody tr th:only-of-type {\n",
       "        vertical-align: middle;\n",
       "    }\n",
       "\n",
       "    .dataframe tbody tr th {\n",
       "        vertical-align: top;\n",
       "    }\n",
       "\n",
       "    .dataframe thead tr th {\n",
       "        text-align: left;\n",
       "    }\n",
       "\n",
       "    .dataframe thead tr:last-of-type th {\n",
       "        text-align: right;\n",
       "    }\n",
       "</style>\n",
       "<table border=\"1\" class=\"dataframe\">\n",
       "  <thead>\n",
       "    <tr>\n",
       "      <th></th>\n",
       "      <th>mean</th>\n",
       "      <th>median</th>\n",
       "      <th>count</th>\n",
       "      <th>sum</th>\n",
       "    </tr>\n",
       "    <tr>\n",
       "      <th></th>\n",
       "      <th>revenue</th>\n",
       "      <th>revenue</th>\n",
       "      <th>revenue</th>\n",
       "      <th>revenue</th>\n",
       "    </tr>\n",
       "    <tr>\n",
       "      <th>tariff</th>\n",
       "      <th></th>\n",
       "      <th></th>\n",
       "      <th></th>\n",
       "      <th></th>\n",
       "    </tr>\n",
       "  </thead>\n",
       "  <tbody>\n",
       "    <tr>\n",
       "      <td>smart</td>\n",
       "      <td>1294</td>\n",
       "      <td>1038</td>\n",
       "      <td>2229</td>\n",
       "      <td>2885751</td>\n",
       "    </tr>\n",
       "    <tr>\n",
       "      <td>ultra</td>\n",
       "      <td>2071</td>\n",
       "      <td>1950</td>\n",
       "      <td>985</td>\n",
       "      <td>2040000</td>\n",
       "    </tr>\n",
       "  </tbody>\n",
       "</table>\n",
       "</div>"
      ],
      "text/plain": [
       "          mean  median   count      sum\n",
       "       revenue revenue revenue  revenue\n",
       "tariff                                 \n",
       "smart     1294    1038    2229  2885751\n",
       "ultra     2071    1950     985  2040000"
      ]
     },
     "execution_count": 36,
     "metadata": {},
     "output_type": "execute_result"
    }
   ],
   "source": [
    "data_mean = (data\n",
    "             .pivot_table(index='tariff',\n",
    "                          values='revenue',\n",
    "                          aggfunc=['mean', 'median', 'count', 'sum'])\n",
    "             .astype('int')\n",
    "             )\n",
    "data_mean"
   ]
  },
  {
   "cell_type": "markdown",
   "metadata": {},
   "source": [
    "Средний пользователь тарифа:\n",
    "- smart использует 417 минут, 16,2 Гб, 33 СМС и приносит 1294 рублей в месяц.\n",
    "- ultra использует 526 минут, 19,4 Гб, 49 СМС и приносит 2071 рублей в месяц.\n",
    "\n",
    "На первый взгляд кажется, что больше денег приносит тариф ultra, но если сравнивать суммарную выручку выборки, то с заметным отрывом выгоднее для компании окажется тариф smart (2,8 млн руб. на тарифе smart против 2 млн руб на тарифе ultra). Эту гипотезу необходимо исследовать."
   ]
  },
  {
   "cell_type": "markdown",
   "metadata": {},
   "source": [
    "<a id='13-bullet'></a>\n",
    "#### Посчитаем дисперсию, среднее и стандартное отклонение по выбранным метрикам"
   ]
  },
  {
   "cell_type": "code",
   "execution_count": 37,
   "metadata": {},
   "outputs": [
    {
     "name": "stdout",
     "output_type": "stream",
     "text": [
      "В выборке по тарифу smart и метрике minutes: \n",
      " - Дисперсия 36219.31578 \n",
      " - Стандартное отклонение 190.314 \n",
      " - Среднее 417.935\n",
      "\n",
      "В выборке по тарифу smart и метрике messages: \n",
      " - Дисперсия 796.8129584 \n",
      " - Стандартное отклонение 28.2279 \n",
      " - Среднее 33.384\n",
      "\n",
      "В выборке по тарифу smart и метрике mb: \n",
      " - Дисперсия 34545911.13 \n",
      " - Стандартное отклонение 5877.58 \n",
      " - Среднее 16229.2\n",
      "\n",
      "В выборке по тарифу ultra и метрике minutes: \n",
      " - Дисперсия 100873.6334 \n",
      " - Стандартное отклонение 317.606 \n",
      " - Среднее 526.623\n",
      "\n",
      "В выборке по тарифу ultra и метрике messages: \n",
      " - Дисперсия 2285.266143 \n",
      " - Стандартное отклонение 47.8045 \n",
      " - Среднее 49.3635\n",
      "\n",
      "В выборке по тарифу ultra и метрике mb: \n",
      " - Дисперсия 101935621.0 \n",
      " - Стандартное отклонение 10096.3 \n",
      " - Среднее 19486.9\n",
      "\n"
     ]
    }
   ],
   "source": [
    "#создадим отдельные выборки по тарифам и посчитаем дисперсию, среднее и стандартное отклонение по выбранным метрикам\n",
    "data_smart = data.query('tariff == \"smart\"')\n",
    "data_ultra = data.query('tariff == \"ultra\"')\n",
    "\n",
    "samples = [data_smart, data_ultra]\n",
    "samples_name = [\"smart\", \"ultra\"]\n",
    "\n",
    "for sample_name, sample in zip(samples_name, samples):\n",
    "    minutes = sample['duration_roundup_sum']\n",
    "    messages = sample['messages_count']\n",
    "    mb = sample['mb_used_roundup_sum']\n",
    "    metrics = [minutes, messages, mb]\n",
    "    metrics_name = ['minutes', 'messages', 'mb']\n",
    "    for metric_name, metric in zip(metrics_name, metrics):\n",
    "        variance = np.var(metric, ddof=1)\n",
    "        standard_deviation = np.std(metric, ddof=1)\n",
    "        mean = metric.mean()\n",
    "        print('В выборке по тарифу {} и метрике {}: \\n - Дисперсия {:.10} \\n - Стандартное отклонение {:.6} \\n - Среднее {:.6}'\n",
    "              .format(sample_name, metric_name, variance, standard_deviation, mean))\n",
    "        print()"
   ]
  },
  {
   "cell_type": "markdown",
   "metadata": {},
   "source": [
    "<a id='14-bullet'></a>\n",
    "#### Построим гисторгаммы по выбранным метрикам"
   ]
  },
  {
   "cell_type": "code",
   "execution_count": 38,
   "metadata": {},
   "outputs": [
    {
     "data": {
      "image/png": "[encoded data removed]",
      "text/plain": [
       "<Figure size 432x288 with 1 Axes>"
      ]
     },
     "metadata": {
      "needs_background": "light"
     },
     "output_type": "display_data"
    },
    {
     "name": "stdout",
     "output_type": "stream",
     "text": [
      "count    2229.000000\n",
      "mean      417.934948\n",
      "std       190.313730\n",
      "min         0.000000\n",
      "25%       282.000000\n",
      "50%       422.000000\n",
      "75%       545.000000\n",
      "max      1435.000000\n",
      "Name: duration_roundup_sum, dtype: float64\n"
     ]
    },
    {
     "data": {
      "image/png": "[encoded data removed]",
      "text/plain": [
       "<Figure size 432x288 with 1 Axes>"
      ]
     },
     "metadata": {
      "needs_background": "light"
     },
     "output_type": "display_data"
    },
    {
     "name": "stdout",
     "output_type": "stream",
     "text": [
      "count    2229.000000\n",
      "mean       33.384029\n",
      "std        28.227876\n",
      "min         0.000000\n",
      "25%        10.000000\n",
      "50%        28.000000\n",
      "75%        51.000000\n",
      "max       143.000000\n",
      "Name: messages_count, dtype: float64\n"
     ]
    },
    {
     "data": {
      "image/png": "[encoded data removed]",
      "text/plain": [
       "<Figure size 432x288 with 1 Axes>"
      ]
     },
     "metadata": {
      "needs_background": "light"
     },
     "output_type": "display_data"
    },
    {
     "name": "stdout",
     "output_type": "stream",
     "text": [
      "count     2229.000000\n",
      "mean     16229.188425\n",
      "std       5877.576978\n",
      "min          0.000000\n",
      "25%      12658.000000\n",
      "50%      16531.000000\n",
      "75%      20068.000000\n",
      "max      38610.000000\n",
      "Name: mb_used_roundup_sum, dtype: float64\n"
     ]
    }
   ],
   "source": [
    "#построим гистограммы, опишим распределения\n",
    "\n",
    "minutes_smart = data_smart['duration_roundup_sum']\n",
    "messages_smart = data_smart['messages_count']\n",
    "mb_smart = data_smart['mb_used_roundup_sum']\n",
    "\n",
    "metrics_smart = [minutes_smart, messages_smart, mb_smart]\n",
    "metrics_name = ['minutes', 'messages', 'mb']\n",
    "\n",
    "for metric_name, metric in zip(metrics_name, metrics_smart):\n",
    "    label = 'Выборка тарифа SMART ' + metric_name\n",
    "    metric.hist(color='b', alpha = 0.5, bins=20)\n",
    "    plt.title(label)\n",
    "    plt.show()\n",
    "    print(metric.describe())"
   ]
  },
  {
   "cell_type": "markdown",
   "metadata": {},
   "source": [
    "Гистограммы выборки тарифа SMART по значениям минут и интернета слегка скошенны влево, но в целом распределение больше всего напоминает нормальное. График по сообщениям значительно скошен влево, а у 0 наблюдается пик, предположительно, у клиентов тарифа smart сообщения не пользуются спросом. "
   ]
  },
  {
   "cell_type": "code",
   "execution_count": 39,
   "metadata": {},
   "outputs": [
    {
     "data": {
      "image/png": "[encoded data removed]",
      "text/plain": [
       "<Figure size 432x288 with 1 Axes>"
      ]
     },
     "metadata": {
      "needs_background": "light"
     },
     "output_type": "display_data"
    },
    {
     "data": {
      "image/png": "[encoded data removed]",
      "text/plain": [
       "<Figure size 432x288 with 1 Axes>"
      ]
     },
     "metadata": {
      "needs_background": "light"
     },
     "output_type": "display_data"
    },
    {
     "data": {
      "image/png": "[encoded data removed]",
      "text/plain": [
       "<Figure size 432x288 with 1 Axes>"
      ]
     },
     "metadata": {
      "needs_background": "light"
     },
     "output_type": "display_data"
    }
   ],
   "source": [
    "#data_smart.plot(kind='scatter', x='mb_used_roundup_sum', y='revenue')\n",
    "columns = ['mb_used_roundup_sum', 'duration_roundup_sum', 'messages_count']\n",
    "for column in columns:\n",
    "    data_smart.boxplot(column)\n",
    "    plt.show()"
   ]
  },
  {
   "cell_type": "code",
   "execution_count": 40,
   "metadata": {},
   "outputs": [
    {
     "data": {
      "image/png": "[encoded data removed]",
      "text/plain": [
       "<Figure size 432x288 with 1 Axes>"
      ]
     },
     "metadata": {
      "needs_background": "light"
     },
     "output_type": "display_data"
    },
    {
     "name": "stdout",
     "output_type": "stream",
     "text": [
      "count     985.000000\n",
      "mean      526.623350\n",
      "std       317.606098\n",
      "min         0.000000\n",
      "25%       284.000000\n",
      "50%       518.000000\n",
      "75%       752.000000\n",
      "max      1673.000000\n",
      "Name: duration_roundup_sum, dtype: float64\n"
     ]
    },
    {
     "data": {
      "image/png": "[encoded data removed]",
      "text/plain": [
       "<Figure size 432x288 with 1 Axes>"
      ]
     },
     "metadata": {
      "needs_background": "light"
     },
     "output_type": "display_data"
    },
    {
     "name": "stdout",
     "output_type": "stream",
     "text": [
      "count    985.000000\n",
      "mean      49.363452\n",
      "std       47.804457\n",
      "min        0.000000\n",
      "25%        6.000000\n",
      "50%       38.000000\n",
      "75%       79.000000\n",
      "max      224.000000\n",
      "Name: messages_count, dtype: float64\n"
     ]
    },
    {
     "data": {
      "image/png": "[encoded data removed]",
      "text/plain": [
       "<Figure size 432x288 with 1 Axes>"
      ]
     },
     "metadata": {
      "needs_background": "light"
     },
     "output_type": "display_data"
    },
    {
     "name": "stdout",
     "output_type": "stream",
     "text": [
      "count      985.000000\n",
      "mean     19486.901523\n",
      "std      10096.317202\n",
      "min          0.000000\n",
      "25%      11785.000000\n",
      "50%      19324.000000\n",
      "75%      26863.000000\n",
      "max      49789.000000\n",
      "Name: mb_used_roundup_sum, dtype: float64\n"
     ]
    }
   ],
   "source": [
    "minutes_ultra = data_ultra['duration_roundup_sum']\n",
    "messages_ultra = data_ultra['messages_count']\n",
    "mb_ultra = data_ultra['mb_used_roundup_sum']\n",
    "\n",
    "metrics_ultra = [minutes_ultra, messages_ultra, mb_ultra]\n",
    "metrics_name = ['minutes', 'messages', 'mb']\n",
    "\n",
    "for metric_name, metric in zip(metrics_name, metrics_ultra):\n",
    "    label = 'Выборка тарифа ULTRA ' + metric_name\n",
    "    metric.hist(color = (0.5,0.1,0.5,0.6), alpha = 0.5)\n",
    "    plt.title(label)\n",
    "    plt.show()\n",
    "    print(metric.describe())"
   ]
  },
  {
   "cell_type": "markdown",
   "metadata": {},
   "source": [
    "Гистограммы выборки тарифа ULTRA по значениям минут и интернета слегка скошенны влево, но в целом распределение больше всего напоминает нормальное. График по сообщениям значительно скошен влево, а у 0 наблюдается пик, предположительно, у клиентов тарифа ultra сообщения не пользуются спросом."
   ]
  },
  {
   "cell_type": "code",
   "execution_count": 41,
   "metadata": {},
   "outputs": [
    {
     "data": {
      "image/png": "[encoded data removed]",
      "text/plain": [
       "<Figure size 432x288 with 1 Axes>"
      ]
     },
     "metadata": {
      "needs_background": "light"
     },
     "output_type": "display_data"
    },
    {
     "data": {
      "image/png": "[encoded data removed]",
      "text/plain": [
       "<Figure size 432x288 with 1 Axes>"
      ]
     },
     "metadata": {
      "needs_background": "light"
     },
     "output_type": "display_data"
    },
    {
     "data": {
      "image/png": "[encoded data removed]",
      "text/plain": [
       "<Figure size 432x288 with 1 Axes>"
      ]
     },
     "metadata": {
      "needs_background": "light"
     },
     "output_type": "display_data"
    }
   ],
   "source": [
    "for column in columns:\n",
    "    data_ultra.boxplot(column)\n",
    "    plt.show()"
   ]
  },
  {
   "cell_type": "markdown",
   "metadata": {},
   "source": [
    "Средний пользователь тарифа:\n",
    "- smart использует 417 минут, 16,2 Гб, 33 СМС и приносит 1275 рублей в месяц.\n",
    "- ultra использует 526 минут, 19,4 Гб, 49 СМС и приносит 2075 рублей в месяц.\n",
    "\n",
    "На первый взгляд кажется, что больше денег приносит тариф ultra, но если сравнивать суммарную выручку выборки, то с заметным отрывом выгоднее для компании окажется тариф smart (2,8 млн руб. на тарифе smart против 2 млн руб на тарифе ultra). Эту гипотезу необходимо исследовать.\n",
    "\n",
    "Гистограммы по значениям минут и интернета слегка скошенны влево, но в целом распределение больше всего напоминает нормальное. График по сообщениям значительно скошен влево, а у 0 наблюдается пик, предположительно, у клиентов сообщения не пользуются значительным спросом, чего нельзя сказать про интернет и звонки."
   ]
  },
  {
   "cell_type": "markdown",
   "metadata": {},
   "source": [
    "### 4. Проверим гипотезы"
   ]
  },
  {
   "cell_type": "markdown",
   "metadata": {},
   "source": [
    "<a id='15-bullet'></a>\n",
    "#### Действительно ли средняя выручка пользователей тарифов «Ультра» и «Смарт» различается"
   ]
  },
  {
   "cell_type": "markdown",
   "metadata": {},
   "source": [
    "Предположим, что средняя выручка пользователей тарифов \"Ультра\" и \"Смарт\" не отличается, это будет наша нулевая гипотеза. Альтернатиной гипотезой будет, что средние выручки тарифов отличаются."
   ]
  },
  {
   "cell_type": "code",
   "execution_count": 42,
   "metadata": {},
   "outputs": [
    {
     "name": "stdout",
     "output_type": "stream",
     "text": [
      "Средняя выручка по тарифу ULTRA: 2071.066\n",
      "Средняя выручка по тарифу SMART: 1294.639\n",
      "p-значение: 2.7240946993530856e-246\n",
      "Отвергаем нулевую гипотезу\n"
     ]
    }
   ],
   "source": [
    "data_ultra_rev = data_ultra['revenue']\n",
    "data_smart_rev = data_smart['revenue']\n",
    "\n",
    "alpha = .05\n",
    "\n",
    "results = st.ttest_ind(data_ultra_rev, data_smart_rev, equal_var=False)\n",
    "pvalue = results.pvalue\n",
    "\n",
    "print('Средняя выручка по тарифу ULTRA: {:.7}'.format(data_ultra_rev.mean()))\n",
    "print('Средняя выручка по тарифу SMART: {:.7}'.format(data_smart_rev.mean()))\n",
    "print('p-значение: {}'.format(pvalue))\n",
    "\n",
    "if pvalue < alpha:\n",
    "    print('Отвергаем нулевую гипотезу')\n",
    "else:\n",
    "    print('Не удалось отвергнуть нулевую гипотезу')"
   ]
  },
  {
   "cell_type": "markdown",
   "metadata": {},
   "source": [
    "Разница средней выручки по тарифам значительная. По имеющимся данным нельзя утверждать, что средняя выручка не отличается и что эта разница могла получиться случайно."
   ]
  },
  {
   "cell_type": "markdown",
   "metadata": {},
   "source": [
    "<a id='16-bullet'></a>\n",
    "#### Действительно ли средняя выручка пользователей из Москвы отличается от выручки пользователей из других регионов"
   ]
  },
  {
   "cell_type": "markdown",
   "metadata": {},
   "source": [
    "Предположим, что средняя выручка пользоватлей из Москвы равна выручке пользователей из других регионов, это будет наша нулевая гипотеза. Альтернативной гипотезой будет, что они отличаются. Москва занимает большую долю в выборке данных, поэтому исследовать равенство средних для выборки по Москве и регионам кажется логичной идеей."
   ]
  },
  {
   "cell_type": "code",
   "execution_count": 43,
   "metadata": {},
   "outputs": [
    {
     "name": "stdout",
     "output_type": "stream",
     "text": [
      "Средняя выручка по Москве тарифа ULTRA: 2075.333\n",
      "Средняя выручка по регионам тарифа ULTRA: 2069.803\n",
      "p-значение: 0.84009\n",
      "Не удалось отвергнуть нулевую гипотезу\n"
     ]
    }
   ],
   "source": [
    "#проверим для тарифа ultra\n",
    "moscow_ultra = data_ultra.query('city == \"Москва\"')['revenue']\n",
    "region_ultra = data_ultra.query('city != \"Москва\"')['revenue']\n",
    "\n",
    "alpha = .05\n",
    "\n",
    "results = st.ttest_ind(moscow_ultra, region_ultra, equal_var=False)\n",
    "pvalue = results.pvalue\n",
    "\n",
    "print('Средняя выручка по Москве тарифа ULTRA: {:.7}'.format(moscow_ultra.mean()))\n",
    "print('Средняя выручка по регионам тарифа ULTRA: {:.7}'.format(region_ultra.mean()))\n",
    "print('p-значение: {:.5}'.format(pvalue))\n",
    "\n",
    "if pvalue < alpha:\n",
    "    print('Отвергаем нулевую гипотезу')\n",
    "else:\n",
    "    print('Не удалось отвергнуть нулевую гипотезу')"
   ]
  },
  {
   "cell_type": "code",
   "execution_count": 44,
   "metadata": {},
   "outputs": [
    {
     "name": "stdout",
     "output_type": "stream",
     "text": [
      "Средняя выручка по Москве тарифа SMART: 1245.057\n",
      "Средняя выручка по регионам тарифа SMART: 1305.024\n",
      "p-значение: 0.16424\n",
      "Не удалось отвергнуть нулевую гипотезу\n"
     ]
    }
   ],
   "source": [
    "#проверим для тарифа smart\n",
    "moscow_smart = data_smart.query('city == \"Москва\"')['revenue']\n",
    "region_smart = data_smart.query('city != \"Москва\"')['revenue']\n",
    "\n",
    "alpha = .05\n",
    "\n",
    "results = st.ttest_ind(moscow_smart, region_smart, equal_var=False)\n",
    "pvalue = results.pvalue\n",
    "\n",
    "print('Средняя выручка по Москве тарифа SMART: {:.7}'.format(moscow_smart.mean()))\n",
    "print('Средняя выручка по регионам тарифа SMART: {:.7}'.format(region_smart.mean()))\n",
    "print('p-значение: {:.5}'.format(pvalue))\n",
    "\n",
    "if pvalue < alpha:\n",
    "    print('Отвергаем нулевую гипотезу')\n",
    "else:\n",
    "    print('Не удалось отвергнуть нулевую гипотезу')"
   ]
  },
  {
   "cell_type": "code",
   "execution_count": 45,
   "metadata": {},
   "outputs": [
    {
     "name": "stdout",
     "output_type": "stream",
     "text": [
      "Средняя выручка по Москве: 1550.805\n",
      "Средняя выручка по регионам: 1528.317\n",
      "p-значение: 0.51266\n",
      "Не удалось отвергнуть нулевую гипотезу\n"
     ]
    }
   ],
   "source": [
    "#проверим по всему датасету\n",
    "moscow = data.query('city == \"Москва\"')['revenue']\n",
    "region = data.query('city != \"Москва\"')['revenue']\n",
    "\n",
    "alpha = .05\n",
    "\n",
    "results = st.ttest_ind(moscow, region, equal_var=False)\n",
    "pvalue = results.pvalue\n",
    "\n",
    "print('Средняя выручка по Москве: {:.7}'.format(moscow.mean()))\n",
    "print('Средняя выручка по регионам: {:.7}'.format(region.mean()))\n",
    "print('p-значение: {:.5}'.format(pvalue))\n",
    "\n",
    "if pvalue < alpha:\n",
    "    print('Отвергаем нулевую гипотезу')\n",
    "else:\n",
    "    print('Не удалось отвергнуть нулевую гипотезу')"
   ]
  },
  {
   "cell_type": "markdown",
   "metadata": {},
   "source": [
    "Несмотря на отклонения средней выручки в данных по обоим тарифам и целому датасету мы не смогли отвергнуть нулевую гипотезу.\n",
    "Это означает, что по имеющимся данным с вероятностью в 48% такое или большее различие можно получить случайно."
   ]
  },
  {
   "cell_type": "markdown",
   "metadata": {},
   "source": [
    "### 5. Заключение"
   ]
  },
  {
   "cell_type": "markdown",
   "metadata": {},
   "source": [
    "<a id='17-bullet'></a>\n",
    "#### Общий вывод"
   ]
  },
  {
   "cell_type": "markdown",
   "metadata": {},
   "source": [
    "1. Средний пользователь тарифа:\n",
    "    - smart использует 417 минут, 16,2 Гб, 33 СМС и приносит 1295 рублей в месяц.\n",
    "    - ultra использует 526 минут, 19,4 Гб, 49 СМС и приносит 2071 рублей в месяц.\n",
    "\n",
    "\n",
    "2. У клиентов всех тарифов сообщения не пользуются значительным спросом, чего нельзя сказать про интернет и звонки.\n",
    "\n",
    "\n",
    "3. Разница средней выручки по тарифам значительная (ULTRA 2071 руб/мес, SMART 1295 руб/мес). По имеющимся данным нельзя утверждать, что средняя выручка не отличается и что эта разница могла получиться случайно.\n",
    "\n",
    "\n",
    "4. Несмотря на отклонения средней выручки пользователей Москвы (1551 руб/мес) и регионов (1528 руб/мес) в данных отдельно по тарифам и данных по выборке их всех тарифов мы не смогли отвергнуть нулевую гипотезу. Это означает, что по имеющимся данным с вероятностью в 48% такое или большее различие можно получить случайно.\n",
    "\n",
    "\n",
    "5. По данным текущей выборки можно сказать, что на одного пользователя безусловно выгоднее тариф ULTRA (средняя выручка 2071 руб/мес), но вероятно, таких пользователей в принципе не так много и менее дорогостоящий тариф SMART (средняя выручка 1295 руб/мес) позволит получить больше клиентов."
   ]
  },
  {
   "cell_type": "code",
   "execution_count": null,
   "metadata": {},
   "outputs": [],
   "source": []
  }
 ],
 "metadata": {
  "kernelspec": {
   "display_name": "Python 3",
   "language": "python",
   "name": "python3"
  },
  "language_info": {
   "codemirror_mode": {
    "name": "ipython",
    "version": 3
   },
   "file_extension": ".py",
   "mimetype": "text/x-python",
   "name": "python",
   "nbconvert_exporter": "python",
   "pygments_lexer": "ipython3",
   "version": "3.7.4"
  },
  "toc": {
   "base_numbering": 1,
   "nav_menu": {},
   "number_sections": true,
   "sideBar": true,
   "skip_h1_title": true,
   "title_cell": "Table of Contents",
   "title_sidebar": "Contents",
   "toc_cell": false,
   "toc_position": {},
   "toc_section_display": true,
   "toc_window_display": false
  }
 },
 "nbformat": 4,
 "nbformat_minor": 2
}
